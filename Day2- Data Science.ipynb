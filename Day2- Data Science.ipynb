{
 "cells": [
  {
   "cell_type": "code",
   "execution_count": 1,
   "id": "57cd569a-2bed-44d1-b804-f223ca184aa8",
   "metadata": {},
   "outputs": [],
   "source": [
    "a=10"
   ]
  },
  {
   "cell_type": "code",
   "execution_count": 2,
   "id": "77f8bd8b-b87f-4ff5-abdd-90178c4dfa17",
   "metadata": {},
   "outputs": [],
   "source": [
    "a='c'"
   ]
  },
  {
   "cell_type": "code",
   "execution_count": 3,
   "id": "689c3e47-7e28-44a8-913b-9ff4c8be3d33",
   "metadata": {},
   "outputs": [
    {
     "data": {
      "text/plain": [
       "str"
      ]
     },
     "execution_count": 3,
     "metadata": {},
     "output_type": "execute_result"
    }
   ],
   "source": [
    "type(a)"
   ]
  },
  {
   "cell_type": "code",
   "execution_count": 4,
   "id": "75f3b660-687a-418e-96e6-7718ac34b523",
   "metadata": {},
   "outputs": [
    {
     "name": "stdout",
     "output_type": "stream",
     "text": [
      "My age is 32\n"
     ]
    }
   ],
   "source": [
    "age=32\n",
    "print(\"My age is\",age)"
   ]
  },
  {
   "cell_type": "code",
   "execution_count": 5,
   "id": "c4376ffd-e586-4584-949f-893014d1cc4c",
   "metadata": {},
   "outputs": [
    {
     "name": "stdout",
     "output_type": "stream",
     "text": [
      "my age is: 32\n"
     ]
    }
   ],
   "source": [
    "#fstring. Wont be considered as string\n",
    "print(f\"my age is: {age}\")"
   ]
  },
  {
   "cell_type": "code",
   "execution_count": 6,
   "id": "a7dd6572-7cc9-4018-ac1b-3284896e8699",
   "metadata": {},
   "outputs": [],
   "source": [
    "Salary=145000"
   ]
  },
  {
   "cell_type": "code",
   "execution_count": 7,
   "id": "47cd870c-e905-4858-a1ba-0ae1a395ab05",
   "metadata": {},
   "outputs": [
    {
     "name": "stdout",
     "output_type": "stream",
     "text": [
      "My sal is: 145000\n"
     ]
    }
   ],
   "source": [
    "print(f\"My sal is: {Salary}\")"
   ]
  },
  {
   "cell_type": "code",
   "execution_count": 8,
   "id": "eaeb28ca-78df-4e51-bbcc-7746640a2c03",
   "metadata": {},
   "outputs": [
    {
     "name": "stdout",
     "output_type": "stream",
     "text": [
      "My name is Yoga and age is 39\n",
      "My name is Yoga and age is 39\n"
     ]
    }
   ],
   "source": [
    "##format()\n",
    "\n",
    "name=\"Yoga\"\n",
    "age=39\n",
    "print(\"My name is {} and age is {}\".format(name,age))\n",
    "print(f\"My name is {name} and age is {age}\")"
   ]
  },
  {
   "cell_type": "code",
   "execution_count": 9,
   "id": "e606c36f-b3fa-49e4-a850-6848feb1927c",
   "metadata": {},
   "outputs": [
    {
     "name": "stdout",
     "output_type": "stream",
     "text": [
      "My name is Yoga and age is 39\n"
     ]
    }
   ],
   "source": [
    "# Placeholder\n",
    "print(\"My name is {firstname} and age is {firstage}\".format(firstname=name,firstage=age))"
   ]
  },
  {
   "cell_type": "code",
   "execution_count": 10,
   "id": "ffb0af60-9f1c-4406-9548-e75a6ce9062f",
   "metadata": {},
   "outputs": [
    {
     "name": "stdout",
     "output_type": "stream",
     "text": [
      "My age is 39 and I have completed :BE with the name of Yogalakshmi\n"
     ]
    }
   ],
   "source": [
    "name=\"Yogalakshmi\"\n",
    "age=39\n",
    "degree=\"BE\"\n",
    "\n",
    "print(f\"My age is {age} and I have completed :{degree} with the name of {name}\")"
   ]
  },
  {
   "cell_type": "code",
   "execution_count": 11,
   "id": "c1c04496-9fda-40c3-a961-39e50b4e51fb",
   "metadata": {},
   "outputs": [
    {
     "name": "stdout",
     "output_type": "stream",
     "text": [
      "My age is 39 and I have completed :BE with the name of Yogalakshmi\n"
     ]
    }
   ],
   "source": [
    "print (\"My age is {} and I have completed :{} with the name of {}\".format(age,degree,name))"
   ]
  },
  {
   "cell_type": "markdown",
   "id": "1c3e96d0-6207-4d39-9299-327c65d35042",
   "metadata": {
    "tags": []
   },
   "source": [
    "# Control Flow\n",
    "# Decision Making Statements"
   ]
  },
  {
   "cell_type": "code",
   "execution_count": 12,
   "id": "6f922382-879f-4a12-b528-56c62dcb367b",
   "metadata": {},
   "outputs": [
    {
     "name": "stdout",
     "output_type": "stream",
     "text": [
      "You are allowed to vote\n"
     ]
    }
   ],
   "source": [
    "age=21\n",
    "if age>=18:\n",
    "    print(\"You are allowed to vote\")\n",
    "else:\n",
    "    print(\"You cannot vote\")"
   ]
  },
  {
   "cell_type": "code",
   "execution_count": 13,
   "id": "582ee00d-29f2-4ad7-8c62-fb483317ab96",
   "metadata": {},
   "outputs": [
    {
     "name": "stdin",
     "output_type": "stream",
     "text": [
      "Enter the age 24\n"
     ]
    }
   ],
   "source": [
    "age=input(\"Enter the age\")"
   ]
  },
  {
   "cell_type": "code",
   "execution_count": 14,
   "id": "43df793e-08e3-4f04-bf69-57a657fdb4b6",
   "metadata": {},
   "outputs": [
    {
     "name": "stdin",
     "output_type": "stream",
     "text": [
      "Enter the age 22\n"
     ]
    },
    {
     "name": "stdout",
     "output_type": "stream",
     "text": [
      "You are allowed to vote\n"
     ]
    }
   ],
   "source": [
    "age=int(input(\"Enter the age\"))\n",
    "if age>=18:\n",
    "    print(\"You are allowed to vote\")\n",
    "else:\n",
    "    print(\"You cannot vote\")"
   ]
  },
  {
   "cell_type": "code",
   "execution_count": 15,
   "id": "5393a42d-8937-4106-a7aa-d2cd9caeef6c",
   "metadata": {},
   "outputs": [
    {
     "data": {
      "text/plain": [
       "int"
      ]
     },
     "execution_count": 15,
     "metadata": {},
     "output_type": "execute_result"
    }
   ],
   "source": [
    "type(age)"
   ]
  },
  {
   "cell_type": "code",
   "execution_count": 16,
   "id": "f7de77c4-ecf5-4ef7-a163-39d98358a719",
   "metadata": {},
   "outputs": [
    {
     "name": "stdin",
     "output_type": "stream",
     "text": [
      "Enter the age 60\n"
     ]
    },
    {
     "name": "stdout",
     "output_type": "stream",
     "text": [
      "You are old\n"
     ]
    }
   ],
   "source": [
    "age=int(input(\"Enter the age\"))\n",
    "if age>=18 and age<=45:\n",
    "    print(\"You are young blood\")\n",
    "elif age<18:\n",
    "    print(\"you are a kiddo\")\n",
    "else:\n",
    "    print(\"You are old\")"
   ]
  },
  {
   "cell_type": "code",
   "execution_count": 17,
   "id": "ece0153a-fcb3-4c21-aa7a-6f993e2617d5",
   "metadata": {},
   "outputs": [
    {
     "name": "stdin",
     "output_type": "stream",
     "text": [
      "Enter the age 50\n"
     ]
    },
    {
     "name": "stdout",
     "output_type": "stream",
     "text": [
      "Your application is rejected\n"
     ]
    }
   ],
   "source": [
    "age=int(input(\"Enter the age\"))\n",
    "if age>=18 and age<=45:\n",
    "    print(\"You are young blood\")\n",
    "else:\n",
    "    print(\"Your application is rejected\")"
   ]
  },
  {
   "cell_type": "code",
   "execution_count": 18,
   "id": "6cc7fc65-8d97-4cdd-9971-8aa96b5d6761",
   "metadata": {},
   "outputs": [
    {
     "name": "stdin",
     "output_type": "stream",
     "text": [
      "Enter the total amount: 2000\n"
     ]
    },
    {
     "name": "stdout",
     "output_type": "stream",
     "text": [
      "You get a discount of 20% off and the discount total is 1600.0\n"
     ]
    }
   ],
   "source": [
    "product=int(input(\"Enter the total amount:\"))\n",
    "disc1=product-(product*.2)\n",
    "disc2=product-(product*.3)\n",
    "if product>1000:\n",
    "    print(\"You get a discount of 20% off and the discount total is {}\".format(disc1))\n",
    "else:\n",
    "    print(\"You get a discount of 30% off and the discount total is {}\".format(disc2))"
   ]
  },
  {
   "cell_type": "code",
   "execution_count": 19,
   "id": "ccccb87b-1adc-4973-9499-83f411915400",
   "metadata": {},
   "outputs": [
    {
     "name": "stdin",
     "output_type": "stream",
     "text": [
      "Enter the total amount: 3000\n"
     ]
    }
   ],
   "source": [
    "product=int(input(\"Enter the total amount:\"))\n",
    "disc1=product-(product*.2)\n",
    "disc2=product-(product*.3)\n",
    "disc3=product-(product*.4)\n",
    "if product>3000:\n",
    "    print(\"You get a discount of 20% off and the discount total is {}\".format(disc1))\n",
    "elif product>=2000 and product<=3000:\n",
    "    if product==2999:\n",
    "        print(\"You get a discount of 30% off and u get and an additional gift/ The discount total is {}\".format(disc2))\n",
    "else:\n",
    "    print(\"You get a discount of 40% off and the discount total is {}\".format(disc3))"
   ]
  },
  {
   "cell_type": "code",
   "execution_count": 20,
   "id": "79f9c2cd-fe70-4203-aaef-96f39e9d67eb",
   "metadata": {},
   "outputs": [
    {
     "name": "stdin",
     "output_type": "stream",
     "text": [
      "Enter a number 200\n"
     ]
    },
    {
     "name": "stdout",
     "output_type": "stream",
     "text": [
      "The value is less than 1000\n"
     ]
    }
   ],
   "source": [
    "#Single statement\n",
    "val=int(input('Enter a number'))\n",
    "if val<=999:print(\"The value is less than 1000\")\n",
    "else: print(\"Go home\")"
   ]
  },
  {
   "cell_type": "markdown",
   "id": "a31bce9e-e8c2-4d8d-b674-a8458fbee9d4",
   "metadata": {},
   "source": [
    "# Loops statements\n",
    "1. while loop\n",
    "2. for loop\n",
    "3. Nested loops\n",
    "4. Loop control\n",
    "    - break\n",
    "    - continue\n",
    "    - pass\n"
   ]
  },
  {
   "cell_type": "code",
   "execution_count": 21,
   "id": "dce2b649-da88-49ba-a43a-d3c9d61d60af",
   "metadata": {},
   "outputs": [
    {
     "name": "stdout",
     "output_type": "stream",
     "text": [
      "25\n",
      "26\n",
      "27\n",
      "28\n",
      "29\n",
      "30\n",
      "31\n",
      "32\n",
      "33\n",
      "34\n",
      "35\n",
      "36\n",
      "37\n",
      "38\n",
      "39\n",
      "40\n",
      "41\n",
      "42\n",
      "43\n",
      "44\n",
      "45\n",
      "46\n",
      "47\n",
      "48\n",
      "49\n",
      "50\n",
      "51\n",
      "52\n",
      "53\n",
      "54\n",
      "55\n",
      "56\n",
      "57\n",
      "58\n",
      "59\n",
      "60\n",
      "its time for retirement\n"
     ]
    }
   ],
   "source": [
    "# while loop\n",
    "joining_age=25\n",
    "while(joining_age<=60):\n",
    "    print(joining_age)\n",
    "    joining_age=joining_age+1\n",
    "else:\n",
    "    print(\"its time for retirement\")"
   ]
  },
  {
   "cell_type": "code",
   "execution_count": 22,
   "id": "230223bd-da99-4bb4-906b-aaacce9d0540",
   "metadata": {},
   "outputs": [
    {
     "name": "stdout",
     "output_type": "stream",
     "text": [
      "1000\n",
      "900\n",
      "800\n",
      "700\n",
      "600\n",
      "500\n",
      "400\n",
      "300\n",
      "200\n",
      "100\n",
      "No Cash in ATM\n"
     ]
    }
   ],
   "source": [
    "amount=1000\n",
    "while(amount>0):\n",
    "    print(amount)\n",
    "    amount=amount-100\n",
    "else:\n",
    "    print(\"No Cash in ATM\")"
   ]
  },
  {
   "cell_type": "markdown",
   "id": "2aea7e9f-8182-4717-8c8e-4a4fcb6b4f1a",
   "metadata": {},
   "source": [
    "# For Loop"
   ]
  },
  {
   "cell_type": "code",
   "execution_count": 23,
   "id": "26af0924-cb28-4c83-b0a4-5aa20b25bc9e",
   "metadata": {},
   "outputs": [],
   "source": [
    "lst=[\"Krish\",1,2,3,4,\"apple\",'banana']"
   ]
  },
  {
   "cell_type": "code",
   "execution_count": 24,
   "id": "6ccf1eb3-0ef2-426c-87b7-75ebd30a2dde",
   "metadata": {},
   "outputs": [
    {
     "data": {
      "text/plain": [
       "list"
      ]
     },
     "execution_count": 24,
     "metadata": {},
     "output_type": "execute_result"
    }
   ],
   "source": [
    "type(lst)"
   ]
  },
  {
   "cell_type": "code",
   "execution_count": 25,
   "id": "a26771a1-e929-4807-b8d9-8c4d80780f4a",
   "metadata": {},
   "outputs": [
    {
     "data": {
      "text/plain": [
       "'Krish'"
      ]
     },
     "execution_count": 25,
     "metadata": {},
     "output_type": "execute_result"
    }
   ],
   "source": [
    "lst[0]"
   ]
  },
  {
   "cell_type": "code",
   "execution_count": 26,
   "id": "7652df92-7d1a-4481-b0d4-6d764dcc2b29",
   "metadata": {},
   "outputs": [
    {
     "data": {
      "text/plain": [
       "4"
      ]
     },
     "execution_count": 26,
     "metadata": {},
     "output_type": "execute_result"
    }
   ],
   "source": [
    "lst[4]"
   ]
  },
  {
   "cell_type": "code",
   "execution_count": 27,
   "id": "cf16cefc-9f3b-403f-8364-b24e21ba0b5d",
   "metadata": {},
   "outputs": [
    {
     "name": "stdout",
     "output_type": "stream",
     "text": [
      "Krish\n",
      "1\n",
      "2\n",
      "3\n",
      "4\n",
      "apple\n",
      "banana\n"
     ]
    }
   ],
   "source": [
    "for i in lst:\n",
    "    print(i)"
   ]
  },
  {
   "cell_type": "code",
   "execution_count": 28,
   "id": "c79eeaaf-a2ec-45c0-bd00-9b04e5cc2408",
   "metadata": {},
   "outputs": [],
   "source": [
    "fruits=['Mango','Cherry','Apple','Papaya','Banana']"
   ]
  },
  {
   "cell_type": "code",
   "execution_count": 29,
   "id": "9f01d7b3-1749-45b1-bba9-994fe878b946",
   "metadata": {},
   "outputs": [
    {
     "name": "stdout",
     "output_type": "stream",
     "text": [
      "MangoCherryFruit is cherry\n",
      "ApplePapayaBanana"
     ]
    }
   ],
   "source": [
    "# Prints in the same line\n",
    "for i in fruits:\n",
    "    print(i,end='')\n",
    "    if i=='Cherry':\n",
    "        print('Fruit is cherry')"
   ]
  },
  {
   "cell_type": "code",
   "execution_count": 30,
   "id": "d511c2c2-a1ce-4668-9d77-9fa4fd128079",
   "metadata": {},
   "outputs": [
    {
     "name": "stdout",
     "output_type": "stream",
     "text": [
      "Mango\n",
      "Cherry\n",
      "Fruit is cherry\n",
      "Apple\n",
      "Papaya\n",
      "Banana\n"
     ]
    }
   ],
   "source": [
    "for i in fruits:\n",
    "    print(i)\n",
    "    if i=='Cherry':\n",
    "        print('Fruit is cherry')"
   ]
  },
  {
   "cell_type": "code",
   "execution_count": 31,
   "id": "a12b4898-b438-454b-b4d1-a4fbdfaebeb5",
   "metadata": {},
   "outputs": [
    {
     "name": "stdout",
     "output_type": "stream",
     "text": [
      "M\n",
      "a\n",
      "n\n",
      "g\n",
      "o\n"
     ]
    }
   ],
   "source": [
    "fruit='Mango'\n",
    "for i in fruit:\n",
    "    print(i)"
   ]
  },
  {
   "cell_type": "code",
   "execution_count": 32,
   "id": "0a9f643f-1a60-4886-af23-fba0c08c319f",
   "metadata": {},
   "outputs": [
    {
     "data": {
      "text/plain": [
       "'M'"
      ]
     },
     "execution_count": 32,
     "metadata": {},
     "output_type": "execute_result"
    }
   ],
   "source": [
    "fruit[0]"
   ]
  },
  {
   "cell_type": "code",
   "execution_count": 33,
   "id": "f6098cd2-f0ed-4c59-9d1c-dd6476f97326",
   "metadata": {},
   "outputs": [
    {
     "data": {
      "text/plain": [
       "'a'"
      ]
     },
     "execution_count": 33,
     "metadata": {},
     "output_type": "execute_result"
    }
   ],
   "source": [
    "fruit[1]"
   ]
  },
  {
   "cell_type": "code",
   "execution_count": 34,
   "id": "aea58ee5-ca71-4de1-868f-feadb57b9083",
   "metadata": {},
   "outputs": [
    {
     "data": {
      "text/plain": [
       "'n'"
      ]
     },
     "execution_count": 34,
     "metadata": {},
     "output_type": "execute_result"
    }
   ],
   "source": [
    "fruit[2]"
   ]
  },
  {
   "cell_type": "code",
   "execution_count": 35,
   "id": "9a1bd127-8528-4d92-9161-eddd5f799dec",
   "metadata": {},
   "outputs": [
    {
     "name": "stdout",
     "output_type": "stream",
     "text": [
      "Mango"
     ]
    }
   ],
   "source": [
    "fruit='Mango'\n",
    "for i in fruit:\n",
    "    print(i,end='')"
   ]
  },
  {
   "cell_type": "code",
   "execution_count": null,
   "id": "5f21f35f-893d-4735-82fb-a3b9bc901aed",
   "metadata": {},
   "outputs": [],
   "source": []
  },
  {
   "cell_type": "code",
   "execution_count": 36,
   "id": "53116f7b-ca92-4769-99b3-66b54c61b3a8",
   "metadata": {},
   "outputs": [
    {
     "name": "stdout",
     "output_type": "stream",
     "text": [
      "1\n",
      "2\n",
      "3\n",
      "4\n",
      "5\n"
     ]
    }
   ],
   "source": [
    "for i in range(1,6):\n",
    "    print(i)"
   ]
  },
  {
   "cell_type": "code",
   "execution_count": 37,
   "id": "e4bc14f2-b63a-4c4e-a94c-999d523deb2e",
   "metadata": {},
   "outputs": [
    {
     "name": "stdout",
     "output_type": "stream",
     "text": [
      "1\n",
      "3\n",
      "5\n"
     ]
    }
   ],
   "source": [
    "for i in range(1,6,2):\n",
    "    print(i)"
   ]
  },
  {
   "cell_type": "code",
   "execution_count": 38,
   "id": "37913b0e-1062-4312-b662-e96823e31e64",
   "metadata": {},
   "outputs": [
    {
     "name": "stdout",
     "output_type": "stream",
     "text": [
      "0\n",
      "2\n",
      "4\n"
     ]
    }
   ],
   "source": [
    "for i in range(0,6,2):\n",
    "    print(i)"
   ]
  },
  {
   "cell_type": "code",
   "execution_count": 39,
   "id": "a78a875b-9dbb-41aa-8dc2-217e46a0c8c9",
   "metadata": {},
   "outputs": [
    {
     "name": "stdout",
     "output_type": "stream",
     "text": [
      "****************************"
     ]
    }
   ],
   "source": [
    "##Nested loop\n",
    "n=7\n",
    "for i in range(0,n):\n",
    "    for j in range(0,i+1):\n",
    "        print(\"*\",end='')"
   ]
  },
  {
   "cell_type": "code",
   "execution_count": 40,
   "id": "37076e4d-492e-4192-ba6b-dd764420d6e6",
   "metadata": {},
   "outputs": [
    {
     "name": "stdout",
     "output_type": "stream",
     "text": [
      "*\n",
      "**\n",
      "***\n",
      "****\n",
      "*****\n",
      "******\n",
      "*******\n"
     ]
    }
   ],
   "source": [
    "##Nested loop\n",
    "n=7\n",
    "for i in range(0,n):\n",
    "    for j in range(0,i+1):\n",
    "        print(\"*\",end='')\n",
    "    print('\\r')"
   ]
  },
  {
   "cell_type": "markdown",
   "id": "e8c1f96b-69ab-49d5-b4f7-f09f191deeaf",
   "metadata": {},
   "source": [
    "# Break statement"
   ]
  },
  {
   "cell_type": "code",
   "execution_count": 43,
   "id": "ed50e136-b3e7-40db-9c00-7bb9503182c0",
   "metadata": {},
   "outputs": [
    {
     "name": "stdout",
     "output_type": "stream",
     "text": [
      "Mango\n",
      "Fruit is cherry\n"
     ]
    }
   ],
   "source": [
    "for i in fruits:\n",
    "    if i=='Cherry':\n",
    "        print('Fruit is cherry')\n",
    "        break\n",
    "    print(i)"
   ]
  },
  {
   "cell_type": "code",
   "execution_count": 44,
   "id": "5a18c1a3-46e2-4890-834b-cf59f187a532",
   "metadata": {},
   "outputs": [
    {
     "data": {
      "text/plain": [
       "['Mango', 'Cherry', 'Apple', 'Papaya', 'Banana']"
      ]
     },
     "execution_count": 44,
     "metadata": {},
     "output_type": "execute_result"
    }
   ],
   "source": [
    "fruits"
   ]
  },
  {
   "cell_type": "markdown",
   "id": "dccd6212-06e5-4171-9455-36bb02823c0c",
   "metadata": {},
   "source": [
    "# Pass statement"
   ]
  },
  {
   "cell_type": "code",
   "execution_count": 45,
   "id": "0bd40b95-15e4-4701-a7cf-d4b19493fff8",
   "metadata": {},
   "outputs": [
    {
     "name": "stdout",
     "output_type": "stream",
     "text": [
      "Mango\n",
      "Fruit is cherry\n",
      "Cherry\n",
      "Apple\n",
      "Papaya\n",
      "Banana\n"
     ]
    }
   ],
   "source": [
    "for i in fruits:\n",
    "    if i=='Cherry':\n",
    "        print('Fruit is cherry')\n",
    "        pass\n",
    "    print(i)"
   ]
  },
  {
   "cell_type": "markdown",
   "id": "1ce1909a-b4f8-48d0-b9d2-3816cbf5d1d3",
   "metadata": {},
   "source": [
    "# Continue statement"
   ]
  },
  {
   "cell_type": "code",
   "execution_count": 46,
   "id": "71cd4f25-d5dc-4a0f-828a-bfcd4ba238d5",
   "metadata": {},
   "outputs": [
    {
     "name": "stdout",
     "output_type": "stream",
     "text": [
      "Mango\n",
      "Fruit is cherry\n",
      "Apple\n",
      "Papaya\n",
      "Banana\n"
     ]
    }
   ],
   "source": [
    "for i in fruits:\n",
    "    if i=='Cherry':\n",
    "        print('Fruit is cherry')\n",
    "        continue\n",
    "    print(i)"
   ]
  },
  {
   "cell_type": "code",
   "execution_count": null,
   "id": "b0861369-056e-4327-a1a0-f25d1572d457",
   "metadata": {},
   "outputs": [],
   "source": []
  }
 ],
 "metadata": {
  "kernelspec": {
   "display_name": "Python 3 (ipykernel)",
   "language": "python",
   "name": "python3"
  },
  "language_info": {
   "codemirror_mode": {
    "name": "ipython",
    "version": 3
   },
   "file_extension": ".py",
   "mimetype": "text/x-python",
   "name": "python",
   "nbconvert_exporter": "python",
   "pygments_lexer": "ipython3",
   "version": "3.10.8"
  }
 },
 "nbformat": 4,
 "nbformat_minor": 5
}
