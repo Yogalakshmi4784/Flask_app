{
 "cells": [
  {
   "cell_type": "code",
   "execution_count": 1,
   "id": "4ad386bb-1a45-42d3-82a5-7877472cd3d5",
   "metadata": {},
   "outputs": [],
   "source": [
    "class arithmetic:\n",
    "    def __init__(self,a,b):\n",
    "        self.a=a\n",
    "        self.b=b\n",
    "        \n",
    "    def addition(self):\n",
    "        print(self.a+self.b)\n",
    "        \n",
    "    def subtraction(self):\n",
    "        print(self.a-self.b)\n",
    "        \n",
    "    def multiplication(self):\n",
    "        print(self.a*self.b)\n",
    "        \n",
    "    def division(self):\n",
    "        print(self.a/self.b)"
   ]
  },
  {
   "cell_type": "code",
   "execution_count": 2,
   "id": "ffc18a7f-96e6-486f-9a1f-5f76940e4420",
   "metadata": {},
   "outputs": [],
   "source": [
    "vani=arithmetic(2,3)"
   ]
  },
  {
   "cell_type": "code",
   "execution_count": 4,
   "id": "7db44e42-cd3b-4a6f-bbbc-51dee2f70697",
   "metadata": {},
   "outputs": [
    {
     "name": "stdout",
     "output_type": "stream",
     "text": [
      "5\n"
     ]
    }
   ],
   "source": [
    "vani.addition()"
   ]
  },
  {
   "cell_type": "code",
   "execution_count": 5,
   "id": "9dc51586-547e-412e-b46e-03a9ec7e40a4",
   "metadata": {},
   "outputs": [
    {
     "name": "stdout",
     "output_type": "stream",
     "text": [
      "-1\n"
     ]
    }
   ],
   "source": [
    "vani.subtraction()"
   ]
  },
  {
   "cell_type": "code",
   "execution_count": 6,
   "id": "afec9882-a77c-4ea5-8bc6-ba547289093a",
   "metadata": {},
   "outputs": [
    {
     "name": "stdout",
     "output_type": "stream",
     "text": [
      "6\n"
     ]
    }
   ],
   "source": [
    "vani.multiplication()"
   ]
  },
  {
   "cell_type": "code",
   "execution_count": 7,
   "id": "fde2fd48-a830-4683-b40b-a27eb3f8248f",
   "metadata": {},
   "outputs": [
    {
     "name": "stdout",
     "output_type": "stream",
     "text": [
      "0.6666666666666666\n"
     ]
    }
   ],
   "source": [
    "vani.division()"
   ]
  },
  {
   "cell_type": "code",
   "execution_count": null,
   "id": "b6e3f127-6a49-40fd-bfaf-a53e081af708",
   "metadata": {},
   "outputs": [],
   "source": []
  }
 ],
 "metadata": {
  "kernelspec": {
   "display_name": "Python 3 (ipykernel)",
   "language": "python",
   "name": "python3"
  },
  "language_info": {
   "codemirror_mode": {
    "name": "ipython",
    "version": 3
   },
   "file_extension": ".py",
   "mimetype": "text/x-python",
   "name": "python",
   "nbconvert_exporter": "python",
   "pygments_lexer": "ipython3",
   "version": "3.10.8"
  }
 },
 "nbformat": 4,
 "nbformat_minor": 5
}
