{
 "cells": [
  {
   "cell_type": "code",
   "execution_count": 1,
   "id": "779f991d-1274-4812-a755-f9896f7fbb16",
   "metadata": {},
   "outputs": [],
   "source": [
    "s={}"
   ]
  },
  {
   "cell_type": "code",
   "execution_count": 3,
   "id": "b6d8ba9a-9ffb-469c-ac54-bc678e93c9c3",
   "metadata": {},
   "outputs": [
    {
     "data": {
      "text/plain": [
       "dict"
      ]
     },
     "execution_count": 3,
     "metadata": {},
     "output_type": "execute_result"
    }
   ],
   "source": [
    "type(s)"
   ]
  },
  {
   "cell_type": "code",
   "execution_count": 4,
   "id": "d33b2ed9-296a-4773-8203-7d7fc5813f80",
   "metadata": {},
   "outputs": [],
   "source": [
    "s1={1,2,3,4,5,6}"
   ]
  },
  {
   "cell_type": "code",
   "execution_count": 5,
   "id": "f9ecb7d3-d77b-4105-9630-2df9fb496a6a",
   "metadata": {},
   "outputs": [
    {
     "data": {
      "text/plain": [
       "set"
      ]
     },
     "execution_count": 5,
     "metadata": {},
     "output_type": "execute_result"
    }
   ],
   "source": [
    "type(s1)"
   ]
  },
  {
   "cell_type": "markdown",
   "id": "72e038dc-8448-4a15-888d-739792943d08",
   "metadata": {},
   "source": [
    "# Does not allow duplicate values"
   ]
  },
  {
   "cell_type": "code",
   "execution_count": 8,
   "id": "e79f2475-7e08-400c-93a2-43cc36696d45",
   "metadata": {},
   "outputs": [],
   "source": [
    "s2={2,2,3,4,5,6,3,4,5,6}"
   ]
  },
  {
   "cell_type": "code",
   "execution_count": 9,
   "id": "37efd796-7897-4fd8-b208-b28fbf90a319",
   "metadata": {},
   "outputs": [
    {
     "data": {
      "text/plain": [
       "{2, 3, 4, 5, 6}"
      ]
     },
     "execution_count": 9,
     "metadata": {},
     "output_type": "execute_result"
    }
   ],
   "source": [
    "s2"
   ]
  },
  {
   "cell_type": "markdown",
   "id": "ee3e9ea0-d75f-4e53-956a-43ffa64be015",
   "metadata": {},
   "source": [
    "### Displays the single occurence of all the values"
   ]
  },
  {
   "cell_type": "code",
   "execution_count": 17,
   "id": "1d1faefb-c71b-49d3-9bc9-6045b3f8761c",
   "metadata": {},
   "outputs": [
    {
     "data": {
      "text/plain": [
       "[2, 3, 4, 5, 6]"
      ]
     },
     "execution_count": 17,
     "metadata": {},
     "output_type": "execute_result"
    }
   ],
   "source": [
    "l=list(s2)  # convert into a list\n",
    "l"
   ]
  },
  {
   "cell_type": "code",
   "execution_count": 16,
   "id": "eba77715-2a46-4187-9588-b0a8a27e8ca7",
   "metadata": {},
   "outputs": [
    {
     "data": {
      "text/plain": [
       "(2, 3, 4, 5, 6)"
      ]
     },
     "execution_count": 16,
     "metadata": {},
     "output_type": "execute_result"
    }
   ],
   "source": [
    "t=tuple(s2) \n",
    "t# convert into a tuple"
   ]
  },
  {
   "cell_type": "code",
   "execution_count": 18,
   "id": "fd910155-7eb8-438d-bf8b-1ebe38804076",
   "metadata": {},
   "outputs": [
    {
     "data": {
      "text/plain": [
       "{2, 3, 4, 5, 6}"
      ]
     },
     "execution_count": 18,
     "metadata": {},
     "output_type": "execute_result"
    }
   ],
   "source": [
    "s2=set(l)\n",
    "s2\n"
   ]
  },
  {
   "cell_type": "code",
   "execution_count": 20,
   "id": "e41c134e-eb6c-432e-b79b-c1f6c7df8a89",
   "metadata": {},
   "outputs": [
    {
     "data": {
      "text/plain": [
       "{2, 3, 4, 5, 6}"
      ]
     },
     "execution_count": 20,
     "metadata": {},
     "output_type": "execute_result"
    }
   ],
   "source": [
    "s3=set(t)\n",
    "s3"
   ]
  },
  {
   "cell_type": "code",
   "execution_count": 21,
   "id": "dd5957a7-6695-496d-b70d-70187a2515e9",
   "metadata": {},
   "outputs": [
    {
     "ename": "TypeError",
     "evalue": "unhashable type: 'list'",
     "output_type": "error",
     "traceback": [
      "\u001b[0;31m---------------------------------------------------------------------------\u001b[0m",
      "\u001b[0;31mTypeError\u001b[0m                                 Traceback (most recent call last)",
      "Cell \u001b[0;32mIn[21], line 1\u001b[0m\n\u001b[0;32m----> 1\u001b[0m s4\u001b[38;5;241m=\u001b[39m{\u001b[38;5;241m1\u001b[39m,\u001b[38;5;241m2\u001b[39m,\u001b[38;5;241m3\u001b[39m,\u001b[38;5;241m4\u001b[39m,[\u001b[38;5;241m8\u001b[39m,\u001b[38;5;241m9\u001b[39m,\u001b[38;5;241m10\u001b[39m,\u001b[38;5;241m11\u001b[39m]}\n",
      "\u001b[0;31mTypeError\u001b[0m: unhashable type: 'list'"
     ]
    }
   ],
   "source": [
    "s4={1,2,3,4,[8,9,10,11]}"
   ]
  },
  {
   "cell_type": "markdown",
   "id": "f62c197a-9b2e-413c-80a9-3e2accd224b5",
   "metadata": {},
   "source": [
    "## Does not allow a list to be stored inside a set"
   ]
  },
  {
   "cell_type": "code",
   "execution_count": 22,
   "id": "5745d0ae-9eb5-4564-9dff-cfcbe6c60b98",
   "metadata": {},
   "outputs": [],
   "source": [
    "s5={1,2,3,4,5,(1,2,3,4,5)}"
   ]
  },
  {
   "cell_type": "markdown",
   "id": "c6e6742b-ff6c-49bb-8a73-4f83283c6d09",
   "metadata": {},
   "source": [
    "## But allows a tuple to be stored inside a set"
   ]
  },
  {
   "cell_type": "code",
   "execution_count": 23,
   "id": "e761fc18-3bfe-41c3-be70-85cfb1052c1f",
   "metadata": {},
   "outputs": [],
   "source": [
    "s6={'Sudh','sudh'}"
   ]
  },
  {
   "cell_type": "code",
   "execution_count": 25,
   "id": "a5ff3a60-b30b-46ae-a7b4-a802d6682fdd",
   "metadata": {},
   "outputs": [
    {
     "data": {
      "text/plain": [
       "{'Sudh', 'sudh'}"
      ]
     },
     "execution_count": 25,
     "metadata": {},
     "output_type": "execute_result"
    }
   ],
   "source": [
    "s6  # Case sensitive"
   ]
  },
  {
   "cell_type": "code",
   "execution_count": 1,
   "id": "16fa4384-7f41-4cfe-a481-fcb32430e0e4",
   "metadata": {},
   "outputs": [],
   "source": [
    "s7={2,3,4,5,'sudh','sudh'}"
   ]
  },
  {
   "cell_type": "code",
   "execution_count": 2,
   "id": "7f688fd9-b591-4401-b1a8-a847db8e30a7",
   "metadata": {},
   "outputs": [
    {
     "data": {
      "text/plain": [
       "{2, 3, 4, 5, 'sudh'}"
      ]
     },
     "execution_count": 2,
     "metadata": {},
     "output_type": "execute_result"
    }
   ],
   "source": [
    "s7"
   ]
  },
  {
   "cell_type": "code",
   "execution_count": 3,
   "id": "32db7f59-c18b-4f71-93e0-67c8d69f7efb",
   "metadata": {},
   "outputs": [
    {
     "ename": "TypeError",
     "evalue": "'set' object is not subscriptable",
     "output_type": "error",
     "traceback": [
      "\u001b[0;31m---------------------------------------------------------------------------\u001b[0m",
      "\u001b[0;31mTypeError\u001b[0m                                 Traceback (most recent call last)",
      "Cell \u001b[0;32mIn[3], line 1\u001b[0m\n\u001b[0;32m----> 1\u001b[0m \u001b[43ms7\u001b[49m\u001b[43m[\u001b[49m\u001b[38;5;241;43m0\u001b[39;49m\u001b[43m]\u001b[49m\n",
      "\u001b[0;31mTypeError\u001b[0m: 'set' object is not subscriptable"
     ]
    }
   ],
   "source": [
    "s7[0]"
   ]
  },
  {
   "cell_type": "markdown",
   "id": "0be0d311-854f-4047-81c1-6d61ec530b05",
   "metadata": {},
   "source": [
    "# Indexing retrieval is not allowed in set\n",
    "# USe a for loop for retreival or Convert it as a tuple or a list"
   ]
  },
  {
   "cell_type": "code",
   "execution_count": 4,
   "id": "4fb92c98-7235-46f6-9f81-41786e1410eb",
   "metadata": {},
   "outputs": [
    {
     "ename": "TypeError",
     "evalue": "'set' object is not subscriptable",
     "output_type": "error",
     "traceback": [
      "\u001b[0;31m---------------------------------------------------------------------------\u001b[0m",
      "\u001b[0;31mTypeError\u001b[0m                                 Traceback (most recent call last)",
      "Cell \u001b[0;32mIn[4], line 1\u001b[0m\n\u001b[0;32m----> 1\u001b[0m \u001b[43ms7\u001b[49m\u001b[43m[\u001b[49m\u001b[43m:\u001b[49m\u001b[43m:\u001b[49m\u001b[38;5;241;43m-\u001b[39;49m\u001b[38;5;241;43m1\u001b[39;49m\u001b[43m]\u001b[49m\n",
      "\u001b[0;31mTypeError\u001b[0m: 'set' object is not subscriptable"
     ]
    }
   ],
   "source": [
    "s7[::-1]"
   ]
  },
  {
   "cell_type": "code",
   "execution_count": 5,
   "id": "e75b0cff-3290-4831-8740-3e9d7bf71f9b",
   "metadata": {},
   "outputs": [
    {
     "data": {
      "text/plain": [
       "{2, 3, 4, 5, 'sudh'}"
      ]
     },
     "execution_count": 5,
     "metadata": {},
     "output_type": "execute_result"
    }
   ],
   "source": [
    "s7"
   ]
  },
  {
   "cell_type": "code",
   "execution_count": 7,
   "id": "52cf5abf-9fd3-4206-bb84-3f0f436900c7",
   "metadata": {},
   "outputs": [
    {
     "name": "stdout",
     "output_type": "stream",
     "text": [
      "2\n",
      "3\n",
      "4\n",
      "5\n",
      "sudh\n"
     ]
    }
   ],
   "source": [
    "for i in s7:\n",
    "    print(i)"
   ]
  },
  {
   "cell_type": "code",
   "execution_count": 8,
   "id": "af06c647-db1a-4e0b-8371-4903ecf71367",
   "metadata": {},
   "outputs": [],
   "source": [
    "s7.add(6)"
   ]
  },
  {
   "cell_type": "code",
   "execution_count": 9,
   "id": "fca81a98-88fc-4a79-90d8-178dd3c7ddd9",
   "metadata": {},
   "outputs": [
    {
     "data": {
      "text/plain": [
       "{2, 3, 4, 5, 6, 'sudh'}"
      ]
     },
     "execution_count": 9,
     "metadata": {},
     "output_type": "execute_result"
    }
   ],
   "source": [
    "s7"
   ]
  },
  {
   "cell_type": "code",
   "execution_count": 10,
   "id": "f464d03b-b4f8-4a2c-8cf6-18911c64d700",
   "metadata": {},
   "outputs": [],
   "source": [
    "s7.add(3)"
   ]
  },
  {
   "cell_type": "code",
   "execution_count": 11,
   "id": "0e93bcc9-9895-439d-914a-9992b74d5d53",
   "metadata": {},
   "outputs": [
    {
     "data": {
      "text/plain": [
       "{2, 3, 4, 5, 6, 'sudh'}"
      ]
     },
     "execution_count": 11,
     "metadata": {},
     "output_type": "execute_result"
    }
   ],
   "source": [
    "s7"
   ]
  },
  {
   "cell_type": "code",
   "execution_count": 12,
   "id": "e265e448-5049-432b-97e9-bb147ae87fd9",
   "metadata": {},
   "outputs": [
    {
     "data": {
      "text/plain": [
       "6"
      ]
     },
     "execution_count": 12,
     "metadata": {},
     "output_type": "execute_result"
    }
   ],
   "source": [
    "len(s7)"
   ]
  },
  {
   "cell_type": "code",
   "execution_count": 13,
   "id": "a16cd552-b1d4-4669-b385-7b128a76b937",
   "metadata": {},
   "outputs": [
    {
     "data": {
      "text/plain": [
       "2"
      ]
     },
     "execution_count": 13,
     "metadata": {},
     "output_type": "execute_result"
    }
   ],
   "source": [
    "s7.pop()"
   ]
  },
  {
   "cell_type": "code",
   "execution_count": 14,
   "id": "31597253-726c-4804-9a29-01bd945a6733",
   "metadata": {},
   "outputs": [
    {
     "data": {
      "text/plain": [
       "{3, 4, 5, 6, 'sudh'}"
      ]
     },
     "execution_count": 14,
     "metadata": {},
     "output_type": "execute_result"
    }
   ],
   "source": [
    "s7"
   ]
  },
  {
   "cell_type": "code",
   "execution_count": 15,
   "id": "208f5da0-44b0-4a0a-84d0-d9912223dbe4",
   "metadata": {},
   "outputs": [
    {
     "data": {
      "text/plain": [
       "3"
      ]
     },
     "execution_count": 15,
     "metadata": {},
     "output_type": "execute_result"
    }
   ],
   "source": [
    "s7.pop()"
   ]
  },
  {
   "cell_type": "code",
   "execution_count": 16,
   "id": "7167b096-99e3-4cb9-b889-cec6d7a4cb19",
   "metadata": {},
   "outputs": [
    {
     "data": {
      "text/plain": [
       "4"
      ]
     },
     "execution_count": 16,
     "metadata": {},
     "output_type": "execute_result"
    }
   ],
   "source": [
    "s7.pop()"
   ]
  },
  {
   "cell_type": "code",
   "execution_count": 17,
   "id": "33530e95-52ec-45eb-a067-689243318f27",
   "metadata": {},
   "outputs": [
    {
     "data": {
      "text/plain": [
       "5"
      ]
     },
     "execution_count": 17,
     "metadata": {},
     "output_type": "execute_result"
    }
   ],
   "source": [
    "s7.pop()"
   ]
  },
  {
   "cell_type": "code",
   "execution_count": 18,
   "id": "e13aa036-92b1-4a93-ae7f-0d4e1708e781",
   "metadata": {},
   "outputs": [
    {
     "data": {
      "text/plain": [
       "{6, 'sudh'}"
      ]
     },
     "execution_count": 18,
     "metadata": {},
     "output_type": "execute_result"
    }
   ],
   "source": [
    "s7"
   ]
  },
  {
   "cell_type": "code",
   "execution_count": 22,
   "id": "be4a639a-55e4-483f-a70f-7b6bee1339f8",
   "metadata": {},
   "outputs": [],
   "source": [
    "s7.clear()  # Removes all the elements from the set"
   ]
  },
  {
   "cell_type": "code",
   "execution_count": 20,
   "id": "a1a6f8c7-d968-454d-ac31-30f8f406b46a",
   "metadata": {},
   "outputs": [
    {
     "data": {
      "text/plain": [
       "set()"
      ]
     },
     "execution_count": 20,
     "metadata": {},
     "output_type": "execute_result"
    }
   ],
   "source": [
    "s7"
   ]
  },
  {
   "cell_type": "code",
   "execution_count": 24,
   "id": "3d80a70f-249f-4c00-a5c0-0e7b02febdbb",
   "metadata": {},
   "outputs": [],
   "source": [
    "s8={1,2,3,4}\n",
    "s9={1,2,3,5}"
   ]
  },
  {
   "cell_type": "code",
   "execution_count": 25,
   "id": "a180d5bb-2d83-4346-a2e8-ab161af1b6c4",
   "metadata": {},
   "outputs": [
    {
     "data": {
      "text/plain": [
       "{4}"
      ]
     },
     "execution_count": 25,
     "metadata": {},
     "output_type": "execute_result"
    }
   ],
   "source": [
    "s8.difference(s9)"
   ]
  },
  {
   "cell_type": "code",
   "execution_count": 26,
   "id": "dd1ed542-b83c-42e3-a249-bee7aa97ab53",
   "metadata": {},
   "outputs": [
    {
     "data": {
      "text/plain": [
       "{5}"
      ]
     },
     "execution_count": 26,
     "metadata": {},
     "output_type": "execute_result"
    }
   ],
   "source": [
    "s9.difference(s8)"
   ]
  },
  {
   "cell_type": "code",
   "execution_count": 27,
   "id": "4fa965e4-0122-454a-a66d-a0403d2898c0",
   "metadata": {},
   "outputs": [
    {
     "data": {
      "text/plain": [
       "{1, 2, 3}"
      ]
     },
     "execution_count": 27,
     "metadata": {},
     "output_type": "execute_result"
    }
   ],
   "source": [
    "s8.intersection(s9)"
   ]
  },
  {
   "cell_type": "code",
   "execution_count": 28,
   "id": "2331c5ed-c36c-40ea-9590-4615714a76b3",
   "metadata": {},
   "outputs": [
    {
     "data": {
      "text/plain": [
       "{4, 5}"
      ]
     },
     "execution_count": 28,
     "metadata": {},
     "output_type": "execute_result"
    }
   ],
   "source": [
    "s8.symmetric_difference(s9)"
   ]
  },
  {
   "cell_type": "code",
   "execution_count": null,
   "id": "a2ba327f-3209-49bc-b463-51554c61c11a",
   "metadata": {},
   "outputs": [],
   "source": []
  }
 ],
 "metadata": {
  "kernelspec": {
   "display_name": "Python 3 (ipykernel)",
   "language": "python",
   "name": "python3"
  },
  "language_info": {
   "codemirror_mode": {
    "name": "ipython",
    "version": 3
   },
   "file_extension": ".py",
   "mimetype": "text/x-python",
   "name": "python",
   "nbconvert_exporter": "python",
   "pygments_lexer": "ipython3",
   "version": "3.10.8"
  }
 },
 "nbformat": 4,
 "nbformat_minor": 5
}
