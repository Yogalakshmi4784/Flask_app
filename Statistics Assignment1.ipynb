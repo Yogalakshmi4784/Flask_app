{
 "cells": [
  {
   "cell_type": "markdown",
   "id": "73f2f701-bf3e-446b-960a-ddd7815f597b",
   "metadata": {},
   "source": [
    "1) Statistics is the science of collecting, organizing and analyzing the data."
   ]
  },
  {
   "cell_type": "markdown",
   "id": "465c03fb-9f75-4412-b200-243b85193a8a",
   "metadata": {},
   "source": [
    "2. Descriptive and Inferential statistics are the 2 types of statistics. Descriptive statistics consists of organizing and summarizing the data. eg: Mean, Median, Mode. Finding the average height of students in a class.\n",
    "\n",
    "Inferential statistics consists of using data you have measured to form a conclusion. eg: Are the average height of students in a class is equal to the average height of students in the college. comparing sample mean with the population mean."
   ]
  },
  {
   "cell_type": "markdown",
   "id": "b025a63f-f713-44b0-8742-d044cee5b5e2",
   "metadata": {},
   "source": [
    "3. Different types of data are Quantitative and Qualitative data. Quantitative data can further be divided into Discrete and Continuous. Discrete is represented in numbers as whole numbers eg: Number of shows in theatre and Continuous is represented in decimal or floating numbers eg: Temperature at a place. Qualitative is further divided into Nominal and Ordinal. Nominal data is represented  as fixed set of categories and cannot be ranked eg: Gender, blood group whereas ORdinal is represented as categories with ranking, eg: Ratings for a hotel such as Excellent, Good, Average, Poor, Worst."
   ]
  },
  {
   "cell_type": "markdown",
   "id": "a81fe0c3-98b0-4edd-833f-e785b281e38a",
   "metadata": {},
   "source": [
    "  4. \n",
    "    1) Qualitative\n",
    "    2) Qualitative\n",
    "    3) Quantitative\n",
    "    4) Quantitative"
   ]
  },
  {
   "cell_type": "markdown",
   "id": "138245d7-b2e2-4345-83da-ce68654c17f0",
   "metadata": {},
   "source": [
    "5) Levels of measurement are the levels of measuring a dataset with respect to ranking, ratio and difference. \n",
    "\n",
    "a) Nominal scale data: eg: Gender, Colors\n",
    "\n",
    "b) Ordinal Scale data: eg: Qualification\n",
    "\n",
    "c) Interval Scale data: eg: Temperature min and max\n",
    "\n",
    "d) Ratio scale data: eg: Cricket scores"
   ]
  },
  {
   "cell_type": "markdown",
   "id": "ad0a7837-6fa2-4881-889d-f2d42d1dd411",
   "metadata": {},
   "source": [
    "6. Understanding the level of measurement is crucial when analyzing data because it dictates the types of statistical analyses and operations that can be performed on the data.\n",
    "eg: Getting the customer rating for a hotel"
   ]
  },
  {
   "cell_type": "markdown",
   "id": "4efa6674-d71c-44ac-b332-e79ed0dbc887",
   "metadata": {},
   "source": [
    "7. In Nominal data we cannot assign a rank when we consider gender or blood group. Under Categorical data , rank is assigned to the categories such as ratings for a hotel eg: Excellent-5, Good-4, Average-3, Poor-2, Worst-1"
   ]
  },
  {
   "cell_type": "markdown",
   "id": "635c0081-2234-4d24-9686-bbf68faa7800",
   "metadata": {},
   "source": [
    "8. Hist plot, Bar plot and pie charts can be used to plot data displaying range"
   ]
  },
  {
   "cell_type": "markdown",
   "id": "0491bc86-5f58-4b84-a599-32df8e36058c",
   "metadata": {},
   "source": [
    "9. Descriptive and Inferential statistics are the 2 types of statistics. Descriptive statistics consists of organizing and summarizing the data. eg: Mean, Median, Mode. Finding the average height of students in a class.\n",
    "Inferential statistics consists of using data you have measured to form a conclusion. eg: Are the average height of students in a class is equal to the average height of students in the college. comparing sample mean with the population mean."
   ]
  },
  {
   "cell_type": "markdown",
   "id": "fa1b7a6a-41f3-49dd-b95c-0f8096deb6df",
   "metadata": {},
   "source": [
    "10. Common measures of central tendency and variability are mean, median, mode, variance and standard deviation. Mean helps to find the average of the dataset given. Median helps to find the middle value. \n",
    "Mode helps to find the frequently occuring data in the dataset. Variance helps to find the data dispersion. Standard Deviation helps to find how the data is distributed with respect to mean."
   ]
  },
  {
   "cell_type": "code",
   "execution_count": null,
   "id": "615b1610-80b7-468f-b66d-9a95315d2e80",
   "metadata": {},
   "outputs": [],
   "source": []
  }
 ],
 "metadata": {
  "kernelspec": {
   "display_name": "Python 3 (ipykernel)",
   "language": "python",
   "name": "python3"
  },
  "language_info": {
   "codemirror_mode": {
    "name": "ipython",
    "version": 3
   },
   "file_extension": ".py",
   "mimetype": "text/x-python",
   "name": "python",
   "nbconvert_exporter": "python",
   "pygments_lexer": "ipython3",
   "version": "3.10.8"
  }
 },
 "nbformat": 4,
 "nbformat_minor": 5
}
