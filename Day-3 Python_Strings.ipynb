{
 "cells": [
  {
   "cell_type": "markdown",
   "id": "5f88dde1-3288-4e8f-8072-f52d7da17188",
   "metadata": {},
   "source": [
    "# Logical Operators\n",
    "- AND\n",
    "- OR\n",
    "- NOT"
   ]
  },
  {
   "cell_type": "code",
   "execution_count": 1,
   "id": "9494e064-5fd7-47da-89cf-1c1d364c719f",
   "metadata": {},
   "outputs": [
    {
     "data": {
      "text/plain": [
       "False"
      ]
     },
     "execution_count": 1,
     "metadata": {},
     "output_type": "execute_result"
    }
   ],
   "source": [
    "not True"
   ]
  },
  {
   "cell_type": "code",
   "execution_count": 2,
   "id": "510a9c3c-9d2a-4460-b288-30c9d9f0ec39",
   "metadata": {},
   "outputs": [
    {
     "data": {
      "text/plain": [
       "True"
      ]
     },
     "execution_count": 2,
     "metadata": {},
     "output_type": "execute_result"
    }
   ],
   "source": [
    "not False"
   ]
  },
  {
   "cell_type": "code",
   "execution_count": 3,
   "id": "2e4a506f-023b-40d4-84d7-8f82a283e97e",
   "metadata": {},
   "outputs": [
    {
     "data": {
      "text/plain": [
       "True"
      ]
     },
     "execution_count": 3,
     "metadata": {},
     "output_type": "execute_result"
    }
   ],
   "source": [
    "not bool(0)"
   ]
  },
  {
   "cell_type": "code",
   "execution_count": 4,
   "id": "58f276c4-cf35-4667-841c-d978973a542c",
   "metadata": {},
   "outputs": [
    {
     "data": {
      "text/plain": [
       "False"
      ]
     },
     "execution_count": 4,
     "metadata": {},
     "output_type": "execute_result"
    }
   ],
   "source": [
    "not bool(1)"
   ]
  },
  {
   "cell_type": "code",
   "execution_count": 5,
   "id": "f500b33a-a077-4007-add8-21506d0379da",
   "metadata": {},
   "outputs": [
    {
     "data": {
      "text/plain": [
       "True"
      ]
     },
     "execution_count": 5,
     "metadata": {},
     "output_type": "execute_result"
    }
   ],
   "source": [
    "not int(bool(0))"
   ]
  },
  {
   "cell_type": "code",
   "execution_count": 6,
   "id": "5d4fd18c-abad-40df-b6b5-ee5dbfc2f933",
   "metadata": {},
   "outputs": [
    {
     "data": {
      "text/plain": [
       "True"
      ]
     },
     "execution_count": 6,
     "metadata": {},
     "output_type": "execute_result"
    }
   ],
   "source": [
    "not 0"
   ]
  },
  {
   "cell_type": "code",
   "execution_count": 7,
   "id": "71592a38-a31d-45c6-abf3-88755a1c0bfd",
   "metadata": {},
   "outputs": [
    {
     "data": {
      "text/plain": [
       "1"
      ]
     },
     "execution_count": 7,
     "metadata": {},
     "output_type": "execute_result"
    }
   ],
   "source": [
    "int(not 0)"
   ]
  },
  {
   "cell_type": "code",
   "execution_count": 8,
   "id": "585d18bc-0d09-4dfa-a56d-d1fd0617a57b",
   "metadata": {},
   "outputs": [
    {
     "data": {
      "text/plain": [
       "False"
      ]
     },
     "execution_count": 8,
     "metadata": {},
     "output_type": "execute_result"
    }
   ],
   "source": [
    "not 2"
   ]
  },
  {
   "cell_type": "code",
   "execution_count": 9,
   "id": "367fe71c-0ef4-40af-b74e-fb8e748f12b4",
   "metadata": {},
   "outputs": [
    {
     "data": {
      "text/plain": [
       "False"
      ]
     },
     "execution_count": 9,
     "metadata": {},
     "output_type": "execute_result"
    }
   ],
   "source": [
    "not 3"
   ]
  },
  {
   "cell_type": "code",
   "execution_count": 10,
   "id": "e3f2bf38-70bb-46be-80a7-d785b0aaaad3",
   "metadata": {},
   "outputs": [
    {
     "data": {
      "text/plain": [
       "True"
      ]
     },
     "execution_count": 10,
     "metadata": {},
     "output_type": "execute_result"
    }
   ],
   "source": [
    "not 0"
   ]
  },
  {
   "cell_type": "code",
   "execution_count": 11,
   "id": "38c28b6c-ad7b-46e5-ad61-9e0c68adaa2b",
   "metadata": {},
   "outputs": [
    {
     "data": {
      "text/plain": [
       "False"
      ]
     },
     "execution_count": 11,
     "metadata": {},
     "output_type": "execute_result"
    }
   ],
   "source": [
    "bool(0)"
   ]
  },
  {
   "cell_type": "code",
   "execution_count": 12,
   "id": "e66d99e3-de54-47c3-958d-0ef20ba30ff7",
   "metadata": {},
   "outputs": [
    {
     "data": {
      "text/plain": [
       "True"
      ]
     },
     "execution_count": 12,
     "metadata": {},
     "output_type": "execute_result"
    }
   ],
   "source": [
    "bool(-1)"
   ]
  },
  {
   "cell_type": "markdown",
   "id": "141d3c06-fc80-4bb1-b907-7eb5fcdd48e6",
   "metadata": {},
   "source": [
    "# Logical AND"
   ]
  },
  {
   "cell_type": "code",
   "execution_count": 13,
   "id": "ab7934a1-f554-43c3-9c20-9d016f46dc5c",
   "metadata": {},
   "outputs": [
    {
     "data": {
      "text/plain": [
       "0"
      ]
     },
     "execution_count": 13,
     "metadata": {},
     "output_type": "execute_result"
    }
   ],
   "source": [
    "False * True"
   ]
  },
  {
   "cell_type": "code",
   "execution_count": 14,
   "id": "c154780c-e4c7-47e7-9c4b-38066fdd1e30",
   "metadata": {},
   "outputs": [
    {
     "data": {
      "text/plain": [
       "0"
      ]
     },
     "execution_count": 14,
     "metadata": {},
     "output_type": "execute_result"
    }
   ],
   "source": [
    "False * False\n"
   ]
  },
  {
   "cell_type": "code",
   "execution_count": 15,
   "id": "57f27c22-4eff-4573-8e31-1004caf6bc0d",
   "metadata": {},
   "outputs": [
    {
     "data": {
      "text/plain": [
       "1"
      ]
     },
     "execution_count": 15,
     "metadata": {},
     "output_type": "execute_result"
    }
   ],
   "source": [
    "True * True"
   ]
  },
  {
   "cell_type": "code",
   "execution_count": 16,
   "id": "e3b96e14-29ee-4d5c-af3c-09382b8d80ff",
   "metadata": {},
   "outputs": [
    {
     "data": {
      "text/plain": [
       "True"
      ]
     },
     "execution_count": 16,
     "metadata": {},
     "output_type": "execute_result"
    }
   ],
   "source": [
    "not( False)* True"
   ]
  },
  {
   "cell_type": "code",
   "execution_count": 17,
   "id": "1a1424f7-ee2f-467e-b66a-b7efdfae1cd3",
   "metadata": {},
   "outputs": [
    {
     "data": {
      "text/plain": [
       "True"
      ]
     },
     "execution_count": 17,
     "metadata": {},
     "output_type": "execute_result"
    }
   ],
   "source": [
    "not(False)* True"
   ]
  },
  {
   "cell_type": "code",
   "execution_count": 18,
   "id": "d298138d-676c-4672-9ddf-b082f9c56527",
   "metadata": {},
   "outputs": [
    {
     "data": {
      "text/plain": [
       "True"
      ]
     },
     "execution_count": 18,
     "metadata": {},
     "output_type": "execute_result"
    }
   ],
   "source": [
    "not(True)*False"
   ]
  },
  {
   "cell_type": "code",
   "execution_count": 19,
   "id": "7ae8a33f-58dc-4aff-bcc4-d8cb45df3073",
   "metadata": {},
   "outputs": [
    {
     "data": {
      "text/plain": [
       "0"
      ]
     },
     "execution_count": 19,
     "metadata": {},
     "output_type": "execute_result"
    }
   ],
   "source": [
    "False * False"
   ]
  },
  {
   "cell_type": "code",
   "execution_count": 20,
   "id": "7c528b80-2e48-443a-9fc6-99be840a4ceb",
   "metadata": {},
   "outputs": [
    {
     "data": {
      "text/plain": [
       "0"
      ]
     },
     "execution_count": 20,
     "metadata": {},
     "output_type": "execute_result"
    }
   ],
   "source": [
    "(not(False))*False"
   ]
  },
  {
   "cell_type": "code",
   "execution_count": 21,
   "id": "0755c820-1e2a-4f18-a2e1-8c096a4bb91f",
   "metadata": {},
   "outputs": [],
   "source": [
    "lst_a=[1,2,3,4]\n",
    "lst_b=[1,2,3,4]"
   ]
  },
  {
   "cell_type": "code",
   "execution_count": 22,
   "id": "4b5c25f8-352c-4e32-b896-540263f054f6",
   "metadata": {},
   "outputs": [
    {
     "data": {
      "text/plain": [
       "140388658205248"
      ]
     },
     "execution_count": 22,
     "metadata": {},
     "output_type": "execute_result"
    }
   ],
   "source": [
    "id(lst_a)"
   ]
  },
  {
   "cell_type": "code",
   "execution_count": 23,
   "id": "cc9b7e3c-d97f-4f16-a5df-e4100fe2905c",
   "metadata": {},
   "outputs": [
    {
     "data": {
      "text/plain": [
       "140388676291328"
      ]
     },
     "execution_count": 23,
     "metadata": {},
     "output_type": "execute_result"
    }
   ],
   "source": [
    "id(lst_b)"
   ]
  },
  {
   "cell_type": "code",
   "execution_count": 24,
   "id": "a09a62e3-cf1a-4227-8310-090062a3a6a3",
   "metadata": {},
   "outputs": [
    {
     "data": {
      "text/plain": [
       "False"
      ]
     },
     "execution_count": 24,
     "metadata": {},
     "output_type": "execute_result"
    }
   ],
   "source": [
    "lst_a is lst_b"
   ]
  },
  {
   "cell_type": "code",
   "execution_count": 25,
   "id": "6be4f400-01fa-4512-b2c4-fc2aef3697d4",
   "metadata": {},
   "outputs": [],
   "source": [
    "lst_a=[1,2,3,4]\n",
    "lst_b=lst_a  # Pointing to memory of lst_a"
   ]
  },
  {
   "cell_type": "code",
   "execution_count": 26,
   "id": "16d342a4-58ce-4846-b8dc-ea2d08236b6f",
   "metadata": {},
   "outputs": [
    {
     "data": {
      "text/plain": [
       "True"
      ]
     },
     "execution_count": 26,
     "metadata": {},
     "output_type": "execute_result"
    }
   ],
   "source": [
    "lst_a is lst_b"
   ]
  },
  {
   "cell_type": "code",
   "execution_count": 27,
   "id": "c7640d55-87e9-4cae-a9e3-373bcd2a1053",
   "metadata": {},
   "outputs": [],
   "source": [
    "lst_a=[1,2,3,4]\n",
    "lst_b=[1,2,3,4]"
   ]
  },
  {
   "cell_type": "code",
   "execution_count": 28,
   "id": "474f8fd2-8a3b-4b92-8db8-e4e38fce8110",
   "metadata": {},
   "outputs": [
    {
     "data": {
      "text/plain": [
       "True"
      ]
     },
     "execution_count": 28,
     "metadata": {},
     "output_type": "execute_result"
    }
   ],
   "source": [
    "lst_a is not lst_b"
   ]
  },
  {
   "cell_type": "code",
   "execution_count": 29,
   "id": "5ddc1bdd-3771-4998-a067-e0a4853f051d",
   "metadata": {},
   "outputs": [
    {
     "data": {
      "text/plain": [
       "True"
      ]
     },
     "execution_count": 29,
     "metadata": {},
     "output_type": "execute_result"
    }
   ],
   "source": [
    "lst_b==lst_a    # Checks for the content and not the momory address"
   ]
  },
  {
   "cell_type": "code",
   "execution_count": 30,
   "id": "9fa1366e-2b88-4919-af52-0b3085b79c0e",
   "metadata": {},
   "outputs": [],
   "source": [
    "a=2\n",
    "b=2"
   ]
  },
  {
   "cell_type": "code",
   "execution_count": 31,
   "id": "eaf43146-b490-4189-993c-a0705ccfc010",
   "metadata": {},
   "outputs": [
    {
     "name": "stdout",
     "output_type": "stream",
     "text": [
      "140388725424400\n"
     ]
    }
   ],
   "source": [
    "print(id(a))"
   ]
  },
  {
   "cell_type": "code",
   "execution_count": 32,
   "id": "0f873fd8-c232-47f1-8b9c-d7179197ba7c",
   "metadata": {},
   "outputs": [
    {
     "name": "stdout",
     "output_type": "stream",
     "text": [
      "140388725424400\n"
     ]
    }
   ],
   "source": [
    "print(id(b))"
   ]
  },
  {
   "cell_type": "code",
   "execution_count": 33,
   "id": "0ccceb7a-3eb6-46df-9e5d-871dd1c125d2",
   "metadata": {},
   "outputs": [],
   "source": [
    "str1=\"vani\"\n",
    "str2=\"vani\""
   ]
  },
  {
   "cell_type": "code",
   "execution_count": 34,
   "id": "ade216bf-a615-4063-8420-a67d384e00cd",
   "metadata": {},
   "outputs": [
    {
     "name": "stdout",
     "output_type": "stream",
     "text": [
      "140388658350000\n",
      "140388658350000\n"
     ]
    }
   ],
   "source": [
    "print(id(str1))\n",
    "print(id(str2))"
   ]
  },
  {
   "cell_type": "code",
   "execution_count": 35,
   "id": "d5115411-e7b4-4eff-b09c-46d4085d81f2",
   "metadata": {},
   "outputs": [],
   "source": [
    "str1=\"vani\"\n",
    "str2=\"vani1\""
   ]
  },
  {
   "cell_type": "code",
   "execution_count": 36,
   "id": "b45cad45-7ba7-43b3-a628-c66074f9c6a4",
   "metadata": {},
   "outputs": [
    {
     "name": "stdout",
     "output_type": "stream",
     "text": [
      "140388658350000\n",
      "140388658353712\n"
     ]
    }
   ],
   "source": [
    "print(id(str1))\n",
    "print(id(str2))"
   ]
  },
  {
   "cell_type": "markdown",
   "id": "6342ae65-302e-4683-8b87-22bd56ec68b4",
   "metadata": {},
   "source": [
    "# String is immutable\n",
    "# List is mutable - Values can be changed"
   ]
  },
  {
   "cell_type": "code",
   "execution_count": 37,
   "id": "84939e4a-92ff-46b9-924e-a263d2ecfd74",
   "metadata": {},
   "outputs": [
    {
     "data": {
      "text/plain": [
       "'V'"
      ]
     },
     "execution_count": 37,
     "metadata": {},
     "output_type": "execute_result"
    }
   ],
   "source": [
    "str1='Vani'\n",
    "str1[0]"
   ]
  },
  {
   "cell_type": "code",
   "execution_count": 38,
   "id": "e89f6288-62bd-4f2e-9c27-26e763fe58be",
   "metadata": {},
   "outputs": [
    {
     "ename": "TypeError",
     "evalue": "'str' object does not support item assignment",
     "output_type": "error",
     "traceback": [
      "\u001b[0;31m---------------------------------------------------------------------------\u001b[0m",
      "\u001b[0;31mTypeError\u001b[0m                                 Traceback (most recent call last)",
      "Cell \u001b[0;32mIn[38], line 1\u001b[0m\n\u001b[0;32m----> 1\u001b[0m \u001b[43mstr1\u001b[49m\u001b[43m[\u001b[49m\u001b[38;5;241;43m0\u001b[39;49m\u001b[43m]\u001b[49m\u001b[38;5;241m=\u001b[39m\u001b[38;5;124m'\u001b[39m\u001b[38;5;124mY\u001b[39m\u001b[38;5;124m'\u001b[39m\n",
      "\u001b[0;31mTypeError\u001b[0m: 'str' object does not support item assignment"
     ]
    }
   ],
   "source": [
    "str1[0]='Y'"
   ]
  },
  {
   "cell_type": "code",
   "execution_count": 39,
   "id": "a8fef66a-c22a-4173-9c16-df8da539a302",
   "metadata": {},
   "outputs": [
    {
     "data": {
      "text/plain": [
       "'V'"
      ]
     },
     "execution_count": 39,
     "metadata": {},
     "output_type": "execute_result"
    }
   ],
   "source": [
    "lst_a=['V','a','n','i']\n",
    "lst_a[0]"
   ]
  },
  {
   "cell_type": "code",
   "execution_count": 40,
   "id": "9fe4a3fa-a90f-4c65-b171-2e72f5e0ebb7",
   "metadata": {},
   "outputs": [],
   "source": [
    "lst_a[0]='N'"
   ]
  },
  {
   "cell_type": "code",
   "execution_count": 41,
   "id": "0dd3d1c0-4f28-4345-b971-0f0a4b4d4c77",
   "metadata": {},
   "outputs": [
    {
     "data": {
      "text/plain": [
       "['N', 'a', 'n', 'i']"
      ]
     },
     "execution_count": 41,
     "metadata": {},
     "output_type": "execute_result"
    }
   ],
   "source": [
    "lst_a"
   ]
  },
  {
   "cell_type": "code",
   "execution_count": 42,
   "id": "b1376020-9ce9-493e-8d42-17f61dab1bbe",
   "metadata": {},
   "outputs": [],
   "source": [
    "str1='Vani'\n",
    "str2='Vani1'"
   ]
  },
  {
   "cell_type": "code",
   "execution_count": 43,
   "id": "abcf2b1b-9df5-4d04-a010-cbd4c9cf2c88",
   "metadata": {},
   "outputs": [
    {
     "name": "stdout",
     "output_type": "stream",
     "text": [
      "140388658357552\n",
      "140388682232304\n"
     ]
    }
   ],
   "source": [
    "print(id(str1))\n",
    "print(id(str2))"
   ]
  },
  {
   "cell_type": "markdown",
   "id": "f096b677-d6b2-410b-9789-3085ccfcfdf9",
   "metadata": {},
   "source": [
    "# Comparison Operations"
   ]
  },
  {
   "cell_type": "code",
   "execution_count": 44,
   "id": "a787c613-1d0c-44cd-b054-7bc18e52df08",
   "metadata": {},
   "outputs": [
    {
     "name": "stdout",
     "output_type": "stream",
     "text": [
      "Bike is faster than Car:False\n"
     ]
    }
   ],
   "source": [
    "max_speed_bike=200\n",
    "max_speed_car=250\n",
    "print(f\"Bike is faster than Car:{max_speed_bike>max_speed_car}\")"
   ]
  },
  {
   "cell_type": "markdown",
   "id": "f06fde6f-1bdb-4b98-985d-0daf0d4b6ceb",
   "metadata": {},
   "source": [
    "# Arithmetic Operations\n",
    "- // Integer Division - Returns Quotient\n",
    "- %  Modulo Operator - Returns reminder\n",
    "- / - Divisiion\n",
    "-   Multiplication*\n"
   ]
  },
  {
   "cell_type": "code",
   "execution_count": 45,
   "id": "684b1135-4d2a-401f-bb4b-d4bfa9feee8e",
   "metadata": {},
   "outputs": [],
   "source": [
    "a=5\n",
    "b=10\n",
    "c=20\n",
    "d=5"
   ]
  },
  {
   "cell_type": "code",
   "execution_count": 46,
   "id": "e9a09850-1cee-4f27-90be-369a694610b2",
   "metadata": {},
   "outputs": [
    {
     "data": {
      "text/plain": [
       "2"
      ]
     },
     "execution_count": 46,
     "metadata": {},
     "output_type": "execute_result"
    }
   ],
   "source": [
    "b//a"
   ]
  },
  {
   "cell_type": "code",
   "execution_count": 47,
   "id": "d526f175-9764-4297-bae6-ddf366693325",
   "metadata": {},
   "outputs": [
    {
     "data": {
      "text/plain": [
       "0"
      ]
     },
     "execution_count": 47,
     "metadata": {},
     "output_type": "execute_result"
    }
   ],
   "source": [
    "b%a"
   ]
  },
  {
   "cell_type": "code",
   "execution_count": 48,
   "id": "4c500033-64c7-431d-bf11-fc3da722a4e1",
   "metadata": {},
   "outputs": [
    {
     "data": {
      "text/plain": [
       "2.0"
      ]
     },
     "execution_count": 48,
     "metadata": {},
     "output_type": "execute_result"
    }
   ],
   "source": [
    "b/a"
   ]
  },
  {
   "cell_type": "code",
   "execution_count": 49,
   "id": "fbd3e08f-44d3-44ce-92cd-fe980a0ac35c",
   "metadata": {},
   "outputs": [
    {
     "data": {
      "text/plain": [
       "100"
      ]
     },
     "execution_count": 49,
     "metadata": {},
     "output_type": "execute_result"
    }
   ],
   "source": [
    "c*d"
   ]
  },
  {
   "cell_type": "code",
   "execution_count": 50,
   "id": "b85fe657-765d-429e-a598-7e76317c605a",
   "metadata": {},
   "outputs": [
    {
     "data": {
      "text/plain": [
       "0.25"
      ]
     },
     "execution_count": 50,
     "metadata": {},
     "output_type": "execute_result"
    }
   ],
   "source": [
    "d/c"
   ]
  },
  {
   "cell_type": "code",
   "execution_count": 51,
   "id": "c237970a-d688-47d6-b6b1-9d920c8cd59d",
   "metadata": {},
   "outputs": [
    {
     "data": {
      "text/plain": [
       "4"
      ]
     },
     "execution_count": 51,
     "metadata": {},
     "output_type": "execute_result"
    }
   ],
   "source": [
    "c//d"
   ]
  },
  {
   "cell_type": "code",
   "execution_count": 52,
   "id": "a0ba1543-ea51-4f32-becc-7e1220e12aab",
   "metadata": {},
   "outputs": [
    {
     "data": {
      "text/plain": [
       "0"
      ]
     },
     "execution_count": 52,
     "metadata": {},
     "output_type": "execute_result"
    }
   ],
   "source": [
    "c%d"
   ]
  },
  {
   "cell_type": "markdown",
   "id": "a94d2288-f977-4525-a7d0-78d07c861205",
   "metadata": {},
   "source": [
    "# Bitwise Operations\n",
    "## Bitwise AND operator Returns 1 if both the bits are 1 else 0.\n",
    "a = 10\n",
    "\n",
    "b = 4\n",
    "\n",
    "a & b = 1010\n",
    "\n",
    "         &\n",
    "         \n",
    "        0100\n",
    "        \n",
    "      = 0000\n",
    "      \n",
    "      = 0 (Decimal)"
   ]
  },
  {
   "cell_type": "code",
   "execution_count": 54,
   "id": "fe1065e2-2b50-490a-837d-37e16f61ceca",
   "metadata": {},
   "outputs": [
    {
     "data": {
      "text/plain": [
       "'0b1010'"
      ]
     },
     "execution_count": 54,
     "metadata": {},
     "output_type": "execute_result"
    }
   ],
   "source": [
    "var=10\n",
    "bin(var) # Bin ==Binary"
   ]
  },
  {
   "cell_type": "code",
   "execution_count": 55,
   "id": "c990c712-8103-43eb-b52c-7de571b479f8",
   "metadata": {},
   "outputs": [
    {
     "data": {
      "text/plain": [
       "'0b10'"
      ]
     },
     "execution_count": 55,
     "metadata": {},
     "output_type": "execute_result"
    }
   ],
   "source": [
    "var=2\n",
    "bin(var)"
   ]
  },
  {
   "cell_type": "code",
   "execution_count": 56,
   "id": "63248ce5-b1c1-4cc6-8cd2-3369cad9f749",
   "metadata": {},
   "outputs": [],
   "source": [
    "# ~ = Bitwise complement"
   ]
  },
  {
   "cell_type": "code",
   "execution_count": 58,
   "id": "fabb8759-352b-4c19-bdf2-fa7b6a42a645",
   "metadata": {},
   "outputs": [
    {
     "data": {
      "text/plain": [
       "0"
      ]
     },
     "execution_count": 58,
     "metadata": {},
     "output_type": "execute_result"
    }
   ],
   "source": [
    "a = 10\n",
    "b = 4\n",
    "\n",
    "a & b"
   ]
  },
  {
   "cell_type": "markdown",
   "id": "a9b8bb3a-dbb0-47c5-8158-3aa1dd735a3d",
   "metadata": {},
   "source": [
    "# Bitwise or operator Returns 1 if either of the bit is 1 else 0.\n",
    "\n",
    "a = 10 = 1010 (Binary)\n",
    "\n",
    "b = 4 =  0100 (Binary)\n",
    "\n",
    "a | b = 1010\n",
    "\n",
    "         |\n",
    "         \n",
    "        0100\n",
    "        \n",
    "      = 1110\n",
    "      \n",
    "      = 14 (Decimal)\n"
   ]
  },
  {
   "cell_type": "code",
   "execution_count": 60,
   "id": "1ee11dc1-c77f-4d83-8c8a-bf83076f5393",
   "metadata": {},
   "outputs": [
    {
     "data": {
      "text/plain": [
       "14"
      ]
     },
     "execution_count": 60,
     "metadata": {},
     "output_type": "execute_result"
    }
   ],
   "source": [
    "a | b"
   ]
  },
  {
   "cell_type": "markdown",
   "id": "287fd7f7-7ce7-409e-b13b-617adc6191b2",
   "metadata": {},
   "source": [
    "# Bitwise not operator: Returns one’s complement of the number.\n",
    "\n",
    "a = 10 = 1010 (Binary)\n",
    "\n",
    "In computers we usually represent numbers using 32 bits,so binary representation of 10 is (....0000 1010)[32 bits]\n",
    "\n",
    "~a is basically 1's complement of a i.e ~a should be ~10 = ~(....0000 1010) = (....1111 0101) = intermediate-result\n",
    "\n",
    "Since bitwise negation inverts the sign bit,we now have a negative number. And we represent a negative number using 2's complement.\n",
    "\n",
    "2's complement of intermediate-result is:\n",
    "intermediate-res =  0101      //....1111 0101\n",
    "      \n",
    "                     1010      //....0000 1010 -(1's complement)\n",
    "                     \n",
    "                         +1    \n",
    "                         \n",
    "                 -----------\n",
    "                 \n",
    "                   =  1011   //....0000 1011\n",
    "                   \n",
    "                  -----------\n",
    "                  \n",
    "                   =   -11 (Decimal)\n",
    "                   \n",
    "thus ~a = -11"
   ]
  },
  {
   "cell_type": "code",
   "execution_count": 61,
   "id": "2026206c-9ebc-4dc6-8ca7-b2ddb90c4c91",
   "metadata": {},
   "outputs": [
    {
     "data": {
      "text/plain": [
       "-11"
      ]
     },
     "execution_count": 61,
     "metadata": {},
     "output_type": "execute_result"
    }
   ],
   "source": [
    "~a"
   ]
  },
  {
   "cell_type": "markdown",
   "id": "8e90d682-173d-40f6-bba5-7eb3ec108fd0",
   "metadata": {},
   "source": [
    "# Bitwise xor operator: Returns 1 if one of the bits is 1 and the other is 0 else returns false.\n",
    "\n",
    "a = 10 = 1010 (Binary)\n",
    "\n",
    "b = 4 =  0100 (Binary)\n",
    "\n",
    "a ^ b = 1010\n",
    "\n",
    "         ^\n",
    "         \n",
    "        0100\n",
    "        \n",
    "      = 1110\n",
    "      \n",
    "      = 14 (Decimal)"
   ]
  },
  {
   "cell_type": "code",
   "execution_count": 62,
   "id": "b9fc0ac5-c16c-45d1-93ad-acf45b548e2c",
   "metadata": {},
   "outputs": [
    {
     "data": {
      "text/plain": [
       "14"
      ]
     },
     "execution_count": 62,
     "metadata": {},
     "output_type": "execute_result"
    }
   ],
   "source": [
    "a ^ b"
   ]
  },
  {
   "cell_type": "code",
   "execution_count": 63,
   "id": "8f869c33-1d67-4fc9-b418-abd7a8a9ac4a",
   "metadata": {},
   "outputs": [
    {
     "name": "stdout",
     "output_type": "stream",
     "text": [
      "a & b = 0\n",
      "a | b = 14\n",
      "~a = -11\n",
      "a ^ b = 14\n"
     ]
    }
   ],
   "source": [
    "a = 10\n",
    "b = 4\n",
    " \n",
    "# Print bitwise AND operation\n",
    "print(\"a & b =\", a & b)\n",
    " \n",
    "# Print bitwise OR operation\n",
    "print(\"a | b =\", a | b)\n",
    " \n",
    "# Print bitwise NOT operation\n",
    "print(\"~a =\", ~a)\n",
    " \n",
    "# print bitwise XOR operation\n",
    "print(\"a ^ b =\", a ^ b)"
   ]
  },
  {
   "cell_type": "markdown",
   "id": "7340844f-b5b2-4b52-9b16-e89231ca2668",
   "metadata": {},
   "source": [
    "# Shift Operators\n",
    "\n",
    "These operators are used to shift the bits of a number left or right thereby multiplying or dividing the number by two respectively. They can be used when we have to multiply or divide a number by two. \n",
    "Bitwise right shift: Shifts the bits of the number to the right and fills 0 on voids left( fills 1 in the case of a negative number) as a result. Similar effect as of dividing the number with some power of two.\n",
    "\n",
    "Example: \n",
    "\n",
    "Example 1:\n",
    "\n",
    "a = 10 = 0000 1010 (Binary)\n",
    "\n",
    "a >> 1 = 0000 0101 = 5\n",
    "\n",
    "Example 2:\n",
    "\n",
    "a = -10 = 1111 0110 (Binary)\n",
    "\n",
    "a >> 1 = 1111 1011 = -5 "
   ]
  },
  {
   "cell_type": "code",
   "execution_count": 64,
   "id": "3cbd4ccb-35d1-473f-91dd-9a2a57aaecc2",
   "metadata": {},
   "outputs": [
    {
     "data": {
      "text/plain": [
       "5"
      ]
     },
     "execution_count": 64,
     "metadata": {},
     "output_type": "execute_result"
    }
   ],
   "source": [
    "a >> 1"
   ]
  },
  {
   "cell_type": "code",
   "execution_count": 65,
   "id": "22e93b43-1ea6-4d9f-bd7b-ab282fb275a4",
   "metadata": {},
   "outputs": [
    {
     "data": {
      "text/plain": [
       "-5"
      ]
     },
     "execution_count": 65,
     "metadata": {},
     "output_type": "execute_result"
    }
   ],
   "source": [
    "a = -10\n",
    "a >> 1"
   ]
  },
  {
   "cell_type": "markdown",
   "id": "1fff9f99-bedd-4fdf-b003-4858ff462a1f",
   "metadata": {},
   "source": [
    "# Bitwise left shift: Shifts the bits of the number to the left and fills 0 on voids right as a result. Similar effect as of multiplying the number with some power of two.\n",
    "Example: \n",
    "\n",
    "Example 1:\n",
    "\n",
    "a = 5 = 0000 0101 (Binary)\n",
    "\n",
    "a << 1 = 0000 1010 = 10\n",
    "\n",
    "a << 2 = 0001 0100 = 20 \n",
    "\n",
    "Example 2:\n",
    "\n",
    "b = -10 = 1111 0110 (Binary)\n",
    "\n",
    "b << 1 = 1110 1100 = -20\n",
    "\n",
    "b << 2 = 1101 1000 = -40"
   ]
  },
  {
   "cell_type": "code",
   "execution_count": 67,
   "id": "baf3f75a-3fa7-4230-8430-bc1b5aace6f4",
   "metadata": {},
   "outputs": [
    {
     "name": "stdout",
     "output_type": "stream",
     "text": [
      "10\n",
      "20\n"
     ]
    }
   ],
   "source": [
    "a = 5\n",
    "print(a << 1)\n",
    "print(a << 2)"
   ]
  },
  {
   "cell_type": "code",
   "execution_count": 68,
   "id": "66246fdf-f1ae-4b6a-8d05-7cfd5f72d7e1",
   "metadata": {},
   "outputs": [
    {
     "name": "stdout",
     "output_type": "stream",
     "text": [
      "-20\n",
      "-40\n"
     ]
    }
   ],
   "source": [
    "b = -10\n",
    "\n",
    "print(b << 1)\n",
    "\n",
    "print(b << 2)"
   ]
  },
  {
   "cell_type": "markdown",
   "id": "31fe76b7-8230-4819-a240-ebf250c35555",
   "metadata": {},
   "source": [
    "# Strings"
   ]
  },
  {
   "cell_type": "code",
   "execution_count": 72,
   "id": "8ac1bbde-e8e9-4161-86f2-5ab3aa30d3ae",
   "metadata": {},
   "outputs": [
    {
     "data": {
      "text/plain": [
       "'Data Science'"
      ]
     },
     "execution_count": 72,
     "metadata": {},
     "output_type": "execute_result"
    }
   ],
   "source": [
    "\n",
    "\"Data Science\""
   ]
  },
  {
   "cell_type": "code",
   "execution_count": 70,
   "id": "af04b3f4-6b79-4d7a-bd62-e4f7f9632744",
   "metadata": {},
   "outputs": [
    {
     "data": {
      "text/plain": [
       "'Yoga'"
      ]
     },
     "execution_count": 70,
     "metadata": {},
     "output_type": "execute_result"
    }
   ],
   "source": [
    "'Yoga'"
   ]
  },
  {
   "cell_type": "code",
   "execution_count": 74,
   "id": "f5fa7108-7562-428e-bdb5-3394a48f0c57",
   "metadata": {},
   "outputs": [],
   "source": [
    "str1=\"Data Science\""
   ]
  },
  {
   "cell_type": "code",
   "execution_count": 75,
   "id": "f3e13c90-7201-4bf7-b9d2-ee1378ce0835",
   "metadata": {},
   "outputs": [
    {
     "data": {
      "text/plain": [
       "str"
      ]
     },
     "execution_count": 75,
     "metadata": {},
     "output_type": "execute_result"
    }
   ],
   "source": [
    "type(str1)"
   ]
  },
  {
   "cell_type": "code",
   "execution_count": 76,
   "id": "46bcde2b-46f2-4829-a40c-77292c9e8153",
   "metadata": {},
   "outputs": [
    {
     "data": {
      "text/plain": [
       "'D'"
      ]
     },
     "execution_count": 76,
     "metadata": {},
     "output_type": "execute_result"
    }
   ],
   "source": [
    "str1[0]"
   ]
  },
  {
   "cell_type": "code",
   "execution_count": 77,
   "id": "c9e69870-6592-41e6-b773-b4f3dfe7fdc2",
   "metadata": {},
   "outputs": [
    {
     "ename": "TypeError",
     "evalue": "'str' object does not support item assignment",
     "output_type": "error",
     "traceback": [
      "\u001b[0;31m---------------------------------------------------------------------------\u001b[0m",
      "\u001b[0;31mTypeError\u001b[0m                                 Traceback (most recent call last)",
      "Cell \u001b[0;32mIn[77], line 1\u001b[0m\n\u001b[0;32m----> 1\u001b[0m \u001b[43mstr1\u001b[49m\u001b[43m[\u001b[49m\u001b[38;5;241;43m0\u001b[39;49m\u001b[43m]\u001b[49m\u001b[38;5;241m=\u001b[39m\u001b[38;5;124m'\u001b[39m\u001b[38;5;124mM\u001b[39m\u001b[38;5;124m'\u001b[39m\n",
      "\u001b[0;31mTypeError\u001b[0m: 'str' object does not support item assignment"
     ]
    }
   ],
   "source": [
    "str1[0]='M'"
   ]
  },
  {
   "cell_type": "markdown",
   "id": "f452444c-b419-4c37-bc43-aff1f9d069a4",
   "metadata": {},
   "source": [
    "# String is immutable"
   ]
  },
  {
   "cell_type": "code",
   "execution_count": 79,
   "id": "c8462ce7-02cf-44e9-8574-252f1d2bd390",
   "metadata": {},
   "outputs": [],
   "source": [
    "str1='Yoga'"
   ]
  },
  {
   "cell_type": "code",
   "execution_count": 80,
   "id": "eb5c5f33-9304-48b8-b981-d2baf2cb1003",
   "metadata": {},
   "outputs": [],
   "source": [
    "str1='PW skills Data Science'"
   ]
  },
  {
   "cell_type": "markdown",
   "id": "2012d7c2-d27e-45e8-8097-bd768d98cc6f",
   "metadata": {},
   "source": [
    "# Slice Operation"
   ]
  },
  {
   "cell_type": "code",
   "execution_count": 81,
   "id": "b03ea8be-746a-4f96-b889-0e9f1ce306d2",
   "metadata": {},
   "outputs": [
    {
     "data": {
      "text/plain": [
       "'ills Data Science'"
      ]
     },
     "execution_count": 81,
     "metadata": {},
     "output_type": "execute_result"
    }
   ],
   "source": [
    "str1[5:]"
   ]
  },
  {
   "cell_type": "code",
   "execution_count": 83,
   "id": "6b1cab0d-ca91-4150-8980-3a6e2bd056e1",
   "metadata": {},
   "outputs": [
    {
     "data": {
      "text/plain": [
       "'ills D'"
      ]
     },
     "execution_count": 83,
     "metadata": {},
     "output_type": "execute_result"
    }
   ],
   "source": [
    "str1[5:11]"
   ]
  },
  {
   "cell_type": "code",
   "execution_count": 84,
   "id": "dcbf6821-5f3e-4f42-addc-7176278553f1",
   "metadata": {},
   "outputs": [
    {
     "data": {
      "text/plain": [
       "'e'"
      ]
     },
     "execution_count": 84,
     "metadata": {},
     "output_type": "execute_result"
    }
   ],
   "source": [
    "str1[-1]"
   ]
  },
  {
   "cell_type": "code",
   "execution_count": 85,
   "id": "c92f51de-9b6a-4161-8933-aba0663ae48e",
   "metadata": {},
   "outputs": [
    {
     "data": {
      "text/plain": [
       "'n'"
      ]
     },
     "execution_count": 85,
     "metadata": {},
     "output_type": "execute_result"
    }
   ],
   "source": [
    "str1[-3]"
   ]
  },
  {
   "cell_type": "code",
   "execution_count": 86,
   "id": "a81f7c57-a4bc-409a-b256-5bcc6b1ac3d5",
   "metadata": {},
   "outputs": [
    {
     "data": {
      "text/plain": [
       "'nce'"
      ]
     },
     "execution_count": 86,
     "metadata": {},
     "output_type": "execute_result"
    }
   ],
   "source": [
    "str1[-3:]"
   ]
  },
  {
   "cell_type": "code",
   "execution_count": 87,
   "id": "d4f72685-da46-4e60-a94f-a27bdda0f2cd",
   "metadata": {},
   "outputs": [
    {
     "data": {
      "text/plain": [
       "'Science'"
      ]
     },
     "execution_count": 87,
     "metadata": {},
     "output_type": "execute_result"
    }
   ],
   "source": [
    "str1[-7:]"
   ]
  },
  {
   "cell_type": "code",
   "execution_count": 89,
   "id": "2e960852-074d-423a-aced-361157f6373a",
   "metadata": {},
   "outputs": [
    {
     "data": {
      "text/plain": [
       "'Scie'"
      ]
     },
     "execution_count": 89,
     "metadata": {},
     "output_type": "execute_result"
    }
   ],
   "source": [
    "str1[-7:-3]"
   ]
  },
  {
   "cell_type": "code",
   "execution_count": 93,
   "id": "36f1410f-f9f6-4ec7-938c-854886b4ee90",
   "metadata": {},
   "outputs": [
    {
     "data": {
      "text/plain": [
       "''"
      ]
     },
     "execution_count": 93,
     "metadata": {},
     "output_type": "execute_result"
    }
   ],
   "source": [
    "str1[-7:2] # Will not extract strings backward"
   ]
  },
  {
   "cell_type": "code",
   "execution_count": 92,
   "id": "fe4fee55-d924-4d93-81fb-650c6efec4ff",
   "metadata": {},
   "outputs": [
    {
     "data": {
      "text/plain": [
       "''"
      ]
     },
     "execution_count": 92,
     "metadata": {},
     "output_type": "execute_result"
    }
   ],
   "source": [
    "str[7:5] # Will not extract strings backward"
   ]
  },
  {
   "cell_type": "code",
   "execution_count": 96,
   "id": "b1137d4b-5152-4174-8181-28cda7aaac47",
   "metadata": {},
   "outputs": [
    {
     "data": {
      "text/plain": [
       "'ls Data Scienc'"
      ]
     },
     "execution_count": 96,
     "metadata": {},
     "output_type": "execute_result"
    }
   ],
   "source": [
    "str1[7:-1] # From 7th position to last before index"
   ]
  },
  {
   "cell_type": "code",
   "execution_count": 98,
   "id": "e86e341c-c0e6-4176-af85-7c41bd0d4dd7",
   "metadata": {},
   "outputs": [
    {
     "data": {
      "text/plain": [
       "'PW skills Data Science'"
      ]
     },
     "execution_count": 98,
     "metadata": {},
     "output_type": "execute_result"
    }
   ],
   "source": [
    "str1[:] # Displays completely"
   ]
  },
  {
   "cell_type": "code",
   "execution_count": 99,
   "id": "bd3ee64c-2189-43ec-a397-3409166156e2",
   "metadata": {},
   "outputs": [
    {
     "data": {
      "text/plain": [
       "'rt'"
      ]
     },
     "execution_count": 99,
     "metadata": {},
     "output_type": "execute_result"
    }
   ],
   "source": [
    "name='Karthik'\n",
    "name[-5:4]"
   ]
  },
  {
   "cell_type": "code",
   "execution_count": 100,
   "id": "85c8310c-1ade-410d-9700-ec2fbf182885",
   "metadata": {},
   "outputs": [
    {
     "data": {
      "text/plain": [
       "'PW skills Data Science'"
      ]
     },
     "execution_count": 100,
     "metadata": {},
     "output_type": "execute_result"
    }
   ],
   "source": [
    "str1[::]"
   ]
  },
  {
   "cell_type": "code",
   "execution_count": 102,
   "id": "81f7a7f6-bfc9-4d89-a388-acdc24249de3",
   "metadata": {},
   "outputs": [
    {
     "data": {
      "text/plain": [
       "'ecneicS ataD slliks WP'"
      ]
     },
     "execution_count": 102,
     "metadata": {},
     "output_type": "execute_result"
    }
   ],
   "source": [
    "str1[::-1] # Reversing the string completely"
   ]
  },
  {
   "cell_type": "code",
   "execution_count": 105,
   "id": "1a8547a1-578d-4711-b440-4ce6de7364d8",
   "metadata": {},
   "outputs": [
    {
     "data": {
      "text/plain": [
       "'eniSaa lisW'"
      ]
     },
     "execution_count": 105,
     "metadata": {},
     "output_type": "execute_result"
    }
   ],
   "source": [
    "str1[::-2] # Retrieves every element in the position of 2 multiples like alternate positions"
   ]
  },
  {
   "cell_type": "code",
   "execution_count": 106,
   "id": "abdcec77-de0b-4489-960a-db8e614bb887",
   "metadata": {},
   "outputs": [
    {
     "data": {
      "text/plain": [
       "'eeSt lsP'"
      ]
     },
     "execution_count": 106,
     "metadata": {},
     "output_type": "execute_result"
    }
   ],
   "source": [
    "str1[::-3] # Retrieves every element in the position of 3 multiples like 0,3,6,9"
   ]
  },
  {
   "cell_type": "code",
   "execution_count": 107,
   "id": "2cba712a-027a-4287-9033-9c186179c3c8",
   "metadata": {},
   "outputs": [
    {
     "data": {
      "text/plain": [
       "'Wsil '"
      ]
     },
     "execution_count": 107,
     "metadata": {},
     "output_type": "execute_result"
    }
   ],
   "source": [
    "str1[1:10:2]"
   ]
  },
  {
   "cell_type": "code",
   "execution_count": 108,
   "id": "b48eb3fc-e78b-40bb-aae0-90c22adf9b73",
   "metadata": {},
   "outputs": [
    {
     "data": {
      "text/plain": [
       "'Wsil aaSine'"
      ]
     },
     "execution_count": 108,
     "metadata": {},
     "output_type": "execute_result"
    }
   ],
   "source": [
    "str1[1::2]"
   ]
  },
  {
   "cell_type": "code",
   "execution_count": 110,
   "id": "5db05dec-258c-4b98-9904-0baa84cadb1f",
   "metadata": {},
   "outputs": [
    {
     "data": {
      "text/plain": [
       "'liks WP'"
      ]
     },
     "execution_count": 110,
     "metadata": {},
     "output_type": "execute_result"
    }
   ],
   "source": [
    "str1[6::-1] # Reverse order displays 6 elements"
   ]
  },
  {
   "cell_type": "code",
   "execution_count": 111,
   "id": "f749c067-9164-4a94-b1c0-6283a3d1ad65",
   "metadata": {},
   "outputs": [
    {
     "data": {
      "text/plain": [
       "'s WP'"
      ]
     },
     "execution_count": 111,
     "metadata": {},
     "output_type": "execute_result"
    }
   ],
   "source": [
    "str1[3::-1] # Reverse order displays 3 elements"
   ]
  },
  {
   "cell_type": "code",
   "execution_count": 112,
   "id": "698c0cfd-9692-4487-9815-8d980e0f48da",
   "metadata": {},
   "outputs": [
    {
     "data": {
      "text/plain": [
       "'ecneicS ataD sllik'"
      ]
     },
     "execution_count": 112,
     "metadata": {},
     "output_type": "execute_result"
    }
   ],
   "source": [
    "str1[:3:-1] "
   ]
  },
  {
   "cell_type": "code",
   "execution_count": 113,
   "id": "7f8727f3-c420-486f-a2bb-4bb2a646cf79",
   "metadata": {},
   "outputs": [
    {
     "data": {
      "text/plain": [
       "'ecalW'"
      ]
     },
     "execution_count": 113,
     "metadata": {},
     "output_type": "execute_result"
    }
   ],
   "source": [
    "str1[::-5]"
   ]
  },
  {
   "cell_type": "code",
   "execution_count": 114,
   "id": "5dcb3d1b-df09-480d-82d5-a76323a2adbf",
   "metadata": {},
   "outputs": [],
   "source": [
    "coursename='Data Science Masters'"
   ]
  },
  {
   "cell_type": "code",
   "execution_count": 115,
   "id": "fc5ff6fc-d79d-499f-b9b6-40c8b994915c",
   "metadata": {},
   "outputs": [
    {
     "data": {
      "text/plain": [
       "20"
      ]
     },
     "execution_count": 115,
     "metadata": {},
     "output_type": "execute_result"
    }
   ],
   "source": [
    "len(coursename)"
   ]
  },
  {
   "cell_type": "code",
   "execution_count": 118,
   "id": "c449b479-48f1-4e42-b253-4e336de4bb08",
   "metadata": {},
   "outputs": [
    {
     "data": {
      "text/plain": [
       "'Science'"
      ]
     },
     "execution_count": 118,
     "metadata": {},
     "output_type": "execute_result"
    }
   ],
   "source": [
    "coursename[5:12]"
   ]
  },
  {
   "cell_type": "code",
   "execution_count": 120,
   "id": "2b327750-cfbc-4f43-8b72-a025929547e2",
   "metadata": {},
   "outputs": [
    {
     "data": {
      "text/plain": [
       "'Science'"
      ]
     },
     "execution_count": 120,
     "metadata": {},
     "output_type": "execute_result"
    }
   ],
   "source": [
    "coursename[-15:-8]"
   ]
  },
  {
   "cell_type": "code",
   "execution_count": 123,
   "id": "9fcb5599-7032-424a-aa64-d3bffc441b58",
   "metadata": {},
   "outputs": [
    {
     "data": {
      "text/plain": [
       "'sretsaM ecneicS ataD'"
      ]
     },
     "execution_count": 123,
     "metadata": {},
     "output_type": "execute_result"
    }
   ],
   "source": [
    "coursename[::-1]"
   ]
  },
  {
   "cell_type": "code",
   "execution_count": 125,
   "id": "202991ef-23ea-4be4-8fb5-159b2b322fc4",
   "metadata": {},
   "outputs": [
    {
     "data": {
      "text/plain": [
       "'ecneicS'"
      ]
     },
     "execution_count": 125,
     "metadata": {},
     "output_type": "execute_result"
    }
   ],
   "source": [
    "coursename[11:4:-1]"
   ]
  },
  {
   "cell_type": "markdown",
   "id": "290b2258-4a50-4000-9dbe-1f646a11bd0b",
   "metadata": {},
   "source": [
    "# Concatenation"
   ]
  },
  {
   "cell_type": "code",
   "execution_count": 127,
   "id": "4ca592ae-051e-4a92-8d24-e6d63266d965",
   "metadata": {},
   "outputs": [
    {
     "data": {
      "text/plain": [
       "'Data Science Masters Course'"
      ]
     },
     "execution_count": 127,
     "metadata": {},
     "output_type": "execute_result"
    }
   ],
   "source": [
    "coursename+\" Course\""
   ]
  },
  {
   "cell_type": "code",
   "execution_count": 130,
   "id": "8df8666e-53ea-44b4-8208-6ce410fad5c0",
   "metadata": {},
   "outputs": [
    {
     "data": {
      "text/plain": [
       "'Data Science MastersData Science MastersData Science MastersData Science MastersData Science Masters'"
      ]
     },
     "execution_count": 130,
     "metadata": {},
     "output_type": "execute_result"
    }
   ],
   "source": [
    "coursename * 5 # Concatenate 5 times"
   ]
  },
  {
   "cell_type": "code",
   "execution_count": 131,
   "id": "a925c90a-370a-4e3a-b8a9-689b7b2a6353",
   "metadata": {},
   "outputs": [
    {
     "data": {
      "text/plain": [
       "20"
      ]
     },
     "execution_count": 131,
     "metadata": {},
     "output_type": "execute_result"
    }
   ],
   "source": [
    "len(coursename)"
   ]
  },
  {
   "cell_type": "code",
   "execution_count": 132,
   "id": "e5f7ecc7-9b3e-4ab8-b2e6-3ee2a5c80294",
   "metadata": {},
   "outputs": [
    {
     "data": {
      "text/plain": [
       "'Data Science Masters'"
      ]
     },
     "execution_count": 132,
     "metadata": {},
     "output_type": "execute_result"
    }
   ],
   "source": [
    "coursename"
   ]
  },
  {
   "cell_type": "code",
   "execution_count": 133,
   "id": "e7d97380-1333-4e83-b6a2-e6b0b739c617",
   "metadata": {},
   "outputs": [
    {
     "data": {
      "text/plain": [
       "1"
      ]
     },
     "execution_count": 133,
     "metadata": {},
     "output_type": "execute_result"
    }
   ],
   "source": [
    "coursename.find('a')"
   ]
  },
  {
   "cell_type": "code",
   "execution_count": 134,
   "id": "8cc234ff-b78f-4c73-a142-b93d18f94917",
   "metadata": {},
   "outputs": [
    {
     "data": {
      "text/plain": [
       "9"
      ]
     },
     "execution_count": 134,
     "metadata": {},
     "output_type": "execute_result"
    }
   ],
   "source": [
    "coursename.find('n')"
   ]
  },
  {
   "cell_type": "code",
   "execution_count": 135,
   "id": "8b303219-3277-4c39-9e47-897c78e45c95",
   "metadata": {},
   "outputs": [
    {
     "data": {
      "text/plain": [
       "3"
      ]
     },
     "execution_count": 135,
     "metadata": {},
     "output_type": "execute_result"
    }
   ],
   "source": [
    "coursename.find('a',2)"
   ]
  },
  {
   "cell_type": "code",
   "execution_count": 137,
   "id": "61503c15-8727-4525-b1b8-2fff12e45a97",
   "metadata": {},
   "outputs": [
    {
     "data": {
      "text/plain": [
       "3"
      ]
     },
     "execution_count": 137,
     "metadata": {},
     "output_type": "execute_result"
    }
   ],
   "source": [
    "coursename.find('a',2,20) # From 2nd index till 20th index"
   ]
  },
  {
   "cell_type": "code",
   "execution_count": 138,
   "id": "6c9af148-ce97-4769-9daa-b649bc107911",
   "metadata": {},
   "outputs": [
    {
     "data": {
      "text/plain": [
       "-1"
      ]
     },
     "execution_count": 138,
     "metadata": {},
     "output_type": "execute_result"
    }
   ],
   "source": [
    "coursename.find('z')"
   ]
  },
  {
   "cell_type": "code",
   "execution_count": 139,
   "id": "f13c5ac9-b9be-42e7-a867-89de872971e0",
   "metadata": {},
   "outputs": [],
   "source": [
    "## count function"
   ]
  },
  {
   "cell_type": "code",
   "execution_count": 141,
   "id": "bda40d05-582d-43c5-8cbe-e8c00eeaba6b",
   "metadata": {},
   "outputs": [
    {
     "data": {
      "text/plain": [
       "3"
      ]
     },
     "execution_count": 141,
     "metadata": {},
     "output_type": "execute_result"
    }
   ],
   "source": [
    "coursename.count('a') # 'a' is present thrice in the coursename"
   ]
  },
  {
   "cell_type": "code",
   "execution_count": 142,
   "id": "870e590b-c0e7-4a12-a236-4df4c8ad64b1",
   "metadata": {},
   "outputs": [
    {
     "data": {
      "text/plain": [
       "2"
      ]
     },
     "execution_count": 142,
     "metadata": {},
     "output_type": "execute_result"
    }
   ],
   "source": [
    "coursename.count(' ')"
   ]
  },
  {
   "cell_type": "code",
   "execution_count": 145,
   "id": "92dedb07-30a8-47e5-9798-1198d791befc",
   "metadata": {},
   "outputs": [
    {
     "data": {
      "text/plain": [
       "21"
      ]
     },
     "execution_count": 145,
     "metadata": {},
     "output_type": "execute_result"
    }
   ],
   "source": [
    "coursename.count('') # counts every character"
   ]
  },
  {
   "cell_type": "code",
   "execution_count": 144,
   "id": "c61930aa-a089-4246-af91-d410c3d9931f",
   "metadata": {},
   "outputs": [
    {
     "data": {
      "text/plain": [
       "20"
      ]
     },
     "execution_count": 144,
     "metadata": {},
     "output_type": "execute_result"
    }
   ],
   "source": [
    "len(coursename)"
   ]
  },
  {
   "cell_type": "code",
   "execution_count": 146,
   "id": "a6e69f41-8a15-4208-b4c3-50f316437140",
   "metadata": {},
   "outputs": [
    {
     "data": {
      "text/plain": [
       "3"
      ]
     },
     "execution_count": 146,
     "metadata": {},
     "output_type": "execute_result"
    }
   ],
   "source": [
    "coursename.find('a',2,10)"
   ]
  },
  {
   "cell_type": "markdown",
   "id": "3321c4e0-5d5e-4852-887e-25eb2ee85c3d",
   "metadata": {},
   "source": [
    "# Split function"
   ]
  },
  {
   "cell_type": "code",
   "execution_count": 147,
   "id": "06e1fc3c-6547-4520-bc1a-d6c8548d9e50",
   "metadata": {},
   "outputs": [
    {
     "data": {
      "text/plain": [
       "['Data', 'Science', 'Masters']"
      ]
     },
     "execution_count": 147,
     "metadata": {},
     "output_type": "execute_result"
    }
   ],
   "source": [
    "coursename.split(' ')"
   ]
  },
  {
   "cell_type": "code",
   "execution_count": 148,
   "id": "e2cda9b4-0a6a-455e-b472-72f52c1d62ac",
   "metadata": {},
   "outputs": [
    {
     "data": {
      "text/plain": [
       "['Data ', 'cience Masters']"
      ]
     },
     "execution_count": 148,
     "metadata": {},
     "output_type": "execute_result"
    }
   ],
   "source": [
    "coursename.split('S')"
   ]
  },
  {
   "cell_type": "code",
   "execution_count": 149,
   "id": "353167ed-b4ee-48b5-8e1f-6219488ebd29",
   "metadata": {},
   "outputs": [
    {
     "data": {
      "text/plain": [
       "'Data Science Masters'"
      ]
     },
     "execution_count": 149,
     "metadata": {},
     "output_type": "execute_result"
    }
   ],
   "source": [
    "coursename"
   ]
  },
  {
   "cell_type": "code",
   "execution_count": 151,
   "id": "10428f5c-6587-4e88-a0d8-99f54992d2ee",
   "metadata": {},
   "outputs": [
    {
     "data": {
      "text/plain": [
       "('Data ', 'S', 'cience Masters')"
      ]
     },
     "execution_count": 151,
     "metadata": {},
     "output_type": "execute_result"
    }
   ],
   "source": [
    "coursename.partition('S') # splits based on S, but keeps S as well"
   ]
  },
  {
   "cell_type": "code",
   "execution_count": 152,
   "id": "3bb31898-84b9-489a-aaa0-421db0ef8fea",
   "metadata": {},
   "outputs": [
    {
     "data": {
      "text/plain": [
       "['Data Science Ma', 'ter', '']"
      ]
     },
     "execution_count": 152,
     "metadata": {},
     "output_type": "execute_result"
    }
   ],
   "source": [
    "coursename.split('s') # partitions for all 's'"
   ]
  },
  {
   "cell_type": "code",
   "execution_count": 154,
   "id": "f3a87ebb-adf7-4052-aec5-e5959cb7be6c",
   "metadata": {},
   "outputs": [
    {
     "data": {
      "text/plain": [
       "('Data Science Ma', 's', 'ters')"
      ]
     },
     "execution_count": 154,
     "metadata": {},
     "output_type": "execute_result"
    }
   ],
   "source": [
    "coursename.partition('s') # partitions only for first s"
   ]
  },
  {
   "cell_type": "markdown",
   "id": "db02210d-e58e-4078-aadf-65970d40c0cb",
   "metadata": {},
   "source": [
    "# String upper and lower case"
   ]
  },
  {
   "cell_type": "code",
   "execution_count": 155,
   "id": "d04e1302-e48f-4a05-9276-24c837f902a0",
   "metadata": {},
   "outputs": [
    {
     "data": {
      "text/plain": [
       "'DATA SCIENCE MASTERS'"
      ]
     },
     "execution_count": 155,
     "metadata": {},
     "output_type": "execute_result"
    }
   ],
   "source": [
    "coursename.upper()"
   ]
  },
  {
   "cell_type": "code",
   "execution_count": 156,
   "id": "9b46ff0f-3eec-4fce-92bd-df5c1b6b80e0",
   "metadata": {},
   "outputs": [
    {
     "data": {
      "text/plain": [
       "'data science masters'"
      ]
     },
     "execution_count": 156,
     "metadata": {},
     "output_type": "execute_result"
    }
   ],
   "source": [
    "coursename.lower()"
   ]
  },
  {
   "cell_type": "code",
   "execution_count": 160,
   "id": "4bdfa33d-57a7-416d-b364-f09ec2ff4f81",
   "metadata": {},
   "outputs": [
    {
     "data": {
      "text/plain": [
       "'dATA sCIENCE mASTERS'"
      ]
     },
     "execution_count": 160,
     "metadata": {},
     "output_type": "execute_result"
    }
   ],
   "source": [
    "coursename.swapcase() # all lower to upper, and upper to lower"
   ]
  },
  {
   "cell_type": "code",
   "execution_count": 161,
   "id": "2a29dcff-3bd8-4c80-bddd-ac54cb12bd72",
   "metadata": {},
   "outputs": [
    {
     "data": {
      "text/plain": [
       "'Data Science Masters'"
      ]
     },
     "execution_count": 161,
     "metadata": {},
     "output_type": "execute_result"
    }
   ],
   "source": [
    "coursename.title() # Each word is title, with init cap"
   ]
  },
  {
   "cell_type": "code",
   "execution_count": null,
   "id": "eb4345cb-0ea2-4e1f-bbf6-b0ce28b1de31",
   "metadata": {},
   "outputs": [],
   "source": []
  }
 ],
 "metadata": {
  "kernelspec": {
   "display_name": "Python 3 (ipykernel)",
   "language": "python",
   "name": "python3"
  },
  "language_info": {
   "codemirror_mode": {
    "name": "ipython",
    "version": 3
   },
   "file_extension": ".py",
   "mimetype": "text/x-python",
   "name": "python",
   "nbconvert_exporter": "python",
   "pygments_lexer": "ipython3",
   "version": "3.10.8"
  }
 },
 "nbformat": 4,
 "nbformat_minor": 5
}
