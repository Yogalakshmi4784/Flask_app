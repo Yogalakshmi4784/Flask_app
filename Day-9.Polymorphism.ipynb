{
 "cells": [
  {
   "cell_type": "code",
   "execution_count": 1,
   "id": "7185105b-f23d-40bf-a8b9-faeb6a99f85f",
   "metadata": {},
   "outputs": [],
   "source": [
    "def add(a,b):\n",
    "    return a+b"
   ]
  },
  {
   "cell_type": "code",
   "execution_count": 2,
   "id": "8380e0bd-1fd2-4360-bd71-f861616b7deb",
   "metadata": {},
   "outputs": [
    {
     "data": {
      "text/plain": [
       "9"
      ]
     },
     "execution_count": 2,
     "metadata": {},
     "output_type": "execute_result"
    }
   ],
   "source": [
    "add(4,5)"
   ]
  },
  {
   "cell_type": "code",
   "execution_count": 3,
   "id": "544352e9-b131-4d6b-8ad9-8e2b70cf0b95",
   "metadata": {},
   "outputs": [
    {
     "data": {
      "text/plain": [
       "'Yogalakshmi'"
      ]
     },
     "execution_count": 3,
     "metadata": {},
     "output_type": "execute_result"
    }
   ],
   "source": [
    "add('Yoga','lakshmi')"
   ]
  },
  {
   "cell_type": "code",
   "execution_count": 5,
   "id": "36c388bb-26ec-44c2-9415-a45ce54bc54e",
   "metadata": {},
   "outputs": [
    {
     "data": {
      "text/plain": [
       "[2, 3, 5, 7, 8, 9]"
      ]
     },
     "execution_count": 5,
     "metadata": {},
     "output_type": "execute_result"
    }
   ],
   "source": [
    "add([2,3,5],[7,8,9])   # Polymorphism"
   ]
  },
  {
   "cell_type": "code",
   "execution_count": 3,
   "id": "abd0382d-42fc-415a-b455-dd49b0aee176",
   "metadata": {},
   "outputs": [],
   "source": [
    "import math\n"
   ]
  },
  {
   "cell_type": "code",
   "execution_count": 4,
   "id": "f2db4e25-08c8-4cdc-8a3d-cd65cd732a3e",
   "metadata": {},
   "outputs": [
    {
     "name": "stdout",
     "output_type": "stream",
     "text": [
      "Area of the circle: 78.54\n",
      "Area of the rectangle: 24\n",
      "Area of the triangle: 10.5\n"
     ]
    }
   ],
   "source": [
    "class shape:\n",
    "    def area(self):\n",
    "        pass\n",
    "    \n",
    "class Circle(shape):\n",
    "    def __init__(self,radius):\n",
    "        self.radius=radius\n",
    "        \n",
    "    def area(self):\n",
    "        return math.pi * self.radius**2\n",
    "    \n",
    "class rectangle(shape):\n",
    "    def __init__(self,length,breadth):\n",
    "        self.length=length\n",
    "        self.breadth=breadth\n",
    "        \n",
    "    def area(self):\n",
    "        return self.length * self.breadth\n",
    "    \n",
    "class triangle(shape):\n",
    "    def __init__(self,base,height):\n",
    "        self.base=base\n",
    "        self.height=height\n",
    "        \n",
    "    def area(self):\n",
    "        return 0.5 * self.base * self.height\n",
    "    \n",
    "# Function to calculate the area of any shape\n",
    "\n",
    "def cal_area(shape):\n",
    "    return shape.area()\n",
    "\n",
    "# Create instances of different shapes\n",
    "circle = Circle(5)\n",
    "rectangle = rectangle(4, 6)\n",
    "triangle = triangle(3, 7)\n",
    "\n",
    "print(f\"Area of the circle: {cal_area(circle):.2f}\")\n",
    "print(f\"Area of the rectangle: {cal_area(rectangle)}\")\n",
    "print(f\"Area of the triangle: {cal_area(triangle)}\")\n",
    "\n",
    "        \n",
    "    \n",
    "\n",
    "\n",
    "    "
   ]
  },
  {
   "cell_type": "code",
   "execution_count": null,
   "id": "02c7eec0-2e07-4cb4-ae01-c646d965858a",
   "metadata": {},
   "outputs": [],
   "source": []
  }
 ],
 "metadata": {
  "kernelspec": {
   "display_name": "Python 3 (ipykernel)",
   "language": "python",
   "name": "python3"
  },
  "language_info": {
   "codemirror_mode": {
    "name": "ipython",
    "version": 3
   },
   "file_extension": ".py",
   "mimetype": "text/x-python",
   "name": "python",
   "nbconvert_exporter": "python",
   "pygments_lexer": "ipython3",
   "version": "3.10.8"
  }
 },
 "nbformat": 4,
 "nbformat_minor": 5
}
