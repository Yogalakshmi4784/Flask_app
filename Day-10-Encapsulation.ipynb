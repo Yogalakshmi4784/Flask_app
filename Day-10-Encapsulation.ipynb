{
 "cells": [
  {
   "cell_type": "code",
   "execution_count": 1,
   "id": "c16e6162-1dcb-4c7c-9505-ee7b72aa12c3",
   "metadata": {},
   "outputs": [
    {
     "name": "stdout",
     "output_type": "stream",
     "text": [
      "Alice's age: 30\n",
      "Alice's age after a birthday: 31\n"
     ]
    }
   ],
   "source": [
    "class Person:\n",
    "    def __init__(self, name, age):\n",
    "        self.name = name\n",
    "        self.__age = age  # The double underscores make it private\n",
    "\n",
    "    def get_age(self):\n",
    "        return self.__age\n",
    "\n",
    "    def have_birthday(self):\n",
    "        self.__age += 1\n",
    "\n",
    "# Create a person instance\n",
    "alice = Person(\"Alice\", 30)\n",
    "\n",
    "# Accessing and modifying age using methods\n",
    "print(f\"{alice.name}'s age:\", alice.get_age())\n",
    "\n",
    "alice.have_birthday()\n",
    "print(f\"{alice.name}'s age after a birthday:\", alice.get_age())"
   ]
  },
  {
   "cell_type": "code",
   "execution_count": null,
   "id": "b510f62e-ffda-42e4-af78-4610e9c3c5d3",
   "metadata": {},
   "outputs": [],
   "source": [
    "\n"
   ]
  },
  {
   "cell_type": "code",
   "execution_count": 2,
   "id": "81d3d910-1521-4c46-87a4-8ed2edef7af6",
   "metadata": {},
   "outputs": [],
   "source": [
    "class car:\n",
    "    def __init__(self,year,make,model,speed):\n",
    "        self.__year=year\n",
    "        self.__make=make\n",
    "        self.__model=model\n",
    "        self.__speed=0\n",
    "        \n",
    "    "
   ]
  },
  {
   "cell_type": "code",
   "execution_count": 3,
   "id": "39b5a348-b777-4f71-a48a-788c430ee7b0",
   "metadata": {},
   "outputs": [],
   "source": [
    "obj_car=car(2021,'toyota','innova',12)"
   ]
  },
  {
   "cell_type": "code",
   "execution_count": 4,
   "id": "ed365a9e-63c6-424c-a92f-bf40cc532170",
   "metadata": {},
   "outputs": [
    {
     "ename": "AttributeError",
     "evalue": "'car' object has no attribute 'speed'",
     "output_type": "error",
     "traceback": [
      "\u001b[0;31m---------------------------------------------------------------------------\u001b[0m",
      "\u001b[0;31mAttributeError\u001b[0m                            Traceback (most recent call last)",
      "Cell \u001b[0;32mIn[4], line 1\u001b[0m\n\u001b[0;32m----> 1\u001b[0m \u001b[43mobj_car\u001b[49m\u001b[38;5;241;43m.\u001b[39;49m\u001b[43mspeed\u001b[49m\n",
      "\u001b[0;31mAttributeError\u001b[0m: 'car' object has no attribute 'speed'"
     ]
    }
   ],
   "source": [
    "obj_car.speed"
   ]
  },
  {
   "cell_type": "markdown",
   "id": "a258b19d-3b1c-4b89-bba4-8e72994a9647",
   "metadata": {},
   "source": [
    "# You canaccess private variable only using class name with _\n"
   ]
  },
  {
   "cell_type": "code",
   "execution_count": 5,
   "id": "634e77d7-76e2-4528-a3bf-5749331fe979",
   "metadata": {},
   "outputs": [
    {
     "data": {
      "text/plain": [
       "'toyota'"
      ]
     },
     "execution_count": 5,
     "metadata": {},
     "output_type": "execute_result"
    }
   ],
   "source": [
    "obj_car._car__make"
   ]
  },
  {
   "cell_type": "code",
   "execution_count": 6,
   "id": "9e1b96da-a0ef-4e2a-ad69-aef6681f13d8",
   "metadata": {},
   "outputs": [],
   "source": [
    "obj_car._car__year=2023"
   ]
  },
  {
   "cell_type": "code",
   "execution_count": 7,
   "id": "7b50f3e8-f9c9-47aa-bd80-7acf4784f283",
   "metadata": {},
   "outputs": [
    {
     "data": {
      "text/plain": [
       "2023"
      ]
     },
     "execution_count": 7,
     "metadata": {},
     "output_type": "execute_result"
    }
   ],
   "source": [
    "obj_car._car__year"
   ]
  },
  {
   "cell_type": "code",
   "execution_count": 21,
   "id": "196ac37a-c685-4f39-95d5-e93a93a67df7",
   "metadata": {},
   "outputs": [],
   "source": [
    "class car:\n",
    "    def __init__(self,year,make,model,speed):\n",
    "        self.__year=year\n",
    "        self.__make=make\n",
    "        self.__model=model\n",
    "        self.__speed=0\n",
    "        \n",
    "    # create a public method for users to modify the speed\n",
    "    def set_speed(self,speed):\n",
    "        self.__speed=speed if speed>0 else 0\n",
    "        \n",
    "    def get_speed(self):\n",
    "        return self.__speed"
   ]
  },
  {
   "cell_type": "code",
   "execution_count": 24,
   "id": "c52e8c2f-9b84-48d5-8374-9e156aa0ce6f",
   "metadata": {},
   "outputs": [],
   "source": [
    "obj_car=car(2021,'toyota','innova',12)\n"
   ]
  },
  {
   "cell_type": "code",
   "execution_count": 23,
   "id": "80bc37b4-ab73-48d9-a512-27a258efc540",
   "metadata": {},
   "outputs": [],
   "source": [
    "obj_car.set_speed(-123)"
   ]
  },
  {
   "cell_type": "code",
   "execution_count": 27,
   "id": "44a40804-0953-48bd-befe-52aa60fa0ed6",
   "metadata": {},
   "outputs": [],
   "source": [
    "obj_car.set_speed(200)"
   ]
  },
  {
   "cell_type": "code",
   "execution_count": 16,
   "id": "cf6fded3-5099-44d5-80aa-e082662fa657",
   "metadata": {},
   "outputs": [
    {
     "data": {
      "text/plain": [
       "123"
      ]
     },
     "execution_count": 16,
     "metadata": {},
     "output_type": "execute_result"
    }
   ],
   "source": [
    "obj_car._car__speed"
   ]
  },
  {
   "cell_type": "code",
   "execution_count": 28,
   "id": "0572f19b-ea18-4070-a850-ac10214e8819",
   "metadata": {},
   "outputs": [
    {
     "data": {
      "text/plain": [
       "200"
      ]
     },
     "execution_count": 28,
     "metadata": {},
     "output_type": "execute_result"
    }
   ],
   "source": [
    "obj_car.get_speed()"
   ]
  },
  {
   "cell_type": "code",
   "execution_count": 30,
   "id": "6edc8935-f591-442a-af8e-c8e10f631861",
   "metadata": {},
   "outputs": [],
   "source": [
    "class bank_account:\n",
    "    def __init__(self,balance):\n",
    "        self.__balance=balance\n",
    "        \n",
    "    def deposit(self,amount):\n",
    "        self.__balance = self.__balance + amount\n",
    "    \n",
    "    def withdrawal(self,amount):\n",
    "        if self.__balance>=amount:\n",
    "            self.__balance = self.__balance - amount\n",
    "            return True\n",
    "        else:\n",
    "            return False\n",
    "    def get_balance(self):\n",
    "        return self.__balance\n",
    "    "
   ]
  },
  {
   "cell_type": "code",
   "execution_count": 31,
   "id": "f720cd09-b3e3-4c85-994d-4a705b4bd72c",
   "metadata": {},
   "outputs": [],
   "source": [
    "bank=bank_account(10000)"
   ]
  },
  {
   "cell_type": "code",
   "execution_count": 32,
   "id": "4dcd3def-579b-43bf-baf3-c0bfaf207f88",
   "metadata": {},
   "outputs": [],
   "source": [
    "bank.deposit(100)"
   ]
  },
  {
   "cell_type": "code",
   "execution_count": 33,
   "id": "5f1fe405-1c85-4dff-be1d-46aad9d9f97c",
   "metadata": {},
   "outputs": [
    {
     "data": {
      "text/plain": [
       "10100"
      ]
     },
     "execution_count": 33,
     "metadata": {},
     "output_type": "execute_result"
    }
   ],
   "source": [
    "bank.get_balance()"
   ]
  },
  {
   "cell_type": "code",
   "execution_count": 34,
   "id": "dbfc2e75-9cfa-4b30-b575-4f059f00e6bf",
   "metadata": {},
   "outputs": [
    {
     "data": {
      "text/plain": [
       "True"
      ]
     },
     "execution_count": 34,
     "metadata": {},
     "output_type": "execute_result"
    }
   ],
   "source": [
    "bank.withdrawal(5000)"
   ]
  },
  {
   "cell_type": "code",
   "execution_count": 35,
   "id": "3ea79138-cbb2-46c3-9fe6-5ad2a8d5d83f",
   "metadata": {},
   "outputs": [
    {
     "data": {
      "text/plain": [
       "5100"
      ]
     },
     "execution_count": 35,
     "metadata": {},
     "output_type": "execute_result"
    }
   ],
   "source": [
    "bank.get_balance()"
   ]
  },
  {
   "cell_type": "code",
   "execution_count": 36,
   "id": "fdfb449b-cd40-4006-8740-32283d910681",
   "metadata": {},
   "outputs": [
    {
     "data": {
      "text/plain": [
       "False"
      ]
     },
     "execution_count": 36,
     "metadata": {},
     "output_type": "execute_result"
    }
   ],
   "source": [
    "bank.withdrawal(5500)"
   ]
  },
  {
   "cell_type": "code",
   "execution_count": 37,
   "id": "f83e629a-ce50-4d32-bafb-603528b99c5b",
   "metadata": {},
   "outputs": [
    {
     "data": {
      "text/plain": [
       "5100"
      ]
     },
     "execution_count": 37,
     "metadata": {},
     "output_type": "execute_result"
    }
   ],
   "source": [
    "bank._bank_account__balance"
   ]
  },
  {
   "cell_type": "code",
   "execution_count": null,
   "id": "0c83aa34-9438-48cf-9054-921e917c7034",
   "metadata": {},
   "outputs": [],
   "source": []
  }
 ],
 "metadata": {
  "kernelspec": {
   "display_name": "Python 3 (ipykernel)",
   "language": "python",
   "name": "python3"
  },
  "language_info": {
   "codemirror_mode": {
    "name": "ipython",
    "version": 3
   },
   "file_extension": ".py",
   "mimetype": "text/x-python",
   "name": "python",
   "nbconvert_exporter": "python",
   "pygments_lexer": "ipython3",
   "version": "3.10.8"
  }
 },
 "nbformat": 4,
 "nbformat_minor": 5
}
