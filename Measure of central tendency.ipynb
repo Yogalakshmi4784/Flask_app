{
 "cells": [
  {
   "cell_type": "markdown",
   "id": "b2f622b1-02c7-4a1a-8999-e42edf171d40",
   "metadata": {},
   "source": [
    "Measure of central tendency"
   ]
  },
  {
   "cell_type": "code",
   "execution_count": 1,
   "id": "fc1119c3-44e6-49e8-9fb0-65017da4b486",
   "metadata": {},
   "outputs": [],
   "source": [
    "#Mean"
   ]
  },
  {
   "cell_type": "code",
   "execution_count": 2,
   "id": "a0aec888-4c4f-45bf-9a7a-0ae27937a289",
   "metadata": {},
   "outputs": [],
   "source": [
    "age=[12,13,14,21,24]"
   ]
  },
  {
   "cell_type": "code",
   "execution_count": 3,
   "id": "d47a1bf2-95f0-429c-977f-32a684a2ec2e",
   "metadata": {},
   "outputs": [],
   "source": [
    "import numpy as np"
   ]
  },
  {
   "cell_type": "code",
   "execution_count": 5,
   "id": "4b47cfdb-d693-4fbb-84f2-ee6b0e01740c",
   "metadata": {},
   "outputs": [
    {
     "data": {
      "text/plain": [
       "16.8"
      ]
     },
     "execution_count": 5,
     "metadata": {},
     "output_type": "execute_result"
    }
   ],
   "source": [
    "np.mean(age)"
   ]
  },
  {
   "cell_type": "code",
   "execution_count": 7,
   "id": "8d7354f0-cdfa-421a-8d8d-f04fdb3f16c5",
   "metadata": {},
   "outputs": [
    {
     "data": {
      "text/plain": [
       "14.0"
      ]
     },
     "execution_count": 7,
     "metadata": {},
     "output_type": "execute_result"
    }
   ],
   "source": [
    "np.median(age)"
   ]
  },
  {
   "cell_type": "code",
   "execution_count": 9,
   "id": "71204f85-a85c-40e6-89e4-edc9ff1a9a98",
   "metadata": {},
   "outputs": [],
   "source": [
    "weights=[45,34,55,44,89,24,36,75,64,98,75]"
   ]
  },
  {
   "cell_type": "code",
   "execution_count": 11,
   "id": "b0ac8ab6-fee5-4c80-b420-90d0ef6aad7d",
   "metadata": {},
   "outputs": [
    {
     "data": {
      "text/plain": [
       "58.09090909090909"
      ]
     },
     "execution_count": 11,
     "metadata": {},
     "output_type": "execute_result"
    }
   ],
   "source": [
    "np.mean(weights)"
   ]
  },
  {
   "cell_type": "code",
   "execution_count": 12,
   "id": "f6a025b6-b4be-4269-bd08-8ff75ed54971",
   "metadata": {},
   "outputs": [],
   "source": [
    "weights=[45,34,55,44,89,24,36,75,64,98,75,1000]"
   ]
  },
  {
   "cell_type": "code",
   "execution_count": 13,
   "id": "8a7001fb-5629-4384-aa4a-df468c6c7a5a",
   "metadata": {},
   "outputs": [
    {
     "data": {
      "text/plain": [
       "136.58333333333334"
      ]
     },
     "execution_count": 13,
     "metadata": {},
     "output_type": "execute_result"
    }
   ],
   "source": [
    "np.mean(weights)"
   ]
  },
  {
   "cell_type": "code",
   "execution_count": 15,
   "id": "3f8e6ce0-0627-49ac-a9e1-bfa5d10aefdd",
   "metadata": {},
   "outputs": [
    {
     "data": {
      "text/plain": [
       "59.5"
      ]
     },
     "execution_count": 15,
     "metadata": {},
     "output_type": "execute_result"
    }
   ],
   "source": [
    "np.median(weights)"
   ]
  },
  {
   "cell_type": "code",
   "execution_count": 16,
   "id": "8f1a5ded-df2b-4092-a602-94196c6e8d21",
   "metadata": {},
   "outputs": [],
   "source": [
    "marks=[20,20,14,14,21,36,63,58,11,21,21,21,]"
   ]
  },
  {
   "cell_type": "code",
   "execution_count": 20,
   "id": "e091d1fe-77db-496e-93af-8d4aa9ac672e",
   "metadata": {},
   "outputs": [
    {
     "name": "stderr",
     "output_type": "stream",
     "text": [
      "/tmp/ipykernel_109/4240519967.py:2: FutureWarning: Unlike other reduction functions (e.g. `skew`, `kurtosis`), the default behavior of `mode` typically preserves the axis it acts along. In SciPy 1.11.0, this behavior will change: the default value of `keepdims` will become False, the `axis` over which the statistic is taken will be eliminated, and the value None will no longer be accepted. Set `keepdims` to True or False to avoid this warning.\n",
      "  stats.mode(marks)[0]\n"
     ]
    },
    {
     "data": {
      "text/plain": [
       "array([21])"
      ]
     },
     "execution_count": 20,
     "metadata": {},
     "output_type": "execute_result"
    }
   ],
   "source": [
    "from scipy import stats\n",
    "stats.mode(marks)[0]"
   ]
  },
  {
   "cell_type": "code",
   "execution_count": null,
   "id": "06f404fd-2623-4d0c-89ef-1b51432b72cc",
   "metadata": {},
   "outputs": [],
   "source": []
  }
 ],
 "metadata": {
  "kernelspec": {
   "display_name": "Python 3 (ipykernel)",
   "language": "python",
   "name": "python3"
  },
  "language_info": {
   "codemirror_mode": {
    "name": "ipython",
    "version": 3
   },
   "file_extension": ".py",
   "mimetype": "text/x-python",
   "name": "python",
   "nbconvert_exporter": "python",
   "pygments_lexer": "ipython3",
   "version": "3.10.8"
  }
 },
 "nbformat": 4,
 "nbformat_minor": 5
}
