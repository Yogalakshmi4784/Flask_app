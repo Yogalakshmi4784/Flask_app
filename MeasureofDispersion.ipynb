{
 "cells": [
  {
   "cell_type": "code",
   "execution_count": 1,
   "id": "b8359301-36f2-42f3-975e-4444c5f8885a",
   "metadata": {},
   "outputs": [],
   "source": [
    "ages=[23,43,23,56,74,32,68,98,45,32]"
   ]
  },
  {
   "cell_type": "code",
   "execution_count": 2,
   "id": "69e78094-7e1f-4f9f-85f1-2a87b4bed69b",
   "metadata": {},
   "outputs": [],
   "source": [
    "import numpy as np"
   ]
  },
  {
   "cell_type": "code",
   "execution_count": 5,
   "id": "51220402-6b69-4276-9da3-279139171c1f",
   "metadata": {},
   "outputs": [],
   "source": [
    "mean=np.mean(ages)"
   ]
  },
  {
   "cell_type": "code",
   "execution_count": 6,
   "id": "6680fdbc-aae2-4064-bfab-65fef2845142",
   "metadata": {},
   "outputs": [
    {
     "data": {
      "text/plain": [
       "49.4"
      ]
     },
     "execution_count": 6,
     "metadata": {},
     "output_type": "execute_result"
    }
   ],
   "source": [
    "mean"
   ]
  },
  {
   "cell_type": "code",
   "execution_count": 7,
   "id": "59c4f29c-9fb5-4129-a10f-f86d09294fef",
   "metadata": {},
   "outputs": [
    {
     "data": {
      "text/plain": [
       "541.64"
      ]
     },
     "execution_count": 7,
     "metadata": {},
     "output_type": "execute_result"
    }
   ],
   "source": [
    "var=np.var(ages)\n",
    "var"
   ]
  },
  {
   "cell_type": "code",
   "execution_count": 14,
   "id": "6cb141d8-610d-4f38-b893-8daa2dcb999d",
   "metadata": {},
   "outputs": [],
   "source": [
    "stddev=np.sqrt(var)"
   ]
  },
  {
   "cell_type": "code",
   "execution_count": 15,
   "id": "be54ccb0-8698-4db7-a687-3335cf3471c2",
   "metadata": {},
   "outputs": [
    {
     "data": {
      "text/plain": [
       "23.273160507331188"
      ]
     },
     "execution_count": 15,
     "metadata": {},
     "output_type": "execute_result"
    }
   ],
   "source": [
    "stddev"
   ]
  },
  {
   "cell_type": "code",
   "execution_count": 16,
   "id": "89a4a1d1-ebfa-4d67-afe1-257452b78e12",
   "metadata": {},
   "outputs": [],
   "source": [
    "import pandas as pd"
   ]
  },
  {
   "cell_type": "code",
   "execution_count": 17,
   "id": "4d1d9e86-e3e6-48c3-8bd7-32b43ee520fe",
   "metadata": {},
   "outputs": [],
   "source": [
    "data=[[10,12,13],[34,23,45],[32,34,21]]"
   ]
  },
  {
   "cell_type": "code",
   "execution_count": 19,
   "id": "e2757f28-099a-41b2-b096-52d31ae88d90",
   "metadata": {},
   "outputs": [
    {
     "data": {
      "text/html": [
       "<div>\n",
       "<style scoped>\n",
       "    .dataframe tbody tr th:only-of-type {\n",
       "        vertical-align: middle;\n",
       "    }\n",
       "\n",
       "    .dataframe tbody tr th {\n",
       "        vertical-align: top;\n",
       "    }\n",
       "\n",
       "    .dataframe thead th {\n",
       "        text-align: right;\n",
       "    }\n",
       "</style>\n",
       "<table border=\"1\" class=\"dataframe\">\n",
       "  <thead>\n",
       "    <tr style=\"text-align: right;\">\n",
       "      <th></th>\n",
       "      <th>A</th>\n",
       "      <th>B</th>\n",
       "      <th>C</th>\n",
       "    </tr>\n",
       "  </thead>\n",
       "  <tbody>\n",
       "    <tr>\n",
       "      <th>0</th>\n",
       "      <td>10</td>\n",
       "      <td>12</td>\n",
       "      <td>13</td>\n",
       "    </tr>\n",
       "    <tr>\n",
       "      <th>1</th>\n",
       "      <td>34</td>\n",
       "      <td>23</td>\n",
       "      <td>45</td>\n",
       "    </tr>\n",
       "    <tr>\n",
       "      <th>2</th>\n",
       "      <td>32</td>\n",
       "      <td>34</td>\n",
       "      <td>21</td>\n",
       "    </tr>\n",
       "  </tbody>\n",
       "</table>\n",
       "</div>"
      ],
      "text/plain": [
       "    A   B   C\n",
       "0  10  12  13\n",
       "1  34  23  45\n",
       "2  32  34  21"
      ]
     },
     "execution_count": 19,
     "metadata": {},
     "output_type": "execute_result"
    }
   ],
   "source": [
    "df=pd.DataFrame(data,columns=['A','B','C'])\n",
    "df"
   ]
  },
  {
   "cell_type": "code",
   "execution_count": 20,
   "id": "aaf04cbb-1eca-4dd2-9478-2d66745276ac",
   "metadata": {},
   "outputs": [
    {
     "data": {
      "text/plain": [
       "A    177.333333\n",
       "B    121.000000\n",
       "C    277.333333\n",
       "dtype: float64"
      ]
     },
     "execution_count": 20,
     "metadata": {},
     "output_type": "execute_result"
    }
   ],
   "source": [
    "df.var()"
   ]
  },
  {
   "cell_type": "code",
   "execution_count": 22,
   "id": "36753a4f-c517-4b5d-a5ed-328edaf10b62",
   "metadata": {},
   "outputs": [
    {
     "data": {
      "text/plain": [
       "0      2.333333\n",
       "1    121.000000\n",
       "2     49.000000\n",
       "dtype: float64"
      ]
     },
     "execution_count": 22,
     "metadata": {},
     "output_type": "execute_result"
    }
   ],
   "source": [
    "df.var(axis=1)"
   ]
  },
  {
   "cell_type": "code",
   "execution_count": null,
   "id": "e3307c8b-f687-40b6-b6fb-73bb3559b54a",
   "metadata": {},
   "outputs": [],
   "source": []
  }
 ],
 "metadata": {
  "kernelspec": {
   "display_name": "Python 3 (ipykernel)",
   "language": "python",
   "name": "python3"
  },
  "language_info": {
   "codemirror_mode": {
    "name": "ipython",
    "version": 3
   },
   "file_extension": ".py",
   "mimetype": "text/x-python",
   "name": "python",
   "nbconvert_exporter": "python",
   "pygments_lexer": "ipython3",
   "version": "3.10.8"
  }
 },
 "nbformat": 4,
 "nbformat_minor": 5
}
