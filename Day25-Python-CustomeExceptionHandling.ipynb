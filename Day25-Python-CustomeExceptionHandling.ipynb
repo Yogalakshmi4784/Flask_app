{
 "cells": [
  {
   "cell_type": "code",
   "execution_count": 12,
   "id": "ddca5a6c-3d19-42eb-b886-253c2d9514bd",
   "metadata": {},
   "outputs": [],
   "source": [
    "def validate_age(age):\n",
    "    if age<0:\n",
    "        raise validateage(\"Age should not be less than zero\")\n",
    "    elif age >200:\n",
    "        raise validateage(\"Age is too high\")\n",
    "    else:\n",
    "        print(\"Age is valid\")"
   ]
  },
  {
   "cell_type": "code",
   "execution_count": 13,
   "id": "20cf4f0e-31a1-4f48-af2b-758533ecf6e4",
   "metadata": {},
   "outputs": [],
   "source": [
    "class validateage(Exception):\n",
    "    def __init__(self,msg):\n",
    "        self.msg=msg"
   ]
  },
  {
   "cell_type": "code",
   "execution_count": 16,
   "id": "e36a1910-41dd-4d4c-a9b9-d1600a376985",
   "metadata": {},
   "outputs": [
    {
     "name": "stdin",
     "output_type": "stream",
     "text": [
      "Enter your age 56\n"
     ]
    },
    {
     "name": "stdout",
     "output_type": "stream",
     "text": [
      "Age is valid\n"
     ]
    }
   ],
   "source": [
    "try:\n",
    "    age=int(input('Enter your age'))\n",
    "    validate_age(age)\n",
    "except validateage as e:\n",
    "    print(e)"
   ]
  },
  {
   "cell_type": "code",
   "execution_count": null,
   "id": "32000aa1-aa31-48c7-a088-8bc04e55a714",
   "metadata": {},
   "outputs": [],
   "source": []
  }
 ],
 "metadata": {
  "kernelspec": {
   "display_name": "Python 3 (ipykernel)",
   "language": "python",
   "name": "python3"
  },
  "language_info": {
   "codemirror_mode": {
    "name": "ipython",
    "version": 3
   },
   "file_extension": ".py",
   "mimetype": "text/x-python",
   "name": "python",
   "nbconvert_exporter": "python",
   "pygments_lexer": "ipython3",
   "version": "3.10.8"
  }
 },
 "nbformat": 4,
 "nbformat_minor": 5
}
