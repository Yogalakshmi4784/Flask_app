{
 "cells": [
  {
   "cell_type": "code",
   "execution_count": 1,
   "id": "7e703d23-a789-4b25-a0a3-a588d15533d9",
   "metadata": {},
   "outputs": [],
   "source": [
    "f=open('test.txt','w')"
   ]
  },
  {
   "cell_type": "code",
   "execution_count": 2,
   "id": "d0e5e1db-a99d-4789-83fa-5feaac7edaf8",
   "metadata": {},
   "outputs": [
    {
     "data": {
      "text/plain": [
       "'/home/jovyan/work'"
      ]
     },
     "execution_count": 2,
     "metadata": {},
     "output_type": "execute_result"
    }
   ],
   "source": [
    "pwd"
   ]
  },
  {
   "cell_type": "code",
   "execution_count": 3,
   "id": "5b313c28-c7ba-4f61-a32e-bc3b7757e2d7",
   "metadata": {},
   "outputs": [
    {
     "name": "stdout",
     "output_type": "stream",
     "text": [
      " AlgerianForestFireDataset_cleaned.csv\n",
      "'Algerian_forest_fires_dataset_UPDATE (6) (1).csv'\n",
      "'Assignment1- Python.ipynb'\n",
      "'Assignment2- Python.ipynb'\n",
      " Assignment3-Python.ipynb\n",
      " Assignment4-Python.ipynb\n",
      "'Assignment5- Python.ipynb'\n",
      " Assignment6-Python.ipynb\n",
      " Covariance_correlation.ipynb\n",
      " Day-10-Encapsulation.ipynb\n",
      " Day-11-Inheritance.ipynb\n",
      " Day-12-Inheritance.ipynb\n",
      "'Day13- Abstraction.ipynb'\n",
      " Day-14-Decorators.ipynb\n",
      "'Day15-Class Methods.ipynb'\n",
      "'Day- 15-Numbersummary.ipynb'\n",
      "'Day- 16AlgerianDataset.ipynb'\n",
      "'Day16- Static methods.ipynb'\n",
      "'Day 17-Property decorators.ipynb'\n",
      " Day17-Python-File.ipynb\n",
      "'Day 17- SpecialMagicDunder method.ipynb'\n",
      "'Day 18-Python-Functions.ipynb'\n",
      "'Day 19- Generator Functions.ipynb'\n",
      "'Day 19-Lambda Functions.ipynb'\n",
      "'Day 19-Map_reduce_filter.ipynb'\n",
      "'Day-1 Data science.ipynb'\n",
      "'Day2- Data Science.ipynb'\n",
      "'Day-3 Python_Strings.ipynb'\n",
      "'Day 4 Strings_Lists.ipynb'\n",
      "'Day 5- Tuples.ipynb'\n",
      "'Day 6- Set.ipynb'\n",
      "'Day 8-OOPS.ipynb'\n",
      " Day-9.Polymorphism.ipynb\n",
      " EDA_Red_Wine.ipynb\n",
      " EDA_StudentsPrerofrmance.ipynb\n",
      " Encoding.ipynb\n",
      " Google_cleaned.csv\n",
      " Googleplaystore_cleaning_EDA.ipynb\n",
      " HandlingImbalanceddata.ipynb\n",
      " Interview_practice.ipynb\n",
      "'Measure of central tendency.ipynb'\n",
      " MeasureofDispersion.ipynb\n",
      "'Missing Values.ipynb'\n",
      "'OOPS Practice.ipynb'\n",
      "'Pairwise multiplication.ipynb'\n",
      " Python-Dictionary.ipynb\n",
      "'Python-Operators and Conditions.ipynb'\n",
      " SMOTE.ipynb\n",
      "'Statistics Assignment1.ipynb'\n",
      " stud.csv\n",
      " test.csv\n",
      " test.txt\n",
      " winequality-red.csv\n"
     ]
    }
   ],
   "source": [
    "ls"
   ]
  },
  {
   "cell_type": "code",
   "execution_count": 4,
   "id": "99464a53-f58f-439a-b60c-22f19bc59eee",
   "metadata": {},
   "outputs": [
    {
     "data": {
      "text/plain": [
       "44"
      ]
     },
     "execution_count": 4,
     "metadata": {},
     "output_type": "execute_result"
    }
   ],
   "source": [
    "f.write('This is my first write opeartion in the file')"
   ]
  },
  {
   "cell_type": "code",
   "execution_count": 5,
   "id": "bbb6b632-1873-4ff0-9081-d9f04b05352a",
   "metadata": {},
   "outputs": [],
   "source": [
    "f.close()"
   ]
  },
  {
   "cell_type": "code",
   "execution_count": 7,
   "id": "de5c4bea-402a-4ae0-8f60-df2f5250db2a",
   "metadata": {},
   "outputs": [],
   "source": [
    "f=open('test.txt','w')"
   ]
  },
  {
   "cell_type": "code",
   "execution_count": 8,
   "id": "ff3a62de-214e-4371-9d06-45651006a81f",
   "metadata": {},
   "outputs": [
    {
     "data": {
      "text/plain": [
       "201"
      ]
     },
     "execution_count": 8,
     "metadata": {},
     "output_type": "execute_result"
    }
   ],
   "source": [
    "f.write('Upscaling Made  ith PW Skills PW Skills is your one-stop-shop for upscaling. Get maximum value for time and resources you invest, with job-ready courses & high-technology, available at the lowest cost.')"
   ]
  },
  {
   "cell_type": "code",
   "execution_count": 9,
   "id": "686d0eef-2d5e-400d-8b62-d4f064bb5285",
   "metadata": {},
   "outputs": [],
   "source": [
    "f.close()"
   ]
  },
  {
   "cell_type": "code",
   "execution_count": 10,
   "id": "feb84541-3634-4657-b1de-a90b9b5106db",
   "metadata": {},
   "outputs": [],
   "source": [
    "f=open('test.txt','a')"
   ]
  },
  {
   "cell_type": "code",
   "execution_count": 11,
   "id": "640af6ba-a077-4c67-ad1e-25ebdbf85712",
   "metadata": {},
   "outputs": [
    {
     "data": {
      "text/plain": [
       "201"
      ]
     },
     "execution_count": 11,
     "metadata": {},
     "output_type": "execute_result"
    }
   ],
   "source": [
    "f.write('Upscaling Made  ith PW Skills PW Skills is your one-stop-shop for upscaling. Get maximum value for time and resources you invest, with job-ready courses & high-technology, available at the lowest cost.')"
   ]
  },
  {
   "cell_type": "code",
   "execution_count": 12,
   "id": "0bddefe1-c7d9-46e7-a8df-f1d25c3aeb20",
   "metadata": {},
   "outputs": [],
   "source": [
    "f.close()"
   ]
  },
  {
   "cell_type": "code",
   "execution_count": 13,
   "id": "01230c21-86eb-4a0d-a5f6-03e3a67f196f",
   "metadata": {},
   "outputs": [],
   "source": [
    "data=open('test.txt','r')"
   ]
  },
  {
   "cell_type": "code",
   "execution_count": 14,
   "id": "470306e5-6edb-411b-8e36-657cc505b815",
   "metadata": {},
   "outputs": [
    {
     "data": {
      "text/plain": [
       "'Upscaling Made  ith PW Skills PW Skills is your one-stop-shop for upscaling. Get maximum value for time and resources you invest, with job-ready courses & high-technology, available at the lowest cost.Upscaling Made  ith PW Skills PW Skills is your one-stop-shop for upscaling. Get maximum value for time and resources you invest, with job-ready courses & high-technology, available at the lowest cost.'"
      ]
     },
     "execution_count": 14,
     "metadata": {},
     "output_type": "execute_result"
    }
   ],
   "source": [
    "data.read()"
   ]
  },
  {
   "cell_type": "code",
   "execution_count": 15,
   "id": "943a402d-5208-4c00-9ece-3835aed50ae5",
   "metadata": {},
   "outputs": [
    {
     "data": {
      "text/plain": [
       "''"
      ]
     },
     "execution_count": 15,
     "metadata": {},
     "output_type": "execute_result"
    }
   ],
   "source": [
    "data.read()"
   ]
  },
  {
   "cell_type": "code",
   "execution_count": 16,
   "id": "f17d60e0-ef41-4833-b696-4f6aaf0b8d22",
   "metadata": {},
   "outputs": [
    {
     "data": {
      "text/plain": [
       "100"
      ]
     },
     "execution_count": 16,
     "metadata": {},
     "output_type": "execute_result"
    }
   ],
   "source": [
    "data.seek(100)"
   ]
  },
  {
   "cell_type": "code",
   "execution_count": 17,
   "id": "3694c221-40c7-46ad-a026-5fb677e6d54a",
   "metadata": {},
   "outputs": [
    {
     "data": {
      "text/plain": [
       "'ime and resources you invest, with job-ready courses & high-technology, available at the lowest cost.Upscaling Made  ith PW Skills PW Skills is your one-stop-shop for upscaling. Get maximum value for time and resources you invest, with job-ready courses & high-technology, available at the lowest cost.'"
      ]
     },
     "execution_count": 17,
     "metadata": {},
     "output_type": "execute_result"
    }
   ],
   "source": [
    "data.read()"
   ]
  },
  {
   "cell_type": "code",
   "execution_count": 19,
   "id": "4ed2939b-4090-4cfe-a0b7-d40384d21d15",
   "metadata": {},
   "outputs": [
    {
     "data": {
      "text/plain": [
       "1"
      ]
     },
     "execution_count": 19,
     "metadata": {},
     "output_type": "execute_result"
    }
   ],
   "source": [
    "data.seek(1)"
   ]
  },
  {
   "cell_type": "code",
   "execution_count": 20,
   "id": "8ae240b2-3115-4645-bace-f9d4adb81af1",
   "metadata": {},
   "outputs": [
    {
     "data": {
      "text/plain": [
       "'pscaling Made  ith PW Skills PW Skills is your one-stop-shop for upscaling. Get maximum value for time and resources you invest, with job-ready courses & high-technology, available at the lowest cost.Upscaling Made  ith PW Skills PW Skills is your one-stop-shop for upscaling. Get maximum value for time and resources you invest, with job-ready courses & high-technology, available at the lowest cost.'"
      ]
     },
     "execution_count": 20,
     "metadata": {},
     "output_type": "execute_result"
    }
   ],
   "source": [
    "data.read()"
   ]
  },
  {
   "cell_type": "code",
   "execution_count": 22,
   "id": "147a3a21-57f9-4e06-8144-5abd5bb38fe9",
   "metadata": {},
   "outputs": [],
   "source": [
    "\n",
    "data1=open('test.txt','r')\n"
   ]
  },
  {
   "cell_type": "code",
   "execution_count": 23,
   "id": "cf15a609-23b3-4c1e-81f6-480ed40c1f4f",
   "metadata": {},
   "outputs": [
    {
     "name": "stdout",
     "output_type": "stream",
     "text": [
      "Upscaling Made  ith PW Skills PW Skills is your one-stop-shop for upscaling. Get maximum value for time and resources you invest, with job-ready courses & high-technology, available at the lowest cost.Upscaling Made  ith PW Skills PW Skills is your one-stop-shop for upscaling. Get maximum value for time and resources you invest, with job-ready courses & high-technology, available at the lowest cost.\n"
     ]
    }
   ],
   "source": [
    "for i in data1:\n",
    "    print(i)"
   ]
  },
  {
   "cell_type": "code",
   "execution_count": 24,
   "id": "4be5c7a7-c7ea-4be6-b2ff-5897dac13390",
   "metadata": {},
   "outputs": [],
   "source": [
    "import os"
   ]
  },
  {
   "cell_type": "code",
   "execution_count": 25,
   "id": "9b47e709-9275-4efe-8cad-590219658191",
   "metadata": {},
   "outputs": [
    {
     "data": {
      "text/plain": [
       "402"
      ]
     },
     "execution_count": 25,
     "metadata": {},
     "output_type": "execute_result"
    }
   ],
   "source": [
    "os.path.getsize('test.txt')"
   ]
  },
  {
   "cell_type": "code",
   "execution_count": 26,
   "id": "d2c0f1ae-3301-44ac-8b6c-221b8499f3a5",
   "metadata": {},
   "outputs": [],
   "source": [
    "import shutil"
   ]
  },
  {
   "cell_type": "code",
   "execution_count": 27,
   "id": "4af535ee-cc4e-47f1-b296-a0602132326c",
   "metadata": {},
   "outputs": [
    {
     "data": {
      "text/plain": [
       "'new_test.txt'"
      ]
     },
     "execution_count": 27,
     "metadata": {},
     "output_type": "execute_result"
    }
   ],
   "source": [
    "shutil.copy('test.txt','new_test.txt')"
   ]
  },
  {
   "cell_type": "code",
   "execution_count": 28,
   "id": "0687d12b-b24f-4512-9437-c531820c7077",
   "metadata": {},
   "outputs": [],
   "source": [
    "os.remove('test.txt')"
   ]
  },
  {
   "cell_type": "code",
   "execution_count": 29,
   "id": "fbf1f12e-b171-41d3-8b23-cbdf5e346b9c",
   "metadata": {},
   "outputs": [
    {
     "name": "stdout",
     "output_type": "stream",
     "text": [
      "Upscaling Made  ith PW Skills PW Skills is your one-stop-shop for upscaling. Get maximum value for time and resources you invest, with job-ready courses & high-technology, available at the lowest cost.Upscaling Made  ith PW Skills PW Skills is your one-stop-shop for upscaling. Get maximum value for time and resources you invest, with job-ready courses & high-technology, available at the lowest cost.\n"
     ]
    }
   ],
   "source": [
    "with open('new_test.txt','r') as f:\n",
    "    print(f.read())"
   ]
  },
  {
   "cell_type": "code",
   "execution_count": 30,
   "id": "96fd7436-f655-4f50-9876-32d9daa76bf8",
   "metadata": {},
   "outputs": [],
   "source": [
    "os.rename('new_test.txt','test1.txt')"
   ]
  },
  {
   "cell_type": "code",
   "execution_count": null,
   "id": "0ee16817-f917-4112-8eda-c981269c362b",
   "metadata": {},
   "outputs": [],
   "source": []
  }
 ],
 "metadata": {
  "kernelspec": {
   "display_name": "Python 3 (ipykernel)",
   "language": "python",
   "name": "python3"
  },
  "language_info": {
   "codemirror_mode": {
    "name": "ipython",
    "version": 3
   },
   "file_extension": ".py",
   "mimetype": "text/x-python",
   "name": "python",
   "nbconvert_exporter": "python",
   "pygments_lexer": "ipython3",
   "version": "3.10.8"
  }
 },
 "nbformat": 4,
 "nbformat_minor": 5
}
