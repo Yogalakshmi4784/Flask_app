{
 "cells": [
  {
   "cell_type": "code",
   "execution_count": 1,
   "id": "0ec910d4-7560-437e-b3c4-30233debf15d",
   "metadata": {},
   "outputs": [],
   "source": [
    "a=1"
   ]
  },
  {
   "cell_type": "code",
   "execution_count": 2,
   "id": "05382d98-7cdb-4928-9825-362f6e5c1ba2",
   "metadata": {},
   "outputs": [
    {
     "name": "stdout",
     "output_type": "stream",
     "text": [
      "<class 'int'>\n"
     ]
    }
   ],
   "source": [
    "print(type(a))"
   ]
  },
  {
   "cell_type": "code",
   "execution_count": 4,
   "id": "d5af7042-ee6e-43a0-b5cf-e76a1cffd309",
   "metadata": {},
   "outputs": [
    {
     "name": "stdout",
     "output_type": "stream",
     "text": [
      "<class 'str'>\n"
     ]
    }
   ],
   "source": [
    "print(type('pwskills'))"
   ]
  },
  {
   "cell_type": "code",
   "execution_count": 3,
   "id": "07b4bb18-1c8a-435f-b1b0-fd3268eb02a1",
   "metadata": {},
   "outputs": [],
   "source": [
    "class test:\n",
    "    pass"
   ]
  },
  {
   "cell_type": "code",
   "execution_count": 4,
   "id": "3be41868-f07f-4cbf-b746-865559bd9c89",
   "metadata": {},
   "outputs": [],
   "source": [
    "a=test()"
   ]
  },
  {
   "cell_type": "code",
   "execution_count": 6,
   "id": "3aafa5c8-ce75-44ac-9b11-4eacb0142617",
   "metadata": {},
   "outputs": [
    {
     "name": "stdout",
     "output_type": "stream",
     "text": [
      "<class '__main__.test'>\n"
     ]
    }
   ],
   "source": [
    "print(type(a))"
   ]
  },
  {
   "cell_type": "code",
   "execution_count": 16,
   "id": "dc9660a4-18b4-4935-8bf7-c0db91a5d4c0",
   "metadata": {},
   "outputs": [],
   "source": [
    "class pwskills:\n",
    "    def welcome_msg(self):    # self is used inside the function definition to inform the class that the function belongs to it\n",
    "        print(\"Welcome to pwskills\")"
   ]
  },
  {
   "cell_type": "code",
   "execution_count": 4,
   "id": "d4c975f4-748c-48af-8fde-0804930e2f60",
   "metadata": {},
   "outputs": [],
   "source": [
    "rohan=pwskills()"
   ]
  },
  {
   "cell_type": "code",
   "execution_count": 5,
   "id": "599ad571-5f05-4fd3-b8d2-a6b036eab05f",
   "metadata": {},
   "outputs": [
    {
     "name": "stdout",
     "output_type": "stream",
     "text": [
      "Welcome to pwskills\n"
     ]
    }
   ],
   "source": [
    "rohan.welcome_msg()"
   ]
  },
  {
   "cell_type": "code",
   "execution_count": 6,
   "id": "cedbcc72-5b02-4142-bcc0-e0c9993e9b29",
   "metadata": {},
   "outputs": [],
   "source": [
    "sohan=pwskills()"
   ]
  },
  {
   "cell_type": "code",
   "execution_count": 7,
   "id": "81fdc7b4-1c1c-4ba6-8529-7d116cbcecb4",
   "metadata": {},
   "outputs": [
    {
     "name": "stdout",
     "output_type": "stream",
     "text": [
      "Welcome to pwskills\n"
     ]
    }
   ],
   "source": [
    "sohan.welcome_msg()"
   ]
  },
  {
   "cell_type": "code",
   "execution_count": 18,
   "id": "3fdfab20-5605-4483-b59c-010b05c606bc",
   "metadata": {},
   "outputs": [],
   "source": [
    "class pwskills1:\n",
    "    def __init__(self,mobno,email_id,studentid):\n",
    "        self.phone_num=mobno\n",
    "        self.email_id=email_id\n",
    "        self.studentid=studentid\n",
    "        \n",
    "    def return_stud_details(self):\n",
    "        return self.phone_num,self.email_id,self.studentid"
   ]
  },
  {
   "cell_type": "code",
   "execution_count": 20,
   "id": "24229ed0-6a05-475d-903f-e8f4c5bea4cc",
   "metadata": {},
   "outputs": [],
   "source": [
    "rohan=pwskills1(9840010020,'rohan@gmail.com',123)"
   ]
  },
  {
   "cell_type": "code",
   "execution_count": 25,
   "id": "1deff24d-b925-4f71-aefa-9ad0676f54ee",
   "metadata": {},
   "outputs": [
    {
     "data": {
      "text/plain": [
       "9840010020"
      ]
     },
     "execution_count": 25,
     "metadata": {},
     "output_type": "execute_result"
    }
   ],
   "source": [
    "rohan.phone_num"
   ]
  },
  {
   "cell_type": "code",
   "execution_count": 26,
   "id": "a5b357e2-918c-47bd-a56e-ed0977afe9ef",
   "metadata": {},
   "outputs": [
    {
     "data": {
      "text/plain": [
       "'rohan@gmail.com'"
      ]
     },
     "execution_count": 26,
     "metadata": {},
     "output_type": "execute_result"
    }
   ],
   "source": [
    "rohan.email_id"
   ]
  },
  {
   "cell_type": "code",
   "execution_count": 27,
   "id": "bb44cb07-4174-417d-8eea-d29242d91544",
   "metadata": {},
   "outputs": [
    {
     "data": {
      "text/plain": [
       "123"
      ]
     },
     "execution_count": 27,
     "metadata": {},
     "output_type": "execute_result"
    }
   ],
   "source": [
    "rohan.studentid"
   ]
  },
  {
   "cell_type": "code",
   "execution_count": 29,
   "id": "bf9798e1-8a51-42de-a3ba-2642a1640128",
   "metadata": {},
   "outputs": [],
   "source": [
    "sohan=pwskills1(8900100200,'sohan@gmail.com',3224)"
   ]
  },
  {
   "cell_type": "code",
   "execution_count": 30,
   "id": "50dcf761-c30e-412e-9a59-f8b2730996a5",
   "metadata": {},
   "outputs": [
    {
     "data": {
      "text/plain": [
       "8900100200"
      ]
     },
     "execution_count": 30,
     "metadata": {},
     "output_type": "execute_result"
    }
   ],
   "source": [
    "sohan.phone_num"
   ]
  },
  {
   "cell_type": "code",
   "execution_count": 31,
   "id": "d61eb0f3-204c-42bf-bae5-ff2d3f537383",
   "metadata": {},
   "outputs": [
    {
     "data": {
      "text/plain": [
       "'sohan@gmail.com'"
      ]
     },
     "execution_count": 31,
     "metadata": {},
     "output_type": "execute_result"
    }
   ],
   "source": [
    "sohan.email_id"
   ]
  },
  {
   "cell_type": "code",
   "execution_count": 32,
   "id": "39f3ec5b-00d6-44aa-b4f3-947f946214be",
   "metadata": {},
   "outputs": [
    {
     "data": {
      "text/plain": [
       "3224"
      ]
     },
     "execution_count": 32,
     "metadata": {},
     "output_type": "execute_result"
    }
   ],
   "source": [
    "sohan.studentid"
   ]
  },
  {
   "cell_type": "code",
   "execution_count": 33,
   "id": "e0bc5518-b3e9-48ac-81bd-1f04ab46385b",
   "metadata": {},
   "outputs": [
    {
     "data": {
      "text/plain": [
       "(8900100200, 'sohan@gmail.com', 3224)"
      ]
     },
     "execution_count": 33,
     "metadata": {},
     "output_type": "execute_result"
    }
   ],
   "source": [
    "sohan.return_stud_details()"
   ]
  },
  {
   "cell_type": "code",
   "execution_count": 34,
   "id": "f0944809-3b79-4819-81d7-58e9eea644c2",
   "metadata": {},
   "outputs": [
    {
     "data": {
      "text/plain": [
       "(9840010020, 'rohan@gmail.com', 123)"
      ]
     },
     "execution_count": 34,
     "metadata": {},
     "output_type": "execute_result"
    }
   ],
   "source": [
    "rohan.return_stud_details()"
   ]
  },
  {
   "cell_type": "markdown",
   "id": "966423d4-325b-4a74-84f3-a63b444d1681",
   "metadata": {},
   "source": [
    "# Self is just a convention, instead of self u can use any name or variable"
   ]
  },
  {
   "cell_type": "code",
   "execution_count": 35,
   "id": "4ec4b975-6518-484d-9d59-a9222b250b6f",
   "metadata": {},
   "outputs": [],
   "source": [
    "class pwskills2:\n",
    "    def __init__(vani,mobno,email_id,studentid):\n",
    "        vani.phone_num=mobno\n",
    "        vani.email_id=email_id\n",
    "        vani.studentid=studentid\n",
    "        \n",
    "    def return_stud_details(vani):\n",
    "        return vani.phone_num,vani.email_id,vani.studentid"
   ]
  },
  {
   "cell_type": "code",
   "execution_count": 36,
   "id": "0abf401e-8c75-41c3-b937-c62ac6186f73",
   "metadata": {},
   "outputs": [],
   "source": [
    "amitha=pwskills2(984256663,'amitha@gmail.com',258)"
   ]
  },
  {
   "cell_type": "code",
   "execution_count": 37,
   "id": "27532b1e-626c-4cc4-b815-30122b88bdec",
   "metadata": {},
   "outputs": [
    {
     "data": {
      "text/plain": [
       "984256663"
      ]
     },
     "execution_count": 37,
     "metadata": {},
     "output_type": "execute_result"
    }
   ],
   "source": [
    "amitha.phone_num"
   ]
  },
  {
   "cell_type": "code",
   "execution_count": 38,
   "id": "0a44df80-6df7-4349-ad84-c5317c1908e5",
   "metadata": {},
   "outputs": [
    {
     "data": {
      "text/plain": [
       "'amitha@gmail.com'"
      ]
     },
     "execution_count": 38,
     "metadata": {},
     "output_type": "execute_result"
    }
   ],
   "source": [
    "amitha.email_id"
   ]
  },
  {
   "cell_type": "code",
   "execution_count": 39,
   "id": "696afa13-98d4-4a0d-8717-be8cf300d3f3",
   "metadata": {},
   "outputs": [
    {
     "data": {
      "text/plain": [
       "258"
      ]
     },
     "execution_count": 39,
     "metadata": {},
     "output_type": "execute_result"
    }
   ],
   "source": [
    "amitha.studentid"
   ]
  },
  {
   "cell_type": "code",
   "execution_count": 41,
   "id": "5236d200-dee0-40cb-b22e-ab18a428806e",
   "metadata": {},
   "outputs": [],
   "source": [
    "class pwskills3:\n",
    "    def __init__(vani,mobno,email_id,studentid):\n",
    "        vani.phone_num=mobno                           # Class will be able to understand only vani.phone_num\n",
    "        vani.email_id=email_id\n",
    "        vani.studentid=studentid\n",
    "        \n",
    "    def return_stud_details(vani):\n",
    "        return vani.phone_num,vani.email_id,vani.studentid"
   ]
  },
  {
   "cell_type": "code",
   "execution_count": null,
   "id": "cd9f2480-6e89-4971-8665-985cff6684bf",
   "metadata": {},
   "outputs": [],
   "source": []
  }
 ],
 "metadata": {
  "kernelspec": {
   "display_name": "Python 3 (ipykernel)",
   "language": "python",
   "name": "python3"
  },
  "language_info": {
   "codemirror_mode": {
    "name": "ipython",
    "version": 3
   },
   "file_extension": ".py",
   "mimetype": "text/x-python",
   "name": "python",
   "nbconvert_exporter": "python",
   "pygments_lexer": "ipython3",
   "version": "3.10.8"
  }
 },
 "nbformat": 4,
 "nbformat_minor": 5
}
