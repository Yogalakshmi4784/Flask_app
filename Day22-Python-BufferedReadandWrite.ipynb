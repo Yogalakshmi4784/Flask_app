{
 "cells": [
  {
   "cell_type": "code",
   "execution_count": 1,
   "id": "11f4dbec-7b89-4f67-9467-8b1ced56f79b",
   "metadata": {},
   "outputs": [],
   "source": [
    "import io"
   ]
  },
  {
   "cell_type": "code",
   "execution_count": 5,
   "id": "d1700147-e359-49cb-a4ef-8bc9c959b0e7",
   "metadata": {},
   "outputs": [],
   "source": [
    "with open('test.txt','wb') as f:\n",
    "    file=io.BufferedWriter(f)\n",
    "    file.write(b'this is my buffer write\\n')\n",
    "    file.write(b'this is my second line that am trying to write')\n",
    "    file.flush()"
   ]
  },
  {
   "cell_type": "code",
   "execution_count": 12,
   "id": "90793eb8-4d7f-4e41-a11a-3fd50c93d6d7",
   "metadata": {},
   "outputs": [
    {
     "name": "stdout",
     "output_type": "stream",
     "text": [
      "b'this is my buffer write\\nthis is my second line that am trying to write'\n"
     ]
    }
   ],
   "source": [
    "with open('test.txt','rb') as f:\n",
    "    file=io.BufferedReader(f)\n",
    "    data=file.read()\n",
    "    print(data)"
   ]
  },
  {
   "cell_type": "code",
   "execution_count": null,
   "id": "fa3ffd3a-4e3b-4079-803d-6e1bb2ac8a64",
   "metadata": {},
   "outputs": [],
   "source": []
  }
 ],
 "metadata": {
  "kernelspec": {
   "display_name": "Python 3 (ipykernel)",
   "language": "python",
   "name": "python3"
  },
  "language_info": {
   "codemirror_mode": {
    "name": "ipython",
    "version": 3
   },
   "file_extension": ".py",
   "mimetype": "text/x-python",
   "name": "python",
   "nbconvert_exporter": "python",
   "pygments_lexer": "ipython3",
   "version": "3.10.8"
  }
 },
 "nbformat": 4,
 "nbformat_minor": 5
}
