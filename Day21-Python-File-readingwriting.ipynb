{
 "cells": [
  {
   "cell_type": "code",
   "execution_count": 2,
   "id": "081e217c-17e9-4c87-b061-25d98a407cbb",
   "metadata": {},
   "outputs": [],
   "source": [
    "data={\n",
    "    \"name\":'sudh',\n",
    "    'mail_id':'sudh@gmail.com',\n",
    "    'phone_num':9845661233,\n",
    "    'subject':['data science','big data','data analytucs']\n",
    "}"
   ]
  },
  {
   "cell_type": "code",
   "execution_count": 3,
   "id": "1f69df32-e582-49b3-af33-f7023d7a34c8",
   "metadata": {},
   "outputs": [],
   "source": [
    "import json"
   ]
  },
  {
   "cell_type": "code",
   "execution_count": 4,
   "id": "0700b435-f1bf-4652-a496-19dd4f385d6b",
   "metadata": {},
   "outputs": [],
   "source": [
    "with open('test1.json','w') as f:\n",
    "    json.dump(data,f)"
   ]
  },
  {
   "cell_type": "code",
   "execution_count": 5,
   "id": "b99c2eec-e78d-4cb9-99c1-08dc3f704b99",
   "metadata": {},
   "outputs": [],
   "source": [
    "with open('test1.json','r') as f:\n",
    "    data1=json.load(f)"
   ]
  },
  {
   "cell_type": "code",
   "execution_count": 6,
   "id": "329fe058-2496-4a88-a670-6850439bdede",
   "metadata": {},
   "outputs": [
    {
     "data": {
      "text/plain": [
       "{'name': 'sudh',\n",
       " 'mail_id': 'sudh@gmail.com',\n",
       " 'phone_num': 9845661233,\n",
       " 'subject': ['data science', 'big data', 'data analytucs']}"
      ]
     },
     "execution_count": 6,
     "metadata": {},
     "output_type": "execute_result"
    }
   ],
   "source": [
    "data1"
   ]
  },
  {
   "cell_type": "code",
   "execution_count": 8,
   "id": "ffe3c535-605b-457c-b5d8-00edc1433460",
   "metadata": {},
   "outputs": [
    {
     "data": {
      "text/plain": [
       "'big data'"
      ]
     },
     "execution_count": 8,
     "metadata": {},
     "output_type": "execute_result"
    }
   ],
   "source": [
    "data1['subject'][1]"
   ]
  },
  {
   "cell_type": "code",
   "execution_count": 11,
   "id": "601abd4a-71bb-46de-b71b-f039baebeadd",
   "metadata": {},
   "outputs": [],
   "source": [
    "data=[['name','email_id','phone_num'],\n",
    "     ['vani','vani@gmail.com',658987456],\n",
    "     ['krish','krihsn@gmail.com',58876655]]"
   ]
  },
  {
   "cell_type": "code",
   "execution_count": 12,
   "id": "c81fd846-112d-465f-9057-948c38398334",
   "metadata": {},
   "outputs": [],
   "source": [
    "import csv\n",
    "with open('test2.csv','w') as f:\n",
    "    w=csv.writer(f)\n",
    "    for i in data:\n",
    "        w.writerow(i)\n"
   ]
  },
  {
   "cell_type": "code",
   "execution_count": 14,
   "id": "495f8eb4-2631-495e-a700-9e8b7c24dd25",
   "metadata": {},
   "outputs": [
    {
     "name": "stdout",
     "output_type": "stream",
     "text": [
      "['name', 'email_id', 'phone_num']\n",
      "['vani', 'vani@gmail.com', '658987456']\n",
      "['krish', 'krihsn@gmail.com', '58876655']\n"
     ]
    }
   ],
   "source": [
    "with open('test2.csv','r') as f:\n",
    "    read=csv.reader(f)\n",
    "    for i in read:\n",
    "        print(i)"
   ]
  },
  {
   "cell_type": "code",
   "execution_count": 15,
   "id": "f91ed03c-eb64-4b79-ba20-c165c1a17ba2",
   "metadata": {},
   "outputs": [],
   "source": [
    "with open('test3.bin','wb') as f:\n",
    "    f.write(b'\\x01\\x02\\x03')\n",
    "    "
   ]
  },
  {
   "cell_type": "code",
   "execution_count": 18,
   "id": "7bfcb3cc-a681-45eb-8b82-246bd8690202",
   "metadata": {},
   "outputs": [
    {
     "name": "stdout",
     "output_type": "stream",
     "text": [
      "b'\\x01\\x02\\x03'\n"
     ]
    }
   ],
   "source": [
    "with open('test3.bin','rb') as f:\n",
    "    print(f.read())"
   ]
  },
  {
   "cell_type": "code",
   "execution_count": null,
   "id": "233c99f4-d598-4e32-9a4c-6b2d2c3debfd",
   "metadata": {},
   "outputs": [],
   "source": []
  }
 ],
 "metadata": {
  "kernelspec": {
   "display_name": "Python 3 (ipykernel)",
   "language": "python",
   "name": "python3"
  },
  "language_info": {
   "codemirror_mode": {
    "name": "ipython",
    "version": 3
   },
   "file_extension": ".py",
   "mimetype": "text/x-python",
   "name": "python",
   "nbconvert_exporter": "python",
   "pygments_lexer": "ipython3",
   "version": "3.10.8"
  }
 },
 "nbformat": 4,
 "nbformat_minor": 5
}
