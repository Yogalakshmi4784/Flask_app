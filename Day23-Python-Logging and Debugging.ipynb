{
 "cells": [
  {
   "cell_type": "code",
   "execution_count": 1,
   "id": "76fbce43-80f8-450a-80b7-d9d558b78284",
   "metadata": {},
   "outputs": [
    {
     "name": "stdout",
     "output_type": "stream",
     "text": [
      "My name is yogalakshmi.\n"
     ]
    }
   ],
   "source": [
    "print(\"My name is yogalakshmi.\")"
   ]
  },
  {
   "cell_type": "code",
   "execution_count": 1,
   "id": "08a5866c-b405-48c6-89d3-8cda9ecdb10b",
   "metadata": {},
   "outputs": [],
   "source": [
    "import logging"
   ]
  },
  {
   "cell_type": "code",
   "execution_count": 3,
   "id": "534f52fe-f3cb-41dc-8568-bdc44df8e736",
   "metadata": {},
   "outputs": [],
   "source": [
    "logging.basicConfig(filename='test.log',level=logging.INFO)"
   ]
  },
  {
   "cell_type": "code",
   "execution_count": 4,
   "id": "43dfca1a-8cc8-461b-a11f-aab4e700e9f8",
   "metadata": {},
   "outputs": [],
   "source": [
    "logging.info('this is my line of execution')"
   ]
  },
  {
   "cell_type": "code",
   "execution_count": 5,
   "id": "01125bce-7183-4c5f-983e-77012f8ed2c0",
   "metadata": {},
   "outputs": [],
   "source": [
    "logging.error('this is my error')"
   ]
  },
  {
   "cell_type": "code",
   "execution_count": 6,
   "id": "19ecf199-3b01-4375-b90f-873bb2d4a396",
   "metadata": {},
   "outputs": [],
   "source": [
    "logging.critical('this is my critical')"
   ]
  },
  {
   "cell_type": "markdown",
   "id": "be8449e0-f46a-483e-83b9-8bb6c26a9ce7",
   "metadata": {},
   "source": [
    "## HIERARCHY OF LOGGING\n",
    "\n",
    "1.NOTSET\n",
    "\n",
    "2.DEBUG\n",
    "\n",
    "3.INFO\n",
    "\n",
    "4.WARNING\n",
    "\n",
    "5.ERROR\n",
    "\n",
    "6.CRITICAL "
   ]
  },
  {
   "cell_type": "code",
   "execution_count": 7,
   "id": "ccebb063-afe2-44bb-91cb-d01f769953b6",
   "metadata": {},
   "outputs": [],
   "source": [
    "logging.warning('this is my warning')"
   ]
  },
  {
   "cell_type": "code",
   "execution_count": 8,
   "id": "64888b4d-9599-475c-9a96-eaa4added486",
   "metadata": {},
   "outputs": [],
   "source": [
    "logging.debug('this is my info related to debug')"
   ]
  },
  {
   "cell_type": "code",
   "execution_count": 9,
   "id": "434c38e1-7c7a-40eb-af7e-5a331283cfa1",
   "metadata": {},
   "outputs": [
    {
     "ename": "TypeError",
     "evalue": "'int' object is not callable",
     "output_type": "error",
     "traceback": [
      "\u001b[0;31m---------------------------------------------------------------------------\u001b[0m",
      "\u001b[0;31mTypeError\u001b[0m                                 Traceback (most recent call last)",
      "Cell \u001b[0;32mIn[9], line 1\u001b[0m\n\u001b[0;32m----> 1\u001b[0m \u001b[43mlogging\u001b[49m\u001b[38;5;241;43m.\u001b[39;49m\u001b[43mNOTSET\u001b[49m\u001b[43m(\u001b[49m\u001b[38;5;124;43m\"\u001b[39;49m\u001b[38;5;124;43mThis is my first notset\u001b[39;49m\u001b[38;5;124;43m\"\u001b[39;49m\u001b[43m)\u001b[49m\n",
      "\u001b[0;31mTypeError\u001b[0m: 'int' object is not callable"
     ]
    }
   ],
   "source": [
    "logging.NOTSET(\"This is my first notset\")"
   ]
  },
  {
   "cell_type": "code",
   "execution_count": 10,
   "id": "6bccd886-0130-4059-8025-c24b0e59ae6d",
   "metadata": {},
   "outputs": [],
   "source": [
    "logging.shutdown()"
   ]
  },
  {
   "cell_type": "code",
   "execution_count": 11,
   "id": "17548b78-a914-4b99-9a9b-c35fa5ff359a",
   "metadata": {},
   "outputs": [],
   "source": [
    "logging.basicConfig(filename='test1.log',level=logging.DEBUG,format='%(asctime)s %(message)s')"
   ]
  },
  {
   "cell_type": "code",
   "execution_count": 12,
   "id": "8eaa61b4-8704-4412-b97f-050b47514a47",
   "metadata": {},
   "outputs": [],
   "source": [
    "logging.info('This si my info')"
   ]
  },
  {
   "cell_type": "code",
   "execution_count": 13,
   "id": "b17e594c-cd3f-4c99-80f6-77a03245b717",
   "metadata": {},
   "outputs": [],
   "source": [
    "logging.debug('This is my first debug')"
   ]
  },
  {
   "cell_type": "code",
   "execution_count": 14,
   "id": "276351f6-e59f-47a5-97d3-b0817ef7bff3",
   "metadata": {},
   "outputs": [],
   "source": [
    "logging.warning('This si my first warning')"
   ]
  },
  {
   "cell_type": "code",
   "execution_count": 15,
   "id": "47de2cd6-3163-4c18-95cc-b1575e34ca86",
   "metadata": {},
   "outputs": [],
   "source": [
    "logging.shutdown()"
   ]
  },
  {
   "cell_type": "code",
   "execution_count": 2,
   "id": "24110bdf-cf7f-4a99-a3a6-085a4289dde7",
   "metadata": {},
   "outputs": [],
   "source": [
    "logging.basicConfig(filename='test4.log',level=logging.DEBUG,format='%(asctime)s %(name)s %(levelname)s %(message)s')"
   ]
  },
  {
   "cell_type": "code",
   "execution_count": 3,
   "id": "08cb69f4-1839-4a15-b79e-a22eee88729b",
   "metadata": {},
   "outputs": [],
   "source": [
    "logging.info('This is my info log')"
   ]
  },
  {
   "cell_type": "code",
   "execution_count": 4,
   "id": "d893de6a-8a65-4da7-9324-fc9a26d792c0",
   "metadata": {},
   "outputs": [],
   "source": [
    "l=[1,2,3,4,[4,5,6],'sudh','kumar']"
   ]
  },
  {
   "cell_type": "code",
   "execution_count": 16,
   "id": "3689a8c8-d93f-492d-b850-aa166f203e5b",
   "metadata": {},
   "outputs": [],
   "source": [
    "l1=[]\n",
    "l2=[]\n",
    "for i in l:\n",
    "    logging.info('Start of my for loop for list{}'.format(l))\n",
    "    logging.info('Start of my for loop for i {}'.format(i))\n",
    "    if type(i)==list:\n",
    "        for j in i:\n",
    "            if type(j)==int:\n",
    "                l1.append(j)\n",
    "                logging.info('Start of integer logging for j {}'.format(j))\n",
    "    elif type(i)==int:\n",
    "        l1.append(i)\n",
    "    else:\n",
    "        l2.append(i)\n",
    "        logging.info('Start of string logging of i{}'.format(i))\n",
    "logging.info('Splittin g into list ended')"
   ]
  },
  {
   "cell_type": "code",
   "execution_count": 8,
   "id": "6e6b7ded-9865-43ef-ba34-5a2fc47aafd5",
   "metadata": {},
   "outputs": [
    {
     "data": {
      "text/plain": [
       "[1, 2, 3, 4, 4, 5, 6]"
      ]
     },
     "execution_count": 8,
     "metadata": {},
     "output_type": "execute_result"
    }
   ],
   "source": [
    "l1"
   ]
  },
  {
   "cell_type": "code",
   "execution_count": 9,
   "id": "faee43c2-18ce-47e5-9bee-0c53f85650a5",
   "metadata": {},
   "outputs": [
    {
     "data": {
      "text/plain": [
       "['sudh', 'kumar']"
      ]
     },
     "execution_count": 9,
     "metadata": {},
     "output_type": "execute_result"
    }
   ],
   "source": [
    "l2"
   ]
  },
  {
   "cell_type": "code",
   "execution_count": 10,
   "id": "2ac610aa-da67-4e84-934f-41344b477ab6",
   "metadata": {},
   "outputs": [],
   "source": [
    "logging.info('Splittin g into list ended')"
   ]
  },
  {
   "cell_type": "code",
   "execution_count": null,
   "id": "cb2353da-5935-431e-a59c-b6952de9026b",
   "metadata": {},
   "outputs": [],
   "source": []
  }
 ],
 "metadata": {
  "kernelspec": {
   "display_name": "Python 3 (ipykernel)",
   "language": "python",
   "name": "python3"
  },
  "language_info": {
   "codemirror_mode": {
    "name": "ipython",
    "version": 3
   },
   "file_extension": ".py",
   "mimetype": "text/x-python",
   "name": "python",
   "nbconvert_exporter": "python",
   "pygments_lexer": "ipython3",
   "version": "3.10.8"
  }
 },
 "nbformat": 4,
 "nbformat_minor": 5
}
