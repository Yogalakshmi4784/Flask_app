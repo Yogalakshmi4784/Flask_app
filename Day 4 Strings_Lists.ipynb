{
 "cells": [
  {
   "cell_type": "code",
   "execution_count": 82,
   "id": "eafcd54e-baf4-4654-85a0-08b8a68f80c9",
   "metadata": {},
   "outputs": [],
   "source": [
    "name='Yogalakshmi is passionate about data'"
   ]
  },
  {
   "cell_type": "code",
   "execution_count": 83,
   "id": "743800cf-d928-489b-851f-35f51ad57c97",
   "metadata": {},
   "outputs": [
    {
     "data": {
      "text/plain": [
       "'yOGALAKSHMI IS PASSIONATE ABOUT DATA'"
      ]
     },
     "execution_count": 83,
     "metadata": {},
     "output_type": "execute_result"
    }
   ],
   "source": [
    "name.swapcase()"
   ]
  },
  {
   "cell_type": "code",
   "execution_count": 84,
   "id": "a28e33bb-821b-4dd0-b797-005ea240b439",
   "metadata": {},
   "outputs": [
    {
     "data": {
      "text/plain": [
       "'Yogalakshmi Is Passionate About Data'"
      ]
     },
     "execution_count": 84,
     "metadata": {},
     "output_type": "execute_result"
    }
   ],
   "source": [
    "name.title()"
   ]
  },
  {
   "cell_type": "code",
   "execution_count": 85,
   "id": "a100f663-2f4b-4e2c-bd17-2741ea7b2f00",
   "metadata": {},
   "outputs": [
    {
     "data": {
      "text/plain": [
       "'yogalakshmi is passionate about data'"
      ]
     },
     "execution_count": 85,
     "metadata": {},
     "output_type": "execute_result"
    }
   ],
   "source": [
    "name.lower()"
   ]
  },
  {
   "cell_type": "code",
   "execution_count": 86,
   "id": "d4a89d99-3a29-4a6d-8fda-27187c1f1618",
   "metadata": {},
   "outputs": [
    {
     "data": {
      "text/plain": [
       "'YOGALAKSHMI IS PASSIONATE ABOUT DATA'"
      ]
     },
     "execution_count": 86,
     "metadata": {},
     "output_type": "execute_result"
    }
   ],
   "source": [
    "name.upper()"
   ]
  },
  {
   "cell_type": "code",
   "execution_count": 87,
   "id": "a14fc766-e221-49dc-a9ee-b7e0cd74ca2e",
   "metadata": {},
   "outputs": [
    {
     "data": {
      "text/plain": [
       "'Yogalakshmi is passionate about data'"
      ]
     },
     "execution_count": 87,
     "metadata": {},
     "output_type": "execute_result"
    }
   ],
   "source": [
    "name.capitalize()"
   ]
  },
  {
   "cell_type": "code",
   "execution_count": 88,
   "id": "f44e6753-de12-4777-ad95-b364a468bd28",
   "metadata": {},
   "outputs": [
    {
     "data": {
      "text/plain": [
       "'atad tuoba etanoissap si imhskalagoY'"
      ]
     },
     "execution_count": 88,
     "metadata": {},
     "output_type": "execute_result"
    }
   ],
   "source": [
    "name[::-1]"
   ]
  },
  {
   "cell_type": "code",
   "execution_count": 89,
   "id": "9226552c-f1ce-4525-9c68-d325aba4f62a",
   "metadata": {},
   "outputs": [
    {
     "data": {
      "text/plain": [
       "<reversed at 0x7fc4a8141d50>"
      ]
     },
     "execution_count": 89,
     "metadata": {},
     "output_type": "execute_result"
    }
   ],
   "source": [
    "reversed(name)"
   ]
  },
  {
   "cell_type": "code",
   "execution_count": 90,
   "id": "ac723163-2985-442c-a1f3-c8eb560af6c2",
   "metadata": {},
   "outputs": [
    {
     "data": {
      "text/plain": [
       "'a t a d   t u o b a   e t a n o i s s a p   s i   i m h s k a l a g o Y'"
      ]
     },
     "execution_count": 90,
     "metadata": {},
     "output_type": "execute_result"
    }
   ],
   "source": [
    "' '.join(reversed(name))  # space gets added in between characters"
   ]
  },
  {
   "cell_type": "code",
   "execution_count": 91,
   "id": "1138bb97-4ae6-42db-8733-cd440ea582cb",
   "metadata": {},
   "outputs": [
    {
     "data": {
      "text/plain": [
       "'a b c'"
      ]
     },
     "execution_count": 91,
     "metadata": {},
     "output_type": "execute_result"
    }
   ],
   "source": [
    "' '.join('abc')"
   ]
  },
  {
   "cell_type": "code",
   "execution_count": 92,
   "id": "d69ea169-12b4-4069-9c28-a018e0533db3",
   "metadata": {},
   "outputs": [
    {
     "data": {
      "text/plain": [
       "'a n t'"
      ]
     },
     "execution_count": 92,
     "metadata": {},
     "output_type": "execute_result"
    }
   ],
   "source": [
    "' '.join('ant')"
   ]
  },
  {
   "cell_type": "code",
   "execution_count": 93,
   "id": "309db873-7ae0-4c45-85c2-c11cd050e08e",
   "metadata": {},
   "outputs": [
    {
     "data": {
      "text/plain": [
       "'ant'"
      ]
     },
     "execution_count": 93,
     "metadata": {},
     "output_type": "execute_result"
    }
   ],
   "source": [
    "''.join('ant')"
   ]
  },
  {
   "cell_type": "code",
   "execution_count": 94,
   "id": "a584b445-2089-4a84-b3bc-dc035d0aa544",
   "metadata": {},
   "outputs": [
    {
     "data": {
      "text/plain": [
       "'t n a'"
      ]
     },
     "execution_count": 94,
     "metadata": {},
     "output_type": "execute_result"
    }
   ],
   "source": [
    "' '.join(reversed('ant'))"
   ]
  },
  {
   "cell_type": "code",
   "execution_count": 95,
   "id": "a2250201-dc78-412a-adc5-a817d61e2708",
   "metadata": {},
   "outputs": [
    {
     "data": {
      "text/plain": [
       "'tna'"
      ]
     },
     "execution_count": 95,
     "metadata": {},
     "output_type": "execute_result"
    }
   ],
   "source": [
    "''.join(reversed('ant'))"
   ]
  },
  {
   "cell_type": "code",
   "execution_count": 96,
   "id": "a5a6c5fe-89ba-4590-8fff-f0ff11200262",
   "metadata": {},
   "outputs": [
    {
     "data": {
      "text/plain": [
       "'Y*o*g*a*l*a*k*s*h*m*i* *i*s* *p*a*s*s*i*o*n*a*t*e* *a*b*o*u*t* *d*a*t*a'"
      ]
     },
     "execution_count": 96,
     "metadata": {},
     "output_type": "execute_result"
    }
   ],
   "source": [
    "'*'.join(name)"
   ]
  },
  {
   "cell_type": "code",
   "execution_count": 97,
   "id": "9f2fc588-58f2-4a6a-8bc3-8571ae0e573d",
   "metadata": {},
   "outputs": [
    {
     "data": {
      "text/plain": [
       "'tPWskillsnPWskillsa'"
      ]
     },
     "execution_count": 97,
     "metadata": {},
     "output_type": "execute_result"
    }
   ],
   "source": [
    "'PWskills'.join(reversed('ant')) # PWskills gets added in between every character of ant"
   ]
  },
  {
   "cell_type": "code",
   "execution_count": 98,
   "id": "bb2d4194-4bb6-4df2-810c-38317639e46b",
   "metadata": {},
   "outputs": [
    {
     "data": {
      "text/plain": [
       "['t', 'n', 'a']"
      ]
     },
     "execution_count": 98,
     "metadata": {},
     "output_type": "execute_result"
    }
   ],
   "source": [
    "# Type casting\n",
    "list(reversed('ant')) # converting to string"
   ]
  },
  {
   "cell_type": "code",
   "execution_count": 99,
   "id": "0f48c347-a41b-42b8-a172-85852a5043c7",
   "metadata": {},
   "outputs": [],
   "source": [
    "str1='PW is a good company'"
   ]
  },
  {
   "cell_type": "code",
   "execution_count": 100,
   "id": "8567452c-2e0d-4e54-9f93-84751ef7d35c",
   "metadata": {},
   "outputs": [
    {
     "data": {
      "text/plain": [
       "'PSkillsWSkills SkillsiSkillssSkills SkillsaSkills SkillsgSkillsoSkillsoSkillsdSkills SkillscSkillsoSkillsmSkillspSkillsaSkillsnSkillsy'"
      ]
     },
     "execution_count": 100,
     "metadata": {},
     "output_type": "execute_result"
    }
   ],
   "source": [
    "\"Skills\".join(str1)"
   ]
  },
  {
   "cell_type": "code",
   "execution_count": 101,
   "id": "e13fc8e5-4454-4890-8aaa-a9b3b5ffef3d",
   "metadata": {},
   "outputs": [
    {
     "data": {
      "text/plain": [
       "'Removing characters from the end of the string'"
      ]
     },
     "execution_count": 101,
     "metadata": {},
     "output_type": "execute_result"
    }
   ],
   "source": [
    "\"Removing characters from the end of the string\""
   ]
  },
  {
   "cell_type": "code",
   "execution_count": 102,
   "id": "bc5bf810-6f8a-4522-9c63-97771badbfba",
   "metadata": {},
   "outputs": [],
   "source": [
    "str1=\" pwskills \""
   ]
  },
  {
   "cell_type": "code",
   "execution_count": 103,
   "id": "529fffe9-3edf-4371-97d2-143583095048",
   "metadata": {},
   "outputs": [
    {
     "data": {
      "text/plain": [
       "'pwskills'"
      ]
     },
     "execution_count": 103,
     "metadata": {},
     "output_type": "execute_result"
    }
   ],
   "source": [
    "str1.strip()"
   ]
  },
  {
   "cell_type": "code",
   "execution_count": 104,
   "id": "145066d4-b522-4a56-832a-ef0f325d3753",
   "metadata": {},
   "outputs": [
    {
     "data": {
      "text/plain": [
       "'pwskills '"
      ]
     },
     "execution_count": 104,
     "metadata": {},
     "output_type": "execute_result"
    }
   ],
   "source": [
    "str1.lstrip()"
   ]
  },
  {
   "cell_type": "code",
   "execution_count": 105,
   "id": "5a756d52-aab5-44ed-a43c-89767c6395bf",
   "metadata": {},
   "outputs": [
    {
     "data": {
      "text/plain": [
       "' pwskills'"
      ]
     },
     "execution_count": 105,
     "metadata": {},
     "output_type": "execute_result"
    }
   ],
   "source": [
    "str1.rstrip()"
   ]
  },
  {
   "cell_type": "markdown",
   "id": "99698afd-530c-4c84-830f-ea2ec28aa49f",
   "metadata": {},
   "source": [
    "# String is mutable, you cannot modify a character. You can modify a word in that string"
   ]
  },
  {
   "cell_type": "code",
   "execution_count": 106,
   "id": "70c3ed97-cd45-4f0f-957c-2a279890cc5f",
   "metadata": {},
   "outputs": [],
   "source": [
    "str2='Greeting to PWskills'"
   ]
  },
  {
   "cell_type": "code",
   "execution_count": 107,
   "id": "904c1a9d-f96e-4f7c-9031-063673d2b345",
   "metadata": {},
   "outputs": [
    {
     "data": {
      "text/plain": [
       "'Greeting from PWskills'"
      ]
     },
     "execution_count": 107,
     "metadata": {},
     "output_type": "execute_result"
    }
   ],
   "source": [
    "str2.replace('to','from')"
   ]
  },
  {
   "cell_type": "code",
   "execution_count": 108,
   "id": "13ee07b7-602c-49b8-a2ee-b0e6793ccdb9",
   "metadata": {},
   "outputs": [],
   "source": [
    "name='Yoga'"
   ]
  },
  {
   "cell_type": "code",
   "execution_count": 109,
   "id": "1b5bdd88-aa63-465e-a60b-e6a696b97272",
   "metadata": {},
   "outputs": [],
   "source": [
    "name='Lakshmi'"
   ]
  },
  {
   "cell_type": "code",
   "execution_count": 110,
   "id": "e61f595d-0a7e-4e25-9d93-650d750fb458",
   "metadata": {},
   "outputs": [
    {
     "ename": "TypeError",
     "evalue": "'str' object does not support item assignment",
     "output_type": "error",
     "traceback": [
      "\u001b[0;31m---------------------------------------------------------------------------\u001b[0m",
      "\u001b[0;31mTypeError\u001b[0m                                 Traceback (most recent call last)",
      "Cell \u001b[0;32mIn[110], line 1\u001b[0m\n\u001b[0;32m----> 1\u001b[0m \u001b[43mname\u001b[49m\u001b[43m[\u001b[49m\u001b[38;5;241;43m0\u001b[39;49m\u001b[43m]\u001b[49m\u001b[38;5;241m=\u001b[39m\u001b[38;5;124m'\u001b[39m\u001b[38;5;124mS\u001b[39m\u001b[38;5;124m'\u001b[39m \u001b[38;5;66;03m# immutable- gives error\u001b[39;00m\n",
      "\u001b[0;31mTypeError\u001b[0m: 'str' object does not support item assignment"
     ]
    }
   ],
   "source": [
    "name[0]='S' # immutable- gives error"
   ]
  },
  {
   "cell_type": "code",
   "execution_count": 111,
   "id": "4cdc5c01-77f0-44d5-a0ef-1705e2cb822d",
   "metadata": {},
   "outputs": [],
   "source": [
    "str3='I love India'\n",
    "str4=str3.replace('India','Australia')\n",
    "str5=str3.replace('I','U')"
   ]
  },
  {
   "cell_type": "code",
   "execution_count": 112,
   "id": "d326481d-d960-42a9-bec2-1333c21115ba",
   "metadata": {},
   "outputs": [
    {
     "data": {
      "text/plain": [
       "'U love Undia'"
      ]
     },
     "execution_count": 112,
     "metadata": {},
     "output_type": "execute_result"
    }
   ],
   "source": [
    "str5"
   ]
  },
  {
   "cell_type": "code",
   "execution_count": 113,
   "id": "dcfde7ab-2882-4ce5-bee8-7a3ceab8dff0",
   "metadata": {},
   "outputs": [
    {
     "data": {
      "text/plain": [
       "'hello world'"
      ]
     },
     "execution_count": 113,
     "metadata": {},
     "output_type": "execute_result"
    }
   ],
   "source": [
    "'hello world'"
   ]
  },
  {
   "cell_type": "code",
   "execution_count": 114,
   "id": "f04b24f9-953d-472f-af9c-5e5f3c6310d1",
   "metadata": {},
   "outputs": [
    {
     "data": {
      "text/plain": [
       "'test gmail.com'"
      ]
     },
     "execution_count": 114,
     "metadata": {},
     "output_type": "execute_result"
    }
   ],
   "source": [
    "str_n='test@gmail.com'\n",
    "var=str_n.replace('@',' ')\n",
    "var"
   ]
  },
  {
   "cell_type": "code",
   "execution_count": 115,
   "id": "1d6dfcde-4488-4b58-bc6a-1dd090a1ae22",
   "metadata": {},
   "outputs": [
    {
     "data": {
      "text/plain": [
       "'hello   world'"
      ]
     },
     "execution_count": 115,
     "metadata": {},
     "output_type": "execute_result"
    }
   ],
   "source": [
    "'hello \\tworld'.expandtabs()"
   ]
  },
  {
   "cell_type": "code",
   "execution_count": 116,
   "id": "25aa135b-b1d9-4393-9e21-73520e1c77fb",
   "metadata": {},
   "outputs": [
    {
     "data": {
      "text/plain": [
       "'Welcome to pwskills.Welcome to Data Science Masters'"
      ]
     },
     "execution_count": 116,
     "metadata": {},
     "output_type": "execute_result"
    }
   ],
   "source": [
    "str1='Welcome to pwskills.Welcome to Dat cience Masters'\n",
    "str1.replace('Dat','Data').replace('cience','Science')"
   ]
  },
  {
   "cell_type": "code",
   "execution_count": 117,
   "id": "ce4216db-908a-4476-b3ec-2d93047bc335",
   "metadata": {},
   "outputs": [
    {
     "data": {
      "text/plain": [
       "'Welcome to pwskills.Welcome to Dat cience Masters'"
      ]
     },
     "execution_count": 117,
     "metadata": {},
     "output_type": "execute_result"
    }
   ],
   "source": [
    "str1"
   ]
  },
  {
   "cell_type": "code",
   "execution_count": 118,
   "id": "e8165e6a-7207-4d87-9a66-e31f46bbebad",
   "metadata": {},
   "outputs": [
    {
     "data": {
      "text/plain": [
       "False"
      ]
     },
     "execution_count": 118,
     "metadata": {},
     "output_type": "execute_result"
    }
   ],
   "source": [
    "str1.isupper()"
   ]
  },
  {
   "cell_type": "code",
   "execution_count": 119,
   "id": "b17d17b2-a7c9-46ac-a44a-25a3ff19ee87",
   "metadata": {},
   "outputs": [
    {
     "data": {
      "text/plain": [
       "False"
      ]
     },
     "execution_count": 119,
     "metadata": {},
     "output_type": "execute_result"
    }
   ],
   "source": [
    "str1.islower()"
   ]
  },
  {
   "cell_type": "code",
   "execution_count": 120,
   "id": "f60bab29-a36e-48a3-902e-ce8f85317be2",
   "metadata": {},
   "outputs": [
    {
     "data": {
      "text/plain": [
       "False"
      ]
     },
     "execution_count": 120,
     "metadata": {},
     "output_type": "execute_result"
    }
   ],
   "source": [
    "str1.isspace()"
   ]
  },
  {
   "cell_type": "code",
   "execution_count": 121,
   "id": "a21d3830-33dd-441a-a805-c29d9ff76b5e",
   "metadata": {},
   "outputs": [
    {
     "data": {
      "text/plain": [
       "True"
      ]
     },
     "execution_count": 121,
     "metadata": {},
     "output_type": "execute_result"
    }
   ],
   "source": [
    "str2='KRISH'\n",
    "str2.isupper()"
   ]
  },
  {
   "cell_type": "code",
   "execution_count": 122,
   "id": "6b8188d2-42b4-4ebc-b5d3-722fd70bfa1a",
   "metadata": {},
   "outputs": [
    {
     "data": {
      "text/plain": [
       "True"
      ]
     },
     "execution_count": 122,
     "metadata": {},
     "output_type": "execute_result"
    }
   ],
   "source": [
    "str3=' '\n",
    "str3.isspace()"
   ]
  },
  {
   "cell_type": "code",
   "execution_count": 123,
   "id": "00d0c99e-7c5a-4607-8b55-b67a40f1960a",
   "metadata": {},
   "outputs": [
    {
     "data": {
      "text/plain": [
       "False"
      ]
     },
     "execution_count": 123,
     "metadata": {},
     "output_type": "execute_result"
    }
   ],
   "source": [
    "str2.isspace()"
   ]
  },
  {
   "cell_type": "code",
   "execution_count": 124,
   "id": "de28f777-08fc-4fec-91ab-a757b1309bdf",
   "metadata": {},
   "outputs": [
    {
     "name": "stdout",
     "output_type": "stream",
     "text": [
      "Hello\n"
     ]
    }
   ],
   "source": [
    "if str3.isspace():\n",
    "    print('Hello')"
   ]
  },
  {
   "cell_type": "code",
   "execution_count": 125,
   "id": "1aaf7002-9b1d-48ba-a9f5-576d709689d0",
   "metadata": {},
   "outputs": [],
   "source": [
    "str2='pwskills'"
   ]
  },
  {
   "cell_type": "code",
   "execution_count": 126,
   "id": "141f0568-26fe-40e4-b750-448a0066d77d",
   "metadata": {},
   "outputs": [
    {
     "data": {
      "text/plain": [
       "True"
      ]
     },
     "execution_count": 126,
     "metadata": {},
     "output_type": "execute_result"
    }
   ],
   "source": [
    "str2.endswith('s')"
   ]
  },
  {
   "cell_type": "code",
   "execution_count": 127,
   "id": "73259cd1-83ee-4b24-a513-e849b676bf74",
   "metadata": {},
   "outputs": [
    {
     "data": {
      "text/plain": [
       "False"
      ]
     },
     "execution_count": 127,
     "metadata": {},
     "output_type": "execute_result"
    }
   ],
   "source": [
    "str2.endswith('l')"
   ]
  },
  {
   "cell_type": "code",
   "execution_count": 128,
   "id": "83c4f783-1afe-45c0-8905-cca307b10f08",
   "metadata": {},
   "outputs": [
    {
     "data": {
      "text/plain": [
       "True"
      ]
     },
     "execution_count": 128,
     "metadata": {},
     "output_type": "execute_result"
    }
   ],
   "source": [
    "str2.startswith('p')"
   ]
  },
  {
   "cell_type": "code",
   "execution_count": 129,
   "id": "2aa42d9f-05a5-4cdf-9553-2ba055eaff9b",
   "metadata": {},
   "outputs": [
    {
     "data": {
      "text/plain": [
       "True"
      ]
     },
     "execution_count": 129,
     "metadata": {},
     "output_type": "execute_result"
    }
   ],
   "source": [
    "# Check if all the characters  in string are alphanumeric\n",
    "\n",
    "a='abcd1234'\n",
    "a.isalnum()"
   ]
  },
  {
   "cell_type": "code",
   "execution_count": 130,
   "id": "9641a471-a467-4292-b0e2-f9056e2c261b",
   "metadata": {},
   "outputs": [],
   "source": [
    "b='23456'\n"
   ]
  },
  {
   "cell_type": "code",
   "execution_count": 131,
   "id": "f46e520c-7b11-461c-8933-5aacb6f91dac",
   "metadata": {},
   "outputs": [
    {
     "data": {
      "text/plain": [
       "True"
      ]
     },
     "execution_count": 131,
     "metadata": {},
     "output_type": "execute_result"
    }
   ],
   "source": [
    "b.isnumeric()\n"
   ]
  },
  {
   "cell_type": "code",
   "execution_count": 132,
   "id": "4b9d2c73-f277-4fff-bb9e-884f43181fa3",
   "metadata": {},
   "outputs": [
    {
     "name": "stdout",
     "output_type": "stream",
     "text": [
      "49\n"
     ]
    }
   ],
   "source": [
    "# To count the number of characters in a string\n",
    "count=0\n",
    "for i in str1:\n",
    "    count=count+1\n",
    "    \n",
    "print(count)"
   ]
  },
  {
   "cell_type": "code",
   "execution_count": 133,
   "id": "85c1c63e-9a6d-4eea-b0b5-b0f53cd603ed",
   "metadata": {},
   "outputs": [
    {
     "data": {
      "text/plain": [
       "49"
      ]
     },
     "execution_count": 133,
     "metadata": {},
     "output_type": "execute_result"
    }
   ],
   "source": [
    "len(str1)"
   ]
  },
  {
   "cell_type": "code",
   "execution_count": 134,
   "id": "a24c1150-52e9-45d0-9c15-9fc364cbc34f",
   "metadata": {},
   "outputs": [
    {
     "data": {
      "text/plain": [
       "'pwskills'"
      ]
     },
     "execution_count": 134,
     "metadata": {},
     "output_type": "execute_result"
    }
   ],
   "source": [
    "str2"
   ]
  },
  {
   "cell_type": "code",
   "execution_count": 135,
   "id": "a74241c1-0d23-450f-806e-d2fda774887d",
   "metadata": {},
   "outputs": [
    {
     "name": "stdout",
     "output_type": "stream",
     "text": [
      "p\n",
      "w\n",
      "s\n",
      "k\n",
      "i\n",
      "l\n",
      "l\n",
      "s\n"
     ]
    }
   ],
   "source": [
    "for i in range(len(str2)):\n",
    "    print(str2[i])"
   ]
  },
  {
   "cell_type": "code",
   "execution_count": 136,
   "id": "91dffe53-6340-4db5-a139-73725d03ca33",
   "metadata": {},
   "outputs": [
    {
     "name": "stdout",
     "output_type": "stream",
     "text": [
      "p\n",
      "w\n",
      "s\n",
      "k\n",
      "i\n",
      "l\n",
      "l\n",
      "s\n"
     ]
    }
   ],
   "source": [
    "for i in str2:\n",
    "    print(i)"
   ]
  },
  {
   "cell_type": "code",
   "execution_count": 137,
   "id": "ff3a1fdf-8123-4ade-85fe-9bc8fdc95e03",
   "metadata": {},
   "outputs": [
    {
     "name": "stdout",
     "output_type": "stream",
     "text": [
      "s\n",
      "l\n",
      "l\n",
      "i\n",
      "k\n",
      "s\n",
      "w\n",
      "p\n"
     ]
    }
   ],
   "source": [
    "for i in range(len(str2)-1,-1,-1):\n",
    "     print(str2[i])\n"
   ]
  },
  {
   "cell_type": "code",
   "execution_count": 138,
   "id": "3d4f1a67-a45e-43a2-99f6-6e0b335c4553",
   "metadata": {},
   "outputs": [
    {
     "data": {
      "text/plain": [
       "8"
      ]
     },
     "execution_count": 138,
     "metadata": {},
     "output_type": "execute_result"
    }
   ],
   "source": [
    "len(str2)"
   ]
  },
  {
   "cell_type": "code",
   "execution_count": 139,
   "id": "12e6c2a2-0d09-48b1-aa3e-13be58d724bd",
   "metadata": {},
   "outputs": [
    {
     "name": "stdout",
     "output_type": "stream",
     "text": [
      "sllikswp"
     ]
    }
   ],
   "source": [
    "string='pwskills'\n",
    "ch=len(string)-1\n",
    "while ch>=0:\n",
    "    print(string[ch],end='')\n",
    "    ch=ch-1"
   ]
  },
  {
   "cell_type": "code",
   "execution_count": 140,
   "id": "b6b1f429-6d92-44a0-b801-b33e2d91240d",
   "metadata": {
    "tags": []
   },
   "outputs": [],
   "source": [
    "Name='pwskills'\n",
    "vowels='AaEeIiOoUu'"
   ]
  },
  {
   "cell_type": "code",
   "execution_count": 141,
   "id": "84c9707a-07a2-4b49-8e73-ce7275e876b7",
   "metadata": {},
   "outputs": [
    {
     "name": "stdout",
     "output_type": "stream",
     "text": [
      "i\n"
     ]
    }
   ],
   "source": [
    "for i in Name:\n",
    "    for j in vowels:\n",
    "        if j==i:\n",
    "            print(i)\n",
    "            continue"
   ]
  },
  {
   "cell_type": "markdown",
   "id": "14ca1877-0b4c-4a6b-a4ee-d819dbf547f9",
   "metadata": {},
   "source": [
    "# List"
   ]
  },
  {
   "cell_type": "code",
   "execution_count": 142,
   "id": "c8f43f65-2448-4d0a-a2b7-8cf02114a57f",
   "metadata": {},
   "outputs": [
    {
     "data": {
      "text/plain": [
       "list"
      ]
     },
     "execution_count": 142,
     "metadata": {},
     "output_type": "execute_result"
    }
   ],
   "source": [
    "type([])"
   ]
  },
  {
   "cell_type": "code",
   "execution_count": 143,
   "id": "f3bdfcf1-e52d-4d5e-b621-5f1cd3497fec",
   "metadata": {},
   "outputs": [
    {
     "data": {
      "text/plain": [
       "'C B A'"
      ]
     },
     "execution_count": 143,
     "metadata": {},
     "output_type": "execute_result"
    }
   ],
   "source": [
    "' '.join(reversed('ABC'))"
   ]
  },
  {
   "cell_type": "code",
   "execution_count": 144,
   "id": "74b84ea6-babd-4651-b900-19af4a9cb53f",
   "metadata": {},
   "outputs": [
    {
     "data": {
      "text/plain": [
       "['Vani', 'Kavin', 'Sethu', 'Viji', 'Kanna', 39]"
      ]
     },
     "execution_count": 144,
     "metadata": {},
     "output_type": "execute_result"
    }
   ],
   "source": [
    "[\"Vani\",'Kavin','Sethu','Viji','Kanna',39]"
   ]
  },
  {
   "cell_type": "code",
   "execution_count": 145,
   "id": "08b6d2c6-0415-4bde-bc2c-60c8e6382943",
   "metadata": {},
   "outputs": [
    {
     "data": {
      "text/plain": [
       "[1, 2, 3, 4, 5]"
      ]
     },
     "execution_count": 145,
     "metadata": {},
     "output_type": "execute_result"
    }
   ],
   "source": [
    "list([1,2,3,4,5])"
   ]
  },
  {
   "cell_type": "markdown",
   "id": "eac6d999-425f-4a7e-85e4-a5a20cb24c12",
   "metadata": {},
   "source": [
    "# List is mutable,ordered and iterable\n",
    "## List is an ordered collection of elements"
   ]
  },
  {
   "cell_type": "code",
   "execution_count": 146,
   "id": "dcf79f9d-581c-497c-8f84-61dd130f59ec",
   "metadata": {},
   "outputs": [],
   "source": [
    "str2='pwskills'"
   ]
  },
  {
   "cell_type": "code",
   "execution_count": 147,
   "id": "a377cd6c-e67c-459e-a14d-c831d1b03825",
   "metadata": {},
   "outputs": [
    {
     "data": {
      "text/plain": [
       "['p', 'w', 's', 'k', 'i', 'l', 'l', 's']"
      ]
     },
     "execution_count": 147,
     "metadata": {},
     "output_type": "execute_result"
    }
   ],
   "source": [
    "list(str2)"
   ]
  },
  {
   "cell_type": "code",
   "execution_count": 148,
   "id": "00bbc77f-015f-44c0-a6fd-6baef7355469",
   "metadata": {},
   "outputs": [],
   "source": [
    "str1='PW skills Data Science Masters'"
   ]
  },
  {
   "cell_type": "code",
   "execution_count": 149,
   "id": "2203c8c9-296b-4f25-a01d-3fde95f1eadc",
   "metadata": {},
   "outputs": [
    {
     "data": {
      "text/plain": [
       "['PW', 'skills', 'Data', 'Science', 'Masters']"
      ]
     },
     "execution_count": 149,
     "metadata": {},
     "output_type": "execute_result"
    }
   ],
   "source": [
    "list(str1.split(' '))"
   ]
  },
  {
   "cell_type": "code",
   "execution_count": 150,
   "id": "7da265ca-7ad0-429a-9068-339e8e7ff690",
   "metadata": {},
   "outputs": [
    {
     "data": {
      "text/plain": [
       "list"
      ]
     },
     "execution_count": 150,
     "metadata": {},
     "output_type": "execute_result"
    }
   ],
   "source": [
    "type(str1.split(' '))"
   ]
  },
  {
   "cell_type": "code",
   "execution_count": 151,
   "id": "83737c97-c477-4514-a034-0850006ce24a",
   "metadata": {},
   "outputs": [],
   "source": [
    "lst1=(str1.split(' '))"
   ]
  },
  {
   "cell_type": "code",
   "execution_count": null,
   "id": "a7fc31b4-1bc7-456e-b998-1d8e81723e40",
   "metadata": {},
   "outputs": [],
   "source": [
    "lst1[:]"
   ]
  },
  {
   "cell_type": "code",
   "execution_count": null,
   "id": "23752af9-5539-4686-a37d-f07847c9da47",
   "metadata": {},
   "outputs": [],
   "source": [
    "lst1[1:]"
   ]
  },
  {
   "cell_type": "code",
   "execution_count": null,
   "id": "4fa927ff-02e8-4b6f-987c-cff60f9badad",
   "metadata": {},
   "outputs": [],
   "source": [
    "lst1"
   ]
  },
  {
   "cell_type": "code",
   "execution_count": null,
   "id": "36f4a34b-50e6-478a-bdb5-61d8245592f3",
   "metadata": {},
   "outputs": [],
   "source": [
    "lst1[2]"
   ]
  },
  {
   "cell_type": "code",
   "execution_count": null,
   "id": "53c0a891-db92-4282-bbc1-7af5c14e5d0e",
   "metadata": {},
   "outputs": [],
   "source": [
    "lst1[2]='Datum'"
   ]
  },
  {
   "cell_type": "code",
   "execution_count": null,
   "id": "9ebdb15b-56b2-49ea-9a41-5f3d48c31f3a",
   "metadata": {},
   "outputs": [],
   "source": [
    "lst1"
   ]
  },
  {
   "cell_type": "code",
   "execution_count": null,
   "id": "a39f18a7-0e7a-4f1a-b639-3d61c08aa762",
   "metadata": {},
   "outputs": [],
   "source": [
    "lst1[3]"
   ]
  },
  {
   "cell_type": "code",
   "execution_count": null,
   "id": "1ab117bb-875c-415b-924d-07ccb8f10a7a",
   "metadata": {},
   "outputs": [],
   "source": [
    "lst1[::-2]"
   ]
  },
  {
   "cell_type": "code",
   "execution_count": null,
   "id": "988234eb-af3c-441d-8d04-fbd6a1fa5f26",
   "metadata": {},
   "outputs": [],
   "source": [
    "lst1[-4::-2]"
   ]
  },
  {
   "cell_type": "code",
   "execution_count": null,
   "id": "dc8d4430-da82-4527-802b-2555b5b3bfa5",
   "metadata": {},
   "outputs": [],
   "source": [
    "lst1[-5::-2]"
   ]
  },
  {
   "cell_type": "code",
   "execution_count": null,
   "id": "b059b178-7ce1-4889-be01-1c645bb77a9f",
   "metadata": {},
   "outputs": [],
   "source": [
    "lst1"
   ]
  },
  {
   "cell_type": "code",
   "execution_count": null,
   "id": "b9c8805a-a12c-4ce3-8b41-6a942cb49d1e",
   "metadata": {},
   "outputs": [],
   "source": [
    "# Concatenation operation\n",
    "# concatenation only with list\n",
    "lst1+['1',1]"
   ]
  },
  {
   "cell_type": "code",
   "execution_count": null,
   "id": "2bdd81a8-5d31-41c7-9578-d30927335508",
   "metadata": {},
   "outputs": [],
   "source": [
    "lst1=lst1+[['1',1]]\n"
   ]
  },
  {
   "cell_type": "code",
   "execution_count": null,
   "id": "07c569d6-a58e-4f4f-a488-d8c069a2cc6e",
   "metadata": {},
   "outputs": [],
   "source": [
    "lst1"
   ]
  },
  {
   "cell_type": "code",
   "execution_count": null,
   "id": "dd7d1441-c393-4707-9429-073dff5c5d1e",
   "metadata": {},
   "outputs": [],
   "source": [
    "lst1[5][0]"
   ]
  },
  {
   "cell_type": "code",
   "execution_count": null,
   "id": "a386fce2-ffbd-49e8-b11c-00447b95b1a5",
   "metadata": {},
   "outputs": [],
   "source": [
    "# Not an inplace process\n",
    "lst1 * 2"
   ]
  },
  {
   "cell_type": "code",
   "execution_count": null,
   "id": "fc5367f1-242e-42be-8743-f0617e801101",
   "metadata": {},
   "outputs": [],
   "source": [
    "'Science' in lst1"
   ]
  },
  {
   "cell_type": "code",
   "execution_count": null,
   "id": "7174af7f-253a-4917-b617-5e1411345fc5",
   "metadata": {},
   "outputs": [],
   "source": [
    "for i in lst1:\n",
    "    if 'Science'==i:\n",
    "        print(i)\n",
    "        break\n",
    "    print(i)\n",
    "        "
   ]
  },
  {
   "cell_type": "code",
   "execution_count": null,
   "id": "754876c9-bb2d-4f61-b1e9-8fa19b3c45ff",
   "metadata": {},
   "outputs": [],
   "source": [
    "# check elements in list"
   ]
  },
  {
   "cell_type": "code",
   "execution_count": null,
   "id": "77c2c88b-18f9-4fab-8aeb-4182acd54c1d",
   "metadata": {},
   "outputs": [],
   "source": [
    "lst=[1,2,3,4]\n",
    "4 in lst"
   ]
  },
  {
   "cell_type": "code",
   "execution_count": null,
   "id": "c2ce294d-8730-47bc-bb9d-8a0170eb5ffb",
   "metadata": {},
   "outputs": [],
   "source": [
    "5 in lst"
   ]
  },
  {
   "cell_type": "code",
   "execution_count": null,
   "id": "2e093b23-06a7-4f53-9be6-b7e409a645c0",
   "metadata": {},
   "outputs": [],
   "source": [
    "lst1=['Zebra','Monkey','Donkey','Lion']\n",
    "lst2=[5,6,2,9,5,8,6]"
   ]
  },
  {
   "cell_type": "code",
   "execution_count": null,
   "id": "f8b01eb8-66a8-4b61-9a7d-53ee0e78d428",
   "metadata": {},
   "outputs": [],
   "source": [
    "print(max(lst1)) # Checking the ascii character"
   ]
  },
  {
   "cell_type": "code",
   "execution_count": null,
   "id": "2a16b495-98f3-47e3-828b-500de6297a72",
   "metadata": {},
   "outputs": [],
   "source": [
    "max(lst2)"
   ]
  },
  {
   "cell_type": "code",
   "execution_count": null,
   "id": "2ba0528d-f233-441c-b143-e2e243e1db93",
   "metadata": {},
   "outputs": [],
   "source": [
    "min(lst1)"
   ]
  },
  {
   "cell_type": "code",
   "execution_count": null,
   "id": "7ccded16-856d-40c6-9ef2-a3ec0aa07f6b",
   "metadata": {},
   "outputs": [],
   "source": [
    "min(lst2)"
   ]
  },
  {
   "cell_type": "code",
   "execution_count": null,
   "id": "56ccbf4b-249a-4f0c-8cca-a5c413b347f7",
   "metadata": {},
   "outputs": [],
   "source": [
    "## Append the list"
   ]
  },
  {
   "cell_type": "code",
   "execution_count": null,
   "id": "7f344dd3-bb03-4a65-aa5d-dd494c022e2d",
   "metadata": {},
   "outputs": [],
   "source": [
    "lst1.append('Tiger') # Append is an in place operation"
   ]
  },
  {
   "cell_type": "code",
   "execution_count": null,
   "id": "7cb98035-b95b-4b31-81fc-0882b16bb3cd",
   "metadata": {},
   "outputs": [],
   "source": [
    "lst1"
   ]
  },
  {
   "cell_type": "code",
   "execution_count": null,
   "id": "002cc0b0-0090-4007-9475-d02462a62b93",
   "metadata": {},
   "outputs": [],
   "source": [
    "lst2.append([[5,2,3]])"
   ]
  },
  {
   "cell_type": "code",
   "execution_count": null,
   "id": "cf98a886-bfd7-4624-bd95-34de4752f7eb",
   "metadata": {},
   "outputs": [],
   "source": [
    "lst2"
   ]
  },
  {
   "cell_type": "code",
   "execution_count": null,
   "id": "cfd8b595-7a29-4e56-8706-4e8626172820",
   "metadata": {},
   "outputs": [],
   "source": [
    "lst2.pop() # inplace operation.. Removes the last element"
   ]
  },
  {
   "cell_type": "code",
   "execution_count": null,
   "id": "ce66db32-f013-44df-8944-a43bb347bc5e",
   "metadata": {},
   "outputs": [],
   "source": [
    "lst2"
   ]
  },
  {
   "cell_type": "code",
   "execution_count": null,
   "id": "95e80976-4acc-4f4f-9d42-04553507a9b6",
   "metadata": {},
   "outputs": [],
   "source": [
    "lst1.pop(2) # Donkey is rmeoved from position 2"
   ]
  },
  {
   "cell_type": "code",
   "execution_count": null,
   "id": "24eb52e0-9db0-42b4-9561-49dbcd2ea463",
   "metadata": {},
   "outputs": [],
   "source": [
    "removed_element=lst1.pop(2)"
   ]
  },
  {
   "cell_type": "code",
   "execution_count": null,
   "id": "670b9382-6954-4522-8859-43397cf838d5",
   "metadata": {},
   "outputs": [],
   "source": [
    "removed_element"
   ]
  },
  {
   "cell_type": "code",
   "execution_count": null,
   "id": "5cfb2845-3b70-4e91-9c2b-04da45639a13",
   "metadata": {},
   "outputs": [],
   "source": [
    "lst1[100]"
   ]
  },
  {
   "cell_type": "code",
   "execution_count": null,
   "id": "ecbfca4f-6fc5-4562-accc-602c577b419f",
   "metadata": {},
   "outputs": [],
   "source": [
    "## Sorting and reverse method in list"
   ]
  },
  {
   "cell_type": "code",
   "execution_count": null,
   "id": "e98ce9f3-3993-4de5-bdfb-6f2008a0c43c",
   "metadata": {},
   "outputs": [],
   "source": [
    "new_list=['q','e','f','s','t','u']"
   ]
  },
  {
   "cell_type": "code",
   "execution_count": null,
   "id": "7997cce0-0a64-4313-aca9-6876329cc28f",
   "metadata": {},
   "outputs": [],
   "source": [
    "new_list"
   ]
  },
  {
   "cell_type": "code",
   "execution_count": null,
   "id": "c1adc61f-3138-4bc9-9fbd-0783ee505dc7",
   "metadata": {},
   "outputs": [],
   "source": [
    "new_list[::-1]"
   ]
  },
  {
   "cell_type": "code",
   "execution_count": null,
   "id": "fef90116-e94a-4324-bc4f-076dc5b7cc86",
   "metadata": {},
   "outputs": [],
   "source": [
    "new_list.reverse() # inplace operation"
   ]
  },
  {
   "cell_type": "code",
   "execution_count": null,
   "id": "48a2ba76-8fb5-49eb-a3f9-3732f437e740",
   "metadata": {},
   "outputs": [],
   "source": [
    "new_list"
   ]
  },
  {
   "cell_type": "code",
   "execution_count": null,
   "id": "385fa6db-c454-419e-85e2-d2f38a06fe42",
   "metadata": {},
   "outputs": [],
   "source": [
    "new_list.sort() # inplace operation"
   ]
  },
  {
   "cell_type": "code",
   "execution_count": null,
   "id": "7616217a-d056-4c0c-9f0d-cb1e4f251110",
   "metadata": {},
   "outputs": [],
   "source": [
    "new_list"
   ]
  },
  {
   "cell_type": "markdown",
   "id": "70d0fc68-0e8f-4540-8c96-1a5c3255ab86",
   "metadata": {},
   "source": [
    "# Nested list"
   ]
  },
  {
   "cell_type": "code",
   "execution_count": null,
   "id": "e8514de6-2b0c-4401-a8b1-9ce2caacab7a",
   "metadata": {},
   "outputs": [],
   "source": [
    "lst2"
   ]
  },
  {
   "cell_type": "code",
   "execution_count": null,
   "id": "6ae98dcf-4ee7-498d-8000-30df2e422466",
   "metadata": {},
   "outputs": [],
   "source": [
    "lst2.append([5,2,3]) # gets added as a nested list with append"
   ]
  },
  {
   "cell_type": "code",
   "execution_count": null,
   "id": "e543c105-974f-4614-bf5f-b3f4ccd3ea1f",
   "metadata": {},
   "outputs": [],
   "source": [
    "lst2"
   ]
  },
  {
   "cell_type": "code",
   "execution_count": null,
   "id": "fc74b7eb-7f63-4709-b79a-78612eb1ccac",
   "metadata": {},
   "outputs": [],
   "source": [
    "lst2.pop()"
   ]
  },
  {
   "cell_type": "code",
   "execution_count": null,
   "id": "cd24dea5-0600-4f6a-a14c-e13ecc62bd80",
   "metadata": {},
   "outputs": [],
   "source": [
    "lst2.extend([5,2,3]) # Can add more than one element as a normal list without nesting"
   ]
  },
  {
   "cell_type": "code",
   "execution_count": null,
   "id": "0d37b135-8c02-492f-b2bf-693cbf91cfb6",
   "metadata": {},
   "outputs": [],
   "source": [
    "lst2"
   ]
  },
  {
   "cell_type": "code",
   "execution_count": null,
   "id": "c121e2d6-b669-4390-8012-185afb059c8a",
   "metadata": {},
   "outputs": [],
   "source": [
    "lst_1=[1,2,3]\n",
    "lst_2=[4,5,6]\n",
    "lst_3=[7,8,9]\n",
    "matrix=[lst_1,lst_2,lst_3]"
   ]
  },
  {
   "cell_type": "code",
   "execution_count": null,
   "id": "a26c719e-05ad-43a0-aad7-96cf7d8ecf15",
   "metadata": {},
   "outputs": [],
   "source": [
    "matrix"
   ]
  },
  {
   "cell_type": "code",
   "execution_count": null,
   "id": "bba7cd44-12d5-4f46-8a82-2da35392b7d3",
   "metadata": {},
   "outputs": [],
   "source": [
    "matrix[1][2]"
   ]
  },
  {
   "cell_type": "code",
   "execution_count": null,
   "id": "f5c93b0b-638f-4873-b6f6-5f5d53b4dcda",
   "metadata": {},
   "outputs": [],
   "source": [
    "matrix[2][1:]"
   ]
  },
  {
   "cell_type": "code",
   "execution_count": null,
   "id": "5c2e310d-2a51-495d-856a-2e9a38516ccb",
   "metadata": {},
   "outputs": [],
   "source": [
    "# List comprehension\n",
    "[i for i in range(20)]"
   ]
  },
  {
   "cell_type": "code",
   "execution_count": null,
   "id": "9a3f922e-ef34-4f00-b2f0-5b681eb1f2c6",
   "metadata": {},
   "outputs": [],
   "source": [
    "[i if i%2==0 else 'odd' for i in range(20) ] # Printing even or odd"
   ]
  },
  {
   "cell_type": "code",
   "execution_count": null,
   "id": "16c1f635-87a5-4cd8-8cb0-f32dedc5c474",
   "metadata": {},
   "outputs": [],
   "source": [
    "lst=[1,2,3,4,5,6,7,8]\n",
    "sum_even=0\n",
    "sum_odd=0\n",
    "for i in lst:\n",
    "    if i%2==0:\n",
    "        sum_even=sum_even+i\n",
    "        \n",
    "    else:\n",
    "        sum_odd=sum_odd+i\n",
    "        \n",
    "print(sum_even)\n",
    "print(sum_odd)"
   ]
  },
  {
   "cell_type": "code",
   "execution_count": null,
   "id": "042548a1-9855-48bb-b270-e2cd19782bd5",
   "metadata": {},
   "outputs": [],
   "source": [
    "even_sum=sum([num for num in lst if num%2==0])\n",
    "even_sum"
   ]
  },
  {
   "cell_type": "code",
   "execution_count": null,
   "id": "9bff8711-c8c6-4dea-a2fe-7703e6b041ca",
   "metadata": {},
   "outputs": [],
   "source": [
    "sum_odd=sum([num for num in lst if num%2!=0])\n",
    "sum_odd"
   ]
  },
  {
   "cell_type": "code",
   "execution_count": null,
   "id": "fd7a8cad-13de-4293-a91a-83b88d0930ee",
   "metadata": {},
   "outputs": [],
   "source": [
    "squ=[num*num for num in lst ]"
   ]
  },
  {
   "cell_type": "code",
   "execution_count": null,
   "id": "0e74460b-9789-46d2-ade1-c8ee3fc13d0e",
   "metadata": {},
   "outputs": [],
   "source": [
    "squ"
   ]
  },
  {
   "cell_type": "code",
   "execution_count": null,
   "id": "16a24d66-a44d-4273-9838-a102c4346f57",
   "metadata": {},
   "outputs": [],
   "source": [
    "num=[-2,-1,0,1,2,3,4]"
   ]
  },
  {
   "cell_type": "code",
   "execution_count": null,
   "id": "ba8d9d72-294e-40a2-9ec9-260725217a1d",
   "metadata": {},
   "outputs": [],
   "source": [
    "pos=[i for i in num if i>0]"
   ]
  },
  {
   "cell_type": "code",
   "execution_count": null,
   "id": "cc57aab5-7dbb-4ba9-afab-f523bb242f03",
   "metadata": {},
   "outputs": [],
   "source": [
    "pos"
   ]
  },
  {
   "cell_type": "code",
   "execution_count": null,
   "id": "a866d081-3126-4b45-82ec-2d48ef04ca99",
   "metadata": {},
   "outputs": [],
   "source": [
    "words=['apple','banana','cherry','date']"
   ]
  },
  {
   "cell_type": "code",
   "execution_count": null,
   "id": "d037304d-ce89-430f-a7f8-84387734f712",
   "metadata": {},
   "outputs": [],
   "source": [
    "fir=[wor[0]  for wor in words]"
   ]
  },
  {
   "cell_type": "code",
   "execution_count": null,
   "id": "047bfc74-0e3d-484d-8d11-1637f0494366",
   "metadata": {},
   "outputs": [],
   "source": [
    "fir"
   ]
  },
  {
   "cell_type": "code",
   "execution_count": null,
   "id": "2403e647-c4bc-411f-8de8-05bca4cb0242",
   "metadata": {},
   "outputs": [],
   "source": [
    "celsius=[0,10,20,30,40,50]\n",
    "fahrenheit = [((i * 9/5) + 32) for i in celsius]"
   ]
  },
  {
   "cell_type": "code",
   "execution_count": null,
   "id": "294a32be-12ad-4aa6-aad0-c76238eb8d9e",
   "metadata": {},
   "outputs": [],
   "source": [
    "fahrenheit"
   ]
  },
  {
   "cell_type": "code",
   "execution_count": null,
   "id": "24db0915-d19e-4b5e-96e1-e429ba753de5",
   "metadata": {},
   "outputs": [],
   "source": [
    "lists=[[1,2,3],[4,5,6],[7,8,9]]"
   ]
  },
  {
   "cell_type": "code",
   "execution_count": null,
   "id": "c5ae997a-1668-472b-8ba7-5a00eff34f11",
   "metadata": {},
   "outputs": [],
   "source": [
    "lis=[j for i in lists for j in i]"
   ]
  },
  {
   "cell_type": "code",
   "execution_count": null,
   "id": "0eeacd46-4781-41fb-b95e-4b883d60d649",
   "metadata": {},
   "outputs": [],
   "source": [
    "lis"
   ]
  },
  {
   "cell_type": "code",
   "execution_count": null,
   "id": "aba0ea77-7c5b-4066-aa4f-8f80882644be",
   "metadata": {},
   "outputs": [],
   "source": [
    "# Find the prime numbers in list below:\n",
    "num=[1,2,3,4,5,6,7,8,9,10]"
   ]
  },
  {
   "cell_type": "code",
   "execution_count": null,
   "id": "e5c216c9-09db-43ac-bf76-35f08e061031",
   "metadata": {},
   "outputs": [],
   "source": [
    "def is_prime(n):\n",
    "    if n <= 1:\n",
    "        return False\n",
    "    elif n <= 3:\n",
    "        return True\n",
    "    elif n % 2 == 0 or n % 3 == 0:\n",
    "        return False\n",
    "    i = 5\n",
    "    while i * i <= n:\n",
    "        if n % i == 0 or n % (i + 2) == 0:\n",
    "            return False\n",
    "        i += 6\n",
    "    return True"
   ]
  },
  {
   "cell_type": "code",
   "execution_count": null,
   "id": "3b5a826c-e783-4a44-9263-bc3ff73a5eb8",
   "metadata": {},
   "outputs": [],
   "source": [
    "lower_limit = 2\n",
    "upper_limit = 50\n",
    "\n",
    "prime_numbers = [num for num in range(lower_limit, upper_limit + 1) if is_prime(num)]\n",
    "print(prime_numbers)"
   ]
  },
  {
   "cell_type": "code",
   "execution_count": null,
   "id": "97ff535b-70f4-4a5b-bdd6-3891eaeb5879",
   "metadata": {},
   "outputs": [],
   "source": [
    "numbers = [1, 2, 3, 4, 5]\n",
    "\n",
    "combinations = [(numbers[i], numbers[j]) for i in range(len(numbers)) for j in range(i+1, len(numbers))]\n",
    "\n",
    "print(combinations)"
   ]
  },
  {
   "cell_type": "code",
   "execution_count": null,
   "id": "e4b4fd27-5c1d-472e-bedf-452e97fff0d4",
   "metadata": {},
   "outputs": [],
   "source": [
    "combi=[(numbers[i],numbers[j]) for i in range(len(numbers)) for j in range(i+1,len(numbers))]"
   ]
  },
  {
   "cell_type": "code",
   "execution_count": null,
   "id": "3778edce-ce42-412f-8eae-828688651113",
   "metadata": {},
   "outputs": [],
   "source": [
    "combi"
   ]
  },
  {
   "cell_type": "code",
   "execution_count": null,
   "id": "f3d1d166-747e-4a11-b3e2-a74f95ca2a69",
   "metadata": {},
   "outputs": [],
   "source": []
  }
 ],
 "metadata": {
  "kernelspec": {
   "display_name": "Python 3 (ipykernel)",
   "language": "python",
   "name": "python3"
  },
  "language_info": {
   "codemirror_mode": {
    "name": "ipython",
    "version": 3
   },
   "file_extension": ".py",
   "mimetype": "text/x-python",
   "name": "python",
   "nbconvert_exporter": "python",
   "pygments_lexer": "ipython3",
   "version": "3.10.8"
  }
 },
 "nbformat": 4,
 "nbformat_minor": 5
}
