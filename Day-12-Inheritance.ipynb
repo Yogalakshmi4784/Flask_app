{
 "cells": [
  {
   "cell_type": "code",
   "execution_count": 1,
   "id": "32037974-40a2-48f6-9429-3dc88359cf2d",
   "metadata": {},
   "outputs": [],
   "source": [
    "class parent:\n",
    "    def test_parent(self):\n",
    "        print('This is my parent class')"
   ]
  },
  {
   "cell_type": "code",
   "execution_count": 2,
   "id": "35db3d9a-d100-4f4e-a9fa-c4431b01017f",
   "metadata": {},
   "outputs": [],
   "source": [
    "class child(parent):\n",
    "    pass"
   ]
  },
  {
   "cell_type": "code",
   "execution_count": 3,
   "id": "8d2e6ba4-2613-4bff-9a6b-8082cb111a47",
   "metadata": {},
   "outputs": [],
   "source": [
    "child_obj=child()"
   ]
  },
  {
   "cell_type": "code",
   "execution_count": 4,
   "id": "86445c26-f292-4e9e-9f30-e0641620ed53",
   "metadata": {},
   "outputs": [
    {
     "name": "stdout",
     "output_type": "stream",
     "text": [
      "This is my parent class\n"
     ]
    }
   ],
   "source": [
    "child_obj.test_parent()"
   ]
  },
  {
   "cell_type": "markdown",
   "id": "1a0c3fbd-a3be-4afd-bf30-1d8d43cf7296",
   "metadata": {},
   "source": [
    "# Multilevel Inheritance"
   ]
  },
  {
   "cell_type": "code",
   "execution_count": 5,
   "id": "204aee11-5400-44ff-805b-a5878c58379d",
   "metadata": {},
   "outputs": [],
   "source": [
    "class class1:\n",
    "    def test_class1(self):\n",
    "        print('This is my vlass1')"
   ]
  },
  {
   "cell_type": "code",
   "execution_count": 7,
   "id": "4d2f9ed8-dc3d-4e9c-9d1b-0cfda15c9e9e",
   "metadata": {},
   "outputs": [],
   "source": [
    "class class2(class1):\n",
    "    def test_class2(self):\n",
    "        print('This is my class2')"
   ]
  },
  {
   "cell_type": "code",
   "execution_count": 8,
   "id": "a5343c99-7aa8-45f3-9137-98bef05788fd",
   "metadata": {},
   "outputs": [],
   "source": [
    "class class3(class2):\n",
    "    def test_class3(self):\n",
    "        print('This is my class3')"
   ]
  },
  {
   "cell_type": "code",
   "execution_count": 9,
   "id": "e754b461-71d8-4a4c-a45f-b302e805ad76",
   "metadata": {},
   "outputs": [],
   "source": [
    "class1_obj=class1()\n",
    "class2_obj=class2()\n",
    "class3_obj=class3()"
   ]
  },
  {
   "cell_type": "code",
   "execution_count": 12,
   "id": "ce0d3854-da30-419c-a436-cc53b68fa6fe",
   "metadata": {},
   "outputs": [
    {
     "name": "stdout",
     "output_type": "stream",
     "text": [
      "This is my vlass1\n"
     ]
    }
   ],
   "source": [
    "class3_obj.test_class1()"
   ]
  },
  {
   "cell_type": "code",
   "execution_count": 13,
   "id": "8bdee2c5-4ce0-44e6-b333-b4a64fef4a52",
   "metadata": {},
   "outputs": [
    {
     "name": "stdout",
     "output_type": "stream",
     "text": [
      "This is my class2\n"
     ]
    }
   ],
   "source": [
    "class3_obj.test_class2()"
   ]
  },
  {
   "cell_type": "code",
   "execution_count": 14,
   "id": "ccb93991-0532-4f25-8d39-2f4fd7d966fe",
   "metadata": {},
   "outputs": [
    {
     "name": "stdout",
     "output_type": "stream",
     "text": [
      "This is my class3\n"
     ]
    }
   ],
   "source": [
    "class3_obj.test_class3()"
   ]
  },
  {
   "cell_type": "markdown",
   "id": "bfa18901-6a48-4b85-9b5f-3ac8b5333359",
   "metadata": {},
   "source": [
    "# Multiple inheritance"
   ]
  },
  {
   "cell_type": "code",
   "execution_count": 2,
   "id": "cc04db56-5831-4ab8-a88e-16967dcd91d3",
   "metadata": {},
   "outputs": [],
   "source": [
    "class class1:\n",
    "    def test_class1(self):\n",
    "        print(\"this is my class1\")"
   ]
  },
  {
   "cell_type": "code",
   "execution_count": 3,
   "id": "25b21e65-f87d-4b59-b086-148f6bed5c94",
   "metadata": {},
   "outputs": [],
   "source": [
    "class class2:\n",
    "    def test_class2(self):\n",
    "        print(\"this is my class2\")"
   ]
  },
  {
   "cell_type": "code",
   "execution_count": 4,
   "id": "14c8bd98-52c2-4d62-adc2-8b54125e0d36",
   "metadata": {},
   "outputs": [],
   "source": [
    "class class3(class1,class2):\n",
    "   pass\n"
   ]
  },
  {
   "cell_type": "code",
   "execution_count": 7,
   "id": "9e28a04a-24d6-4650-97be-78285b32ccae",
   "metadata": {},
   "outputs": [],
   "source": [
    "obj_class3=class3()"
   ]
  },
  {
   "cell_type": "code",
   "execution_count": 8,
   "id": "ed04ce7f-a4df-4688-871f-0aeba290c968",
   "metadata": {},
   "outputs": [
    {
     "name": "stdout",
     "output_type": "stream",
     "text": [
      "this is my class1\n"
     ]
    }
   ],
   "source": [
    "obj_class3.test_class1()"
   ]
  },
  {
   "cell_type": "code",
   "execution_count": 9,
   "id": "764f0b06-7d90-4b2a-9ece-efc551a6a0ac",
   "metadata": {},
   "outputs": [
    {
     "name": "stdout",
     "output_type": "stream",
     "text": [
      "this is my class2\n"
     ]
    }
   ],
   "source": [
    "obj_class3.test_class2()"
   ]
  },
  {
   "cell_type": "code",
   "execution_count": null,
   "id": "2998b821-5077-4300-9dc6-5c895da044f9",
   "metadata": {},
   "outputs": [],
   "source": []
  }
 ],
 "metadata": {
  "kernelspec": {
   "display_name": "Python 3 (ipykernel)",
   "language": "python",
   "name": "python3"
  },
  "language_info": {
   "codemirror_mode": {
    "name": "ipython",
    "version": 3
   },
   "file_extension": ".py",
   "mimetype": "text/x-python",
   "name": "python",
   "nbconvert_exporter": "python",
   "pygments_lexer": "ipython3",
   "version": "3.10.8"
  }
 },
 "nbformat": 4,
 "nbformat_minor": 5
}
