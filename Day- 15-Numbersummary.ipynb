{
 "cells": [
  {
   "cell_type": "code",
   "execution_count": 2,
   "id": "6a0627b9-f6b2-4b03-9bba-f8ef24bc7eff",
   "metadata": {},
   "outputs": [],
   "source": [
    "# Min,max,median,IQR, Q1, Q3"
   ]
  },
  {
   "cell_type": "code",
   "execution_count": 3,
   "id": "cf76511f-0d09-420f-8c04-96bad69653c6",
   "metadata": {},
   "outputs": [],
   "source": [
    "import numpy as np\n"
   ]
  },
  {
   "cell_type": "code",
   "execution_count": 5,
   "id": "36ce7b65-af16-477c-bb5b-75b0fc6a0f03",
   "metadata": {},
   "outputs": [],
   "source": [
    "lst_marks=[45,32,56,75,89,54,32,89,90,87,67,54,45,98,99,67,74]\n",
    "minimum,Q1,median,Q3,maximum=np.quantile(lst_marks,[0,0.25,0.5,0.75,1])"
   ]
  },
  {
   "cell_type": "code",
   "execution_count": 7,
   "id": "8ecaf259-d625-4b40-9b9b-c4c499039470",
   "metadata": {},
   "outputs": [
    {
     "data": {
      "text/plain": [
       "(32.0, 54.0, 67.0, 89.0, 99.0)"
      ]
     },
     "execution_count": 7,
     "metadata": {},
     "output_type": "execute_result"
    }
   ],
   "source": [
    "minimum,Q1,median,Q3,maximum"
   ]
  },
  {
   "cell_type": "code",
   "execution_count": 8,
   "id": "dd6234af-c639-42af-b72a-424988add1e4",
   "metadata": {},
   "outputs": [],
   "source": [
    "IQR=Q3-Q1"
   ]
  },
  {
   "cell_type": "code",
   "execution_count": 9,
   "id": "c34d7623-eed2-4f0c-bbe3-f757b9fb1c55",
   "metadata": {},
   "outputs": [
    {
     "data": {
      "text/plain": [
       "35.0"
      ]
     },
     "execution_count": 9,
     "metadata": {},
     "output_type": "execute_result"
    }
   ],
   "source": [
    "IQR"
   ]
  },
  {
   "cell_type": "code",
   "execution_count": 10,
   "id": "dcd0fb9e-675c-4524-b499-7bee5891dc0c",
   "metadata": {},
   "outputs": [],
   "source": [
    "Lower_fence=Q1-1.5*IQR\n",
    "Higher_fence=Q3+1.5*IQR"
   ]
  },
  {
   "cell_type": "code",
   "execution_count": 11,
   "id": "8581673d-18c5-4d22-adf3-039d6b9a4847",
   "metadata": {},
   "outputs": [
    {
     "data": {
      "text/plain": [
       "(1.5, 141.5)"
      ]
     },
     "execution_count": 11,
     "metadata": {},
     "output_type": "execute_result"
    }
   ],
   "source": [
    "Lower_fence,Higher_fence"
   ]
  },
  {
   "cell_type": "code",
   "execution_count": 12,
   "id": "6ce3b79f-f5c2-4e2d-9854-c624986f7ec8",
   "metadata": {},
   "outputs": [],
   "source": [
    "import seaborn as sns"
   ]
  },
  {
   "cell_type": "code",
   "execution_count": 16,
   "id": "c14b8dee-f11e-4b30-b1af-cebd96841c09",
   "metadata": {},
   "outputs": [
    {
     "data": {
      "text/plain": [
       "<AxesSubplot: >"
      ]
     },
     "execution_count": 16,
     "metadata": {},
     "output_type": "execute_result"
    },
    {
     "data": {
      "image/png": "[encoded data removed]",
      "text/plain": [
       "<Figure size 640x480 with 1 Axes>"
      ]
     },
     "metadata": {},
     "output_type": "display_data"
    }
   ],
   "source": [
    "sns.boxplot(lst_marks,orient='h')"
   ]
  },
  {
   "cell_type": "code",
   "execution_count": null,
   "id": "af16ebf6-ac3c-49d4-9e54-2033115903ec",
   "metadata": {},
   "outputs": [],
   "source": []
  },
  {
   "cell_type": "code",
   "execution_count": 25,
   "id": "4ae976da-f078-4a93-b9e1-9fd5db79e4e3",
   "metadata": {},
   "outputs": [],
   "source": [
    "lst_marks=[45,32,56,75,89,54,32,89,90,87,67,54,45,98,99,67,74,150,-50,-25,200]"
   ]
  },
  {
   "cell_type": "code",
   "execution_count": 26,
   "id": "de214c2a-04cb-4589-8c61-8830e95c7129",
   "metadata": {},
   "outputs": [
    {
     "data": {
      "text/plain": [
       "<AxesSubplot: >"
      ]
     },
     "execution_count": 26,
     "metadata": {},
     "output_type": "execute_result"
    },
    {
     "data": {
      "image/png": "[encoded data removed]",
      "text/plain": [
       "<Figure size 640x480 with 1 Axes>"
      ]
     },
     "metadata": {},
     "output_type": "display_data"
    }
   ],
   "source": [
    "sns.boxplot(lst_marks,orient='h')"
   ]
  },
  {
   "cell_type": "code",
   "execution_count": null,
   "id": "977574fd-a445-4765-acf3-44f71c3a83cb",
   "metadata": {},
   "outputs": [],
   "source": []
  }
 ],
 "metadata": {
  "kernelspec": {
   "display_name": "Python 3 (ipykernel)",
   "language": "python",
   "name": "python3"
  },
  "language_info": {
   "codemirror_mode": {
    "name": "ipython",
    "version": 3
   },
   "file_extension": ".py",
   "mimetype": "text/x-python",
   "name": "python",
   "nbconvert_exporter": "python",
   "pygments_lexer": "ipython3",
   "version": "3.10.8"
  }
 },
 "nbformat": 4,
 "nbformat_minor": 5
}
